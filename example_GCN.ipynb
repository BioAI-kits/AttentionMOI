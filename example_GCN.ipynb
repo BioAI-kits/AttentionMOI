{
 "cells": [
  {
   "cell_type": "code",
   "execution_count": 1,
   "id": "07a8db0b",
   "metadata": {
    "ExecuteTime": {
     "end_time": "2022-06-20T09:01:01.985923Z",
     "start_time": "2022-06-20T09:01:00.898106Z"
    }
   },
   "outputs": [
    {
     "data": {
      "image/png": "[encoded data removed]",
      "text/plain": [
       "<Figure size 432x288 with 1 Axes>"
      ]
     },
     "metadata": {},
     "output_type": "display_data"
    }
   ],
   "source": [
    "from dgl.data import MiniGCDataset\n",
    "import matplotlib.pyplot as plt\n",
    "import networkx as nx\n",
    "# 数据集包含了80张图。每张图有10-20个节点\n",
    "dataset = MiniGCDataset(80, 10, 20)\n",
    "graph, label = dataset[0]\n",
    "fig, ax = plt.subplots()\n",
    "nx.draw(graph.to_networkx(), ax=ax)\n",
    "ax.set_title('Class: {:d}'.format(label))\n",
    "plt.show()"
   ]
  },
  {
   "cell_type": "code",
   "execution_count": 4,
   "id": "93575b06",
   "metadata": {
    "ExecuteTime": {
     "end_time": "2022-06-20T09:01:27.110749Z",
     "start_time": "2022-06-20T09:01:27.108284Z"
    }
   },
   "outputs": [],
   "source": [
    "import dgl\n",
    "\n",
    "def collate(samples):\n",
    "    # 输入`samples` 是一个列表\n",
    "    # 每个元素都是一个二元组 (图, 标签)\n",
    "    graphs, labels = map(list, zip(*samples))\n",
    "    batched_graph = dgl.batch(graphs)\n",
    "    return batched_graph, torch.tensor(labels)"
   ]
  },
  {
   "cell_type": "code",
   "execution_count": 5,
   "id": "f12e04bb",
   "metadata": {
    "ExecuteTime": {
     "end_time": "2022-06-20T09:01:41.284951Z",
     "start_time": "2022-06-20T09:01:41.282769Z"
    }
   },
   "outputs": [],
   "source": [
    "import dgl.function as fn\n",
    "import torch\n",
    "import torch.nn as nn\n",
    "\n",
    "# 将节点表示h作为信息发出\n",
    "msg = fn.copy_src(src='h', out='m')"
   ]
  },
  {
   "cell_type": "code",
   "execution_count": 6,
   "id": "229ebfc2",
   "metadata": {
    "ExecuteTime": {
     "end_time": "2022-06-20T09:01:58.239252Z",
     "start_time": "2022-06-20T09:01:58.237006Z"
    }
   },
   "outputs": [],
   "source": [
    "def reduce(nodes):\n",
    "    \"\"\"对所有邻节点节点特征求平均并覆盖原本的节点特征。\"\"\"\n",
    "    accum = torch.mean(nodes.mailbox['m'], 1)\n",
    "    return {'h': accum}"
   ]
  },
  {
   "cell_type": "code",
   "execution_count": 8,
   "id": "b70ffb6b",
   "metadata": {
    "ExecuteTime": {
     "end_time": "2022-06-20T09:02:39.449448Z",
     "start_time": "2022-06-20T09:02:39.411656Z"
    }
   },
   "outputs": [],
   "source": [
    "class NodeApplyModule(nn.Module):\n",
    "    \"\"\"将节点特征 hv 更新为 ReLU(Whv+b).\"\"\"\n",
    "    def __init__(self, in_feats, out_feats, activation):\n",
    "        super(NodeApplyModule, self).__init__()\n",
    "        self.linear = nn.Linear(in_feats, out_feats)\n",
    "        self.activation = activation\n",
    "\n",
    "    def forward(self, node):\n",
    "        h = self.linear(node.data['h'])\n",
    "        h = self.activation(h)\n",
    "        return {'h' : h}"
   ]
  },
  {
   "cell_type": "code",
   "execution_count": 10,
   "id": "10609391",
   "metadata": {
    "ExecuteTime": {
     "end_time": "2022-06-20T09:03:01.072237Z",
     "start_time": "2022-06-20T09:03:01.068652Z"
    }
   },
   "outputs": [],
   "source": [
    "class GCNLayer(nn.Module):\n",
    "    def __init__(self, in_feats, out_feats, activation):\n",
    "        super(GCNLayer, self).__init__()\n",
    "        self.apply_mod = NodeApplyModule(in_feats, out_feats, activation)\n",
    "\n",
    "    def forward(self, g, feature):\n",
    "        # 使用 h 初始化节点特征。\n",
    "        g.ndata['h'] = feature\n",
    "        # 使用 update_all接口和自定义的消息传递及累和函数更新节点表示。\n",
    "        g.update_all(msg, reduce)\n",
    "        g.apply_nodes(func=self.apply_mod)\n",
    "        return g.ndata.pop('h')"
   ]
  },
  {
   "cell_type": "code",
   "execution_count": 32,
   "id": "96cd9aaa",
   "metadata": {
    "ExecuteTime": {
     "end_time": "2022-06-20T09:12:28.813016Z",
     "start_time": "2022-06-20T09:12:28.806294Z"
    }
   },
   "outputs": [],
   "source": [
    "import dgl.nn.pytorch as dglnn\n",
    "import torch.nn as nn\n",
    "import torch.nn.functional as F\n",
    "\n",
    "class Classifier(nn.Module):\n",
    "    def __init__(self, in_dim, hidden_dim, n_classes):\n",
    "        super(Classifier, self).__init__()\n",
    "        self.conv1 = dglnn.GraphConv(in_dim, hidden_dim)\n",
    "        self.conv2 = dglnn.GraphConv(hidden_dim, hidden_dim)\n",
    "        self.classify = nn.Linear(hidden_dim, n_classes)\n",
    "\n",
    "    def forward(self, g):\n",
    "        h = g.in_degrees().view(-1, 1).float()\n",
    "        # 应用图卷积和激活函数\n",
    "        h = F.relu(self.conv1(g, h))\n",
    "        h = F.relu(self.conv2(g, h))\n",
    "        with g.local_scope():\n",
    "            g.ndata['h'] = h\n",
    "            # 使用平均读出计算图表示\n",
    "            hg = dgl.mean_nodes(g, 'h')\n",
    "            return self.classify(hg)"
   ]
  },
  {
   "cell_type": "code",
   "execution_count": 36,
   "id": "7d7e09ce",
   "metadata": {
    "ExecuteTime": {
     "end_time": "2022-06-20T09:15:04.444424Z",
     "start_time": "2022-06-20T09:15:04.439892Z"
    }
   },
   "outputs": [],
   "source": [
    "import torch.nn.functional as F\n",
    "\n",
    "class Classifier(nn.Module):\n",
    "    def __init__(self, in_dim, hidden_dim, n_classes):\n",
    "        super(Classifier, self).__init__()\n",
    "        # 两层图卷积层。\n",
    "        self.layers = nn.ModuleList([\n",
    "            GCNLayer(in_dim, hidden_dim, F.relu),\n",
    "            GCNLayer(hidden_dim, hidden_dim, F.relu)])\n",
    "        # 分类层。\n",
    "        self.classify = nn.Linear(hidden_dim, n_classes)\n",
    "\n",
    "    def forward(self, g, h='none'):\n",
    "        # 使用节点度数作为初始节点表示。\n",
    "        h = g.in_degrees().view(-1, 1).float()\n",
    "        # 图卷积层。\n",
    "        for conv in self.layers:\n",
    "            h = conv(g, h)\n",
    "        g.ndata['h'] = h\n",
    "        # 读出函数。\n",
    "        graph_repr = dgl.mean_nodes(g, 'h')\n",
    "        # 分类层。\n",
    "        return self.classify(graph_repr)"
   ]
  },
  {
   "cell_type": "code",
   "execution_count": 24,
   "id": "f9663d36",
   "metadata": {
    "ExecuteTime": {
     "end_time": "2022-06-20T09:09:39.824292Z",
     "start_time": "2022-06-20T09:09:39.803490Z"
    }
   },
   "outputs": [],
   "source": [
    "import torch.optim as optim\n",
    "from torch.utils.data import DataLoader\n",
    "\n",
    "# 创建一个训练数据集和测试数据集\n",
    "trainset = MiniGCDataset(320, 10, 20)\n",
    "testset = MiniGCDataset(80, 10, 20)\n",
    "# 使用 PyTorch 的 DataLoader 和之前定义的 collate 函数。\n",
    "data_loader = DataLoader(trainset, batch_size=32, shuffle=True,\n",
    "                         collate_fn=collate)"
   ]
  },
  {
   "cell_type": "code",
   "execution_count": 37,
   "id": "7756113e",
   "metadata": {
    "ExecuteTime": {
     "end_time": "2022-06-20T09:15:08.986255Z",
     "start_time": "2022-06-20T09:15:08.980791Z"
    }
   },
   "outputs": [
    {
     "data": {
      "text/plain": [
       "Classifier(\n",
       "  (layers): ModuleList(\n",
       "    (0): GCNLayer(\n",
       "      (apply_mod): NodeApplyModule(\n",
       "        (linear): Linear(in_features=1, out_features=256, bias=True)\n",
       "      )\n",
       "    )\n",
       "    (1): GCNLayer(\n",
       "      (apply_mod): NodeApplyModule(\n",
       "        (linear): Linear(in_features=256, out_features=256, bias=True)\n",
       "      )\n",
       "    )\n",
       "  )\n",
       "  (classify): Linear(in_features=256, out_features=8, bias=True)\n",
       ")"
      ]
     },
     "execution_count": 37,
     "metadata": {},
     "output_type": "execute_result"
    }
   ],
   "source": [
    "# 创建模型\n",
    "model = Classifier(1, 256, trainset.num_classes)\n",
    "loss_func = nn.CrossEntropyLoss()\n",
    "optimizer = optim.Adam(model.parameters(), lr=0.001)\n",
    "model.train()"
   ]
  },
  {
   "cell_type": "code",
   "execution_count": 38,
   "id": "527d3bc8",
   "metadata": {
    "ExecuteTime": {
     "end_time": "2022-06-20T09:15:22.770428Z",
     "start_time": "2022-06-20T09:15:11.365149Z"
    },
    "scrolled": true
   },
   "outputs": [
    {
     "name": "stdout",
     "output_type": "stream",
     "text": [
      "Epoch 0, loss 2.1527\n",
      "Epoch 1, loss 1.9239\n",
      "Epoch 2, loss 1.7827\n",
      "Epoch 3, loss 1.6993\n",
      "Epoch 4, loss 1.6490\n",
      "Epoch 5, loss 1.5170\n",
      "Epoch 6, loss 1.4690\n",
      "Epoch 7, loss 1.4262\n",
      "Epoch 8, loss 1.3272\n",
      "Epoch 9, loss 1.2695\n",
      "Epoch 10, loss 1.2044\n",
      "Epoch 11, loss 1.1734\n",
      "Epoch 12, loss 1.0998\n",
      "Epoch 13, loss 1.0613\n",
      "Epoch 14, loss 1.0107\n",
      "Epoch 15, loss 0.9930\n",
      "Epoch 16, loss 0.9676\n",
      "Epoch 17, loss 0.9376\n",
      "Epoch 18, loss 0.9026\n",
      "Epoch 19, loss 0.8827\n",
      "Epoch 20, loss 0.8618\n",
      "Epoch 21, loss 0.8443\n",
      "Epoch 22, loss 0.8249\n",
      "Epoch 23, loss 0.7959\n",
      "Epoch 24, loss 0.7890\n",
      "Epoch 25, loss 0.7667\n",
      "Epoch 26, loss 0.7610\n",
      "Epoch 27, loss 0.7790\n",
      "Epoch 28, loss 0.7335\n",
      "Epoch 29, loss 0.7247\n",
      "Epoch 30, loss 0.7065\n",
      "Epoch 31, loss 0.6948\n",
      "Epoch 32, loss 0.6852\n",
      "Epoch 33, loss 0.6615\n",
      "Epoch 34, loss 0.6579\n",
      "Epoch 35, loss 0.6845\n",
      "Epoch 36, loss 0.6486\n",
      "Epoch 37, loss 0.6527\n",
      "Epoch 38, loss 0.6387\n",
      "Epoch 39, loss 0.6016\n",
      "Epoch 40, loss 0.5863\n",
      "Epoch 41, loss 0.5882\n",
      "Epoch 42, loss 0.5876\n",
      "Epoch 43, loss 0.6042\n",
      "Epoch 44, loss 0.5779\n",
      "Epoch 45, loss 0.5550\n",
      "Epoch 46, loss 0.5331\n",
      "Epoch 47, loss 0.5372\n",
      "Epoch 48, loss 0.5159\n",
      "Epoch 49, loss 0.5178\n",
      "Epoch 50, loss 0.5211\n",
      "Epoch 51, loss 0.5137\n",
      "Epoch 52, loss 0.4998\n",
      "Epoch 53, loss 0.4909\n",
      "Epoch 54, loss 0.4774\n",
      "Epoch 55, loss 0.4724\n",
      "Epoch 56, loss 0.4713\n",
      "Epoch 57, loss 0.4579\n",
      "Epoch 58, loss 0.4835\n",
      "Epoch 59, loss 0.4565\n",
      "Epoch 60, loss 0.4773\n",
      "Epoch 61, loss 0.4590\n",
      "Epoch 62, loss 0.4449\n",
      "Epoch 63, loss 0.4298\n",
      "Epoch 64, loss 0.4628\n",
      "Epoch 65, loss 0.4320\n",
      "Epoch 66, loss 0.4142\n",
      "Epoch 67, loss 0.4139\n",
      "Epoch 68, loss 0.4140\n",
      "Epoch 69, loss 0.4082\n",
      "Epoch 70, loss 0.4168\n",
      "Epoch 71, loss 0.4049\n",
      "Epoch 72, loss 0.3930\n",
      "Epoch 73, loss 0.3856\n",
      "Epoch 74, loss 0.3837\n",
      "Epoch 75, loss 0.3935\n",
      "Epoch 76, loss 0.3906\n",
      "Epoch 77, loss 0.3805\n",
      "Epoch 78, loss 0.3935\n",
      "Epoch 79, loss 0.3767\n"
     ]
    }
   ],
   "source": [
    "epoch_losses = []\n",
    "for epoch in range(80):\n",
    "    epoch_loss = 0\n",
    "    for iter, (bg, label) in enumerate(data_loader):\n",
    "        prediction = model(bg)\n",
    "        loss = loss_func(prediction, label)\n",
    "        optimizer.zero_grad()\n",
    "        loss.backward()\n",
    "        optimizer.step()\n",
    "        epoch_loss += loss.detach().item()\n",
    "    epoch_loss /= (iter + 1)\n",
    "    print('Epoch {}, loss {:.4f}'.format(epoch, epoch_loss))\n",
    "    epoch_losses.append(epoch_loss)"
   ]
  },
  {
   "cell_type": "code",
   "execution_count": 42,
   "id": "b163bd48",
   "metadata": {
    "ExecuteTime": {
     "end_time": "2022-06-20T09:17:13.980863Z",
     "start_time": "2022-06-20T09:17:13.978090Z"
    }
   },
   "outputs": [
    {
     "data": {
      "text/plain": [
       "32"
      ]
     },
     "execution_count": 42,
     "metadata": {},
     "output_type": "execute_result"
    }
   ],
   "source": [
    "bg.batch_size"
   ]
  },
  {
   "cell_type": "code",
   "execution_count": 40,
   "id": "a32dfa24",
   "metadata": {
    "ExecuteTime": {
     "end_time": "2022-06-20T09:15:57.295023Z",
     "start_time": "2022-06-20T09:15:57.277279Z"
    }
   },
   "outputs": [
    {
     "data": {
      "text/plain": [
       "torch.Size([32, 8])"
      ]
     },
     "execution_count": 40,
     "metadata": {},
     "output_type": "execute_result"
    }
   ],
   "source": [
    "model(bg).shape"
   ]
  },
  {
   "cell_type": "code",
   "execution_count": 43,
   "id": "b2409fae",
   "metadata": {
    "ExecuteTime": {
     "end_time": "2022-06-20T09:19:06.113848Z",
     "start_time": "2022-06-20T09:19:06.109940Z"
    }
   },
   "outputs": [
    {
     "data": {
      "text/plain": [
       "(Graph(num_nodes=237, num_edges=711,\n",
       "       ndata_schemes={}\n",
       "       edata_schemes={}),\n",
       " tensor([0, 0, 0, 0, 0, 0, 0, 0, 0, 0, 0, 0, 0, 0, 0, 0]))"
      ]
     },
     "execution_count": 43,
     "metadata": {},
     "output_type": "execute_result"
    }
   ],
   "source": [
    "graphs, labels = zip(*[trainset[i] for i in range(16)])\n",
    "batched_graphs = dgl.batch(graphs)\n",
    "batched_labels = torch.tensor(labels)\n",
    "batched_graphs, batched_labels"
   ]
  },
  {
   "cell_type": "code",
   "execution_count": 46,
   "id": "7891e410",
   "metadata": {
    "ExecuteTime": {
     "end_time": "2022-06-20T09:19:58.537863Z",
     "start_time": "2022-06-20T09:19:58.534890Z"
    }
   },
   "outputs": [
    {
     "data": {
      "text/plain": [
       "tensor([15, 10, 13, 13, 17, 19, 13, 15, 12, 14, 17, 16, 18, 18, 11, 16])"
      ]
     },
     "execution_count": 46,
     "metadata": {},
     "output_type": "execute_result"
    }
   ],
   "source": [
    "batched_graphs.batch_num_nodes()"
   ]
  },
  {
   "cell_type": "code",
   "execution_count": 47,
   "id": "aa9c753c",
   "metadata": {
    "ExecuteTime": {
     "end_time": "2022-06-20T09:42:25.141549Z",
     "start_time": "2022-06-20T09:42:25.138727Z"
    }
   },
   "outputs": [
    {
     "data": {
      "text/plain": [
       "tensor([1, 2, 3])"
      ]
     },
     "execution_count": 47,
     "metadata": {},
     "output_type": "execute_result"
    }
   ],
   "source": [
    "torch.tensor([1,2,3])"
   ]
  }
 ],
 "metadata": {
  "kernelspec": {
   "display_name": "Python 3 (ipykernel)",
   "language": "python",
   "name": "python3"
  },
  "language_info": {
   "codemirror_mode": {
    "name": "ipython",
    "version": 3
   },
   "file_extension": ".py",
   "mimetype": "text/x-python",
   "name": "python",
   "nbconvert_exporter": "python",
   "pygments_lexer": "ipython3",
   "version": "3.8.12"
  },
  "toc": {
   "base_numbering": 1,
   "nav_menu": {},
   "number_sections": true,
   "sideBar": true,
   "skip_h1_title": false,
   "title_cell": "Table of Contents",
   "title_sidebar": "Contents",
   "toc_cell": false,
   "toc_position": {},
   "toc_section_display": true,
   "toc_window_display": false
  },
  "varInspector": {
   "cols": {
    "lenName": 16,
    "lenType": 16,
    "lenVar": 40
   },
   "kernels_config": {
    "python": {
     "delete_cmd_postfix": "",
     "delete_cmd_prefix": "del ",
     "library": "var_list.py",
     "varRefreshCmd": "print(var_dic_list())"
    },
    "r": {
     "delete_cmd_postfix": ") ",
     "delete_cmd_prefix": "rm(",
     "library": "var_list.r",
     "varRefreshCmd": "cat(var_dic_list()) "
    }
   },
   "types_to_exclude": [
    "module",
    "function",
    "builtin_function_or_method",
    "instance",
    "_Feature"
   ],
   "window_display": false
  }
 },
 "nbformat": 4,
 "nbformat_minor": 5
}
