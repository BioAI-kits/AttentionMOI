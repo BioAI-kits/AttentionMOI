{
 "cells": [
  {
   "cell_type": "code",
   "execution_count": 1,
   "id": "3743c8d2",
   "metadata": {
    "ExecuteTime": {
     "end_time": "2022-07-05T05:13:31.169554Z",
     "start_time": "2022-07-05T05:13:30.437045Z"
    }
   },
   "outputs": [],
   "source": [
    "import sys, os, argparse, warnings, time\n",
    "import numpy as np\n",
    "import pandas as pd\n",
    "import torch\n",
    "import torch.nn as nn\n",
    "import torch.nn.functional as F\n",
    "from data import *\n",
    "from util import *\n",
    "from module import DeepMOI"
   ]
  },
  {
   "cell_type": "code",
   "execution_count": 2,
   "id": "4eba0a11",
   "metadata": {
    "ExecuteTime": {
     "end_time": "2022-07-05T05:13:47.352859Z",
     "start_time": "2022-07-05T05:13:47.335836Z"
    }
   },
   "outputs": [],
   "source": [
    "def batch_idx(train_idx, minibatch):\n",
    "    \"\"\"To obtain batch index.\n",
    "    train_idx (list): index of training dataset.\n",
    "    minibatch (int): sample's number in each batch.\n",
    "\n",
    "    Return:\n",
    "        batch_idx (list): the element is list, i.e., index for each batch.\n",
    "    \"\"\"\n",
    "    batch_idx, m = [], 0\n",
    "    while True:\n",
    "        if (m+1)*minibatch < len(train_idx):\n",
    "            batch_idx.append(train_idx[m*minibatch:(m+1)*minibatch])\n",
    "        else:\n",
    "            batch_idx.append(train_idx[m*minibatch:])\n",
    "            break\n",
    "        m += 1\n",
    "    return batch_idx\n",
    "\n",
    "\n",
    "def data_split(labels, test_size):\n",
    "    \"\"\"To split dataset into training dataset and testing dataset.\n",
    "    Args:\n",
    "        labels (numpy): The labels of samples.\n",
    "        test_size (float, 0-1): The proportion of test data.\n",
    "    \n",
    "    Return:\n",
    "        (list) index of training data, index of testing data\n",
    "    \"\"\"\n",
    "    test_number = int(len(labels) * test_size)\n",
    "    idx = list(range(len(labels)))\n",
    "    np.random.shuffle(idx)\n",
    "    return idx[test_number:], idx[:test_number]\n",
    "\n"
   ]
  },
  {
   "cell_type": "code",
   "execution_count": 6,
   "id": "2a579622",
   "metadata": {
    "ExecuteTime": {
     "end_time": "2022-07-05T05:19:24.348445Z",
     "start_time": "2022-07-05T05:17:56.825488Z"
    }
   },
   "outputs": [
    {
     "name": "stdout",
     "output_type": "stream",
     "text": [
      "[INFO] Reading dataset. There are 2 omics data in total.\n",
      "\n",
      "[INFO] The overlaping genes number between omics and ppi dataset is: 14803\n",
      "\n"
     ]
    }
   ],
   "source": [
    "omics_files = ['./data/LGG/rna.csv.gz', './data/LGG/met.csv.gz']\n",
    "label_file = './data/LGG/label.csv'\n",
    "add_file = './data/LGG/mirna.csv.gz'\n",
    "network_file = 'default'\n",
    "\n",
    "print('[INFO] Reading dataset. There are {} omics data in total.\\n'.format(len(omics_files)))\n",
    "omics = read_omics(omics_files=omics_files, label_file=label_file, add_file=add_file)\n",
    "graph, labels, add_features, id_mapping = build_graph(omics=omics, label_file=label_file, add_file=add_file, network_file=network_file)\n",
    "omic_features = graph.ndata['h']"
   ]
  },
  {
   "cell_type": "code",
   "execution_count": 7,
   "id": "dcfaabd9",
   "metadata": {
    "ExecuteTime": {
     "end_time": "2022-07-05T05:19:30.658988Z",
     "start_time": "2022-07-05T05:19:29.818352Z"
    }
   },
   "outputs": [],
   "source": [
    "pathways = read_pathways(id_mapping=id_mapping, file='./Pathway/pathway_genes.gmt')"
   ]
  },
  {
   "cell_type": "markdown",
   "id": "f18ba880",
   "metadata": {},
   "source": [
    "# 模型参数"
   ]
  },
  {
   "cell_type": "code",
   "execution_count": 76,
   "id": "3d9f3ca6",
   "metadata": {
    "ExecuteTime": {
     "end_time": "2022-07-05T06:33:59.209898Z",
     "start_time": "2022-07-05T06:33:59.200168Z"
    }
   },
   "outputs": [],
   "source": [
    "import torch\n",
    "import torch.nn as nn\n",
    "import torch.nn.functional as F\n",
    "import dgl\n",
    "import dgl.nn.pytorch as dglnn\n",
    "from dgl.nn import Set2Set\n",
    "\n",
    "class DeepMOI(nn.Module):\n",
    "    def __init__(self, in_dim, pathway, add_features=None):\n",
    "        \"\"\"\n",
    "        in_dim: == omics' number\n",
    "        hidden_dim: == \n",
    "        \"\"\"\n",
    "        super(DeepMOI, self).__init__()\n",
    "        \n",
    "        hidden_dim1 = 256\n",
    "        hidden_dim2 = 64\n",
    "        \n",
    "        # GNN-1\n",
    "        self.gin_lin1 = torch.nn.Linear(in_dim, in_dim*3)\n",
    "        self.conv1 = dglnn.GINConv(self.gin_lin1, 'sum')\n",
    "        \n",
    "        # GNN-2\n",
    "        self.gin_lin2 = torch.nn.Linear(in_dim*3, in_dim*8)\n",
    "        self.conv2 = dglnn.GINConv(self.gin_lin2)\n",
    "        \n",
    "        # GNN-3\n",
    "        self.gin_lin3 = torch.nn.Linear(in_dim*8, in_dim*16)\n",
    "        self.conv3 = dglnn.GINConv(self.gin_lin3)\n",
    "        \n",
    "        # GNN-4\n",
    "        self.gin_lin4 = torch.nn.Linear(in_dim*16, in_dim*32)\n",
    "        self.conv4 = dglnn.GINConv(self.gin_lin4)\n",
    "\n",
    "        # GlobalPooling\n",
    "        self.sns1 = Set2Set(in_dim*32, 2, 1)\n",
    "        self.sns2 = Set2Set(in_dim*32, 2, 1)\n",
    "        self.sns3 = Set2Set(in_dim*32, 2, 1)\n",
    "        self.ln_gpool = nn.Linear(in_dim*32*2*3, 1)\n",
    "        \n",
    "        # MLP\n",
    "        if add_features == None:\n",
    "            self.lin1 = nn.Linear(len(pathway), hidden_dim1)  # not including clinical features \n",
    "        else:\n",
    "            add_num = add_features.shape[1]\n",
    "            self.lin1 = nn.Linear(len(pathway) + add_num, hidden_dim1)  # including clinical features    \n",
    "        self.lin2 = nn.Linear(hidden_dim1, hidden_dim2)\n",
    "        self.lin3 = nn.Linear(hidden_dim2, 1)\n",
    "        \n",
    "        # other args\n",
    "        self.pathway = pathway\n",
    "\n",
    "\n",
    "    def forward(self, g, h, c=None):\n",
    "        \n",
    "        # subnetwork1: GRL layers\n",
    "        h = F.relu(self.conv1(g, h))\n",
    "        h = F.relu(self.conv2(g, h))\n",
    "        h = F.relu(self.conv3(g, h))\n",
    "        h = F.relu(self.conv4(g, h))\n",
    "        # subnetwork2: patyway layers\n",
    "        with g.local_scope():\n",
    "            g.ndata['h'] = h\n",
    "            # global pooling with Set2Set: output dim = 2*node_dim\n",
    "            subgraphs = [dgl.node_subgraph(g, n) for n in self.pathway.values()]\n",
    "            graphs_ = dgl.batch(subgraphs)\n",
    "            readout1 =  self.sns1(graphs_, graphs_.ndata['h'])\n",
    "            readout2 =  self.sns2(graphs_, graphs_.ndata['h'])\n",
    "            readout3 =  self.sns3(graphs_, graphs_.ndata['h'])\n",
    "            readout = torch.stack([readout1, readout2, readout3], dim=1)\n",
    "            readout = readout.reshape(readout.shape[0], -1)\n",
    "            print(readout.shape)\n",
    "            # compute pathway score\n",
    "            x = self.ln_gpool(readout)\n",
    "            \n",
    "            # additional features\n",
    "            if c != None:\n",
    "                x = torch.cat([x, c], dim=0)\n",
    "            \n",
    "            # reshape\n",
    "            x = x.reshape(1,-1)  # add features\n",
    "            \n",
    "            # linear-1\n",
    "            x = nn.Tanh()(self.lin1(x))\n",
    "            \n",
    "            x = nn.Dropout(p=0.2)(x)\n",
    "            \n",
    "            # linear-2\n",
    "            x = nn.ReLU()(self.lin2(x))\n",
    "\n",
    "            # linear-3\n",
    "            logit = nn.Sigmoid()(self.lin3(x))\n",
    "\n",
    "            return logit"
   ]
  },
  {
   "cell_type": "code",
   "execution_count": 96,
   "id": "7979c6f9",
   "metadata": {
    "ExecuteTime": {
     "end_time": "2022-07-05T07:45:33.849815Z",
     "start_time": "2022-07-05T07:45:33.824170Z"
    },
    "scrolled": true
   },
   "outputs": [
    {
     "ename": "RuntimeError",
     "evalue": "Expected all tensors to be on the same device, but found at least two devices, cuda:0 and cpu!",
     "output_type": "error",
     "traceback": [
      "\u001b[0;31m---------------------------------------------------------------------------\u001b[0m",
      "\u001b[0;31mRuntimeError\u001b[0m                              Traceback (most recent call last)",
      "\u001b[0;32m/tmp/ipykernel_8268/1543636687.py\u001b[0m in \u001b[0;36m<module>\u001b[0;34m\u001b[0m\n\u001b[1;32m      2\u001b[0m \u001b[0;34m\u001b[0m\u001b[0m\n\u001b[1;32m      3\u001b[0m \u001b[0mi\u001b[0m \u001b[0;34m=\u001b[0m \u001b[0;36m0\u001b[0m\u001b[0;34m\u001b[0m\u001b[0;34m\u001b[0m\u001b[0m\n\u001b[0;32m----> 4\u001b[0;31m \u001b[0mmodel\u001b[0m\u001b[0;34m(\u001b[0m\u001b[0mg\u001b[0m\u001b[0;34m=\u001b[0m\u001b[0mgraph\u001b[0m\u001b[0;34m,\u001b[0m \u001b[0mh\u001b[0m\u001b[0;34m=\u001b[0m\u001b[0momic_features\u001b[0m\u001b[0;34m[\u001b[0m\u001b[0;34m:\u001b[0m\u001b[0;34m,\u001b[0m \u001b[0mi\u001b[0m\u001b[0;34m,\u001b[0m \u001b[0;34m:\u001b[0m\u001b[0;34m]\u001b[0m\u001b[0;34m,\u001b[0m \u001b[0mc\u001b[0m\u001b[0;34m=\u001b[0m\u001b[0madd_features\u001b[0m\u001b[0;34m[\u001b[0m\u001b[0mi\u001b[0m\u001b[0;34m]\u001b[0m\u001b[0;34m)\u001b[0m\u001b[0;34m\u001b[0m\u001b[0;34m\u001b[0m\u001b[0m\n\u001b[0m",
      "\u001b[0;32m~/miniconda3/envs/pyg/lib/python3.8/site-packages/torch/nn/modules/module.py\u001b[0m in \u001b[0;36m_call_impl\u001b[0;34m(self, *input, **kwargs)\u001b[0m\n\u001b[1;32m    887\u001b[0m             \u001b[0mresult\u001b[0m \u001b[0;34m=\u001b[0m \u001b[0mself\u001b[0m\u001b[0;34m.\u001b[0m\u001b[0m_slow_forward\u001b[0m\u001b[0;34m(\u001b[0m\u001b[0;34m*\u001b[0m\u001b[0minput\u001b[0m\u001b[0;34m,\u001b[0m \u001b[0;34m**\u001b[0m\u001b[0mkwargs\u001b[0m\u001b[0;34m)\u001b[0m\u001b[0;34m\u001b[0m\u001b[0;34m\u001b[0m\u001b[0m\n\u001b[1;32m    888\u001b[0m         \u001b[0;32melse\u001b[0m\u001b[0;34m:\u001b[0m\u001b[0;34m\u001b[0m\u001b[0;34m\u001b[0m\u001b[0m\n\u001b[0;32m--> 889\u001b[0;31m             \u001b[0mresult\u001b[0m \u001b[0;34m=\u001b[0m \u001b[0mself\u001b[0m\u001b[0;34m.\u001b[0m\u001b[0mforward\u001b[0m\u001b[0;34m(\u001b[0m\u001b[0;34m*\u001b[0m\u001b[0minput\u001b[0m\u001b[0;34m,\u001b[0m \u001b[0;34m**\u001b[0m\u001b[0mkwargs\u001b[0m\u001b[0;34m)\u001b[0m\u001b[0;34m\u001b[0m\u001b[0;34m\u001b[0m\u001b[0m\n\u001b[0m\u001b[1;32m    890\u001b[0m         for hook in itertools.chain(\n\u001b[1;32m    891\u001b[0m                 \u001b[0m_global_forward_hooks\u001b[0m\u001b[0;34m.\u001b[0m\u001b[0mvalues\u001b[0m\u001b[0;34m(\u001b[0m\u001b[0;34m)\u001b[0m\u001b[0;34m,\u001b[0m\u001b[0;34m\u001b[0m\u001b[0;34m\u001b[0m\u001b[0m\n",
      "\u001b[0;32m/tmp/ipykernel_8268/2134397464.py\u001b[0m in \u001b[0;36mforward\u001b[0;34m(self, g, h, c)\u001b[0m\n\u001b[1;32m     55\u001b[0m \u001b[0;34m\u001b[0m\u001b[0m\n\u001b[1;32m     56\u001b[0m         \u001b[0;31m# subnetwork1: GRL layers\u001b[0m\u001b[0;34m\u001b[0m\u001b[0;34m\u001b[0m\u001b[0;34m\u001b[0m\u001b[0m\n\u001b[0;32m---> 57\u001b[0;31m         \u001b[0mh\u001b[0m \u001b[0;34m=\u001b[0m \u001b[0mF\u001b[0m\u001b[0;34m.\u001b[0m\u001b[0mrelu\u001b[0m\u001b[0;34m(\u001b[0m\u001b[0mself\u001b[0m\u001b[0;34m.\u001b[0m\u001b[0mconv1\u001b[0m\u001b[0;34m(\u001b[0m\u001b[0mg\u001b[0m\u001b[0;34m,\u001b[0m \u001b[0mh\u001b[0m\u001b[0;34m)\u001b[0m\u001b[0;34m)\u001b[0m\u001b[0;34m\u001b[0m\u001b[0;34m\u001b[0m\u001b[0m\n\u001b[0m\u001b[1;32m     58\u001b[0m         \u001b[0mh\u001b[0m \u001b[0;34m=\u001b[0m \u001b[0mF\u001b[0m\u001b[0;34m.\u001b[0m\u001b[0mrelu\u001b[0m\u001b[0;34m(\u001b[0m\u001b[0mself\u001b[0m\u001b[0;34m.\u001b[0m\u001b[0mconv2\u001b[0m\u001b[0;34m(\u001b[0m\u001b[0mg\u001b[0m\u001b[0;34m,\u001b[0m \u001b[0mh\u001b[0m\u001b[0;34m)\u001b[0m\u001b[0;34m)\u001b[0m\u001b[0;34m\u001b[0m\u001b[0;34m\u001b[0m\u001b[0m\n\u001b[1;32m     59\u001b[0m         \u001b[0mh\u001b[0m \u001b[0;34m=\u001b[0m \u001b[0mF\u001b[0m\u001b[0;34m.\u001b[0m\u001b[0mrelu\u001b[0m\u001b[0;34m(\u001b[0m\u001b[0mself\u001b[0m\u001b[0;34m.\u001b[0m\u001b[0mconv3\u001b[0m\u001b[0;34m(\u001b[0m\u001b[0mg\u001b[0m\u001b[0;34m,\u001b[0m \u001b[0mh\u001b[0m\u001b[0;34m)\u001b[0m\u001b[0;34m)\u001b[0m\u001b[0;34m\u001b[0m\u001b[0;34m\u001b[0m\u001b[0m\n",
      "\u001b[0;32m~/miniconda3/envs/pyg/lib/python3.8/site-packages/torch/nn/modules/module.py\u001b[0m in \u001b[0;36m_call_impl\u001b[0;34m(self, *input, **kwargs)\u001b[0m\n\u001b[1;32m    887\u001b[0m             \u001b[0mresult\u001b[0m \u001b[0;34m=\u001b[0m \u001b[0mself\u001b[0m\u001b[0;34m.\u001b[0m\u001b[0m_slow_forward\u001b[0m\u001b[0;34m(\u001b[0m\u001b[0;34m*\u001b[0m\u001b[0minput\u001b[0m\u001b[0;34m,\u001b[0m \u001b[0;34m**\u001b[0m\u001b[0mkwargs\u001b[0m\u001b[0;34m)\u001b[0m\u001b[0;34m\u001b[0m\u001b[0;34m\u001b[0m\u001b[0m\n\u001b[1;32m    888\u001b[0m         \u001b[0;32melse\u001b[0m\u001b[0;34m:\u001b[0m\u001b[0;34m\u001b[0m\u001b[0;34m\u001b[0m\u001b[0m\n\u001b[0;32m--> 889\u001b[0;31m             \u001b[0mresult\u001b[0m \u001b[0;34m=\u001b[0m \u001b[0mself\u001b[0m\u001b[0;34m.\u001b[0m\u001b[0mforward\u001b[0m\u001b[0;34m(\u001b[0m\u001b[0;34m*\u001b[0m\u001b[0minput\u001b[0m\u001b[0;34m,\u001b[0m \u001b[0;34m**\u001b[0m\u001b[0mkwargs\u001b[0m\u001b[0;34m)\u001b[0m\u001b[0;34m\u001b[0m\u001b[0;34m\u001b[0m\u001b[0m\n\u001b[0m\u001b[1;32m    890\u001b[0m         for hook in itertools.chain(\n\u001b[1;32m    891\u001b[0m                 \u001b[0m_global_forward_hooks\u001b[0m\u001b[0;34m.\u001b[0m\u001b[0mvalues\u001b[0m\u001b[0;34m(\u001b[0m\u001b[0;34m)\u001b[0m\u001b[0;34m,\u001b[0m\u001b[0;34m\u001b[0m\u001b[0;34m\u001b[0m\u001b[0m\n",
      "\u001b[0;32m~/miniconda3/envs/pyg/lib/python3.8/site-packages/dgl/nn/pytorch/conv/ginconv.py\u001b[0m in \u001b[0;36mforward\u001b[0;34m(self, graph, feat, edge_weight)\u001b[0m\n\u001b[1;32m    146\u001b[0m             \u001b[0mgraph\u001b[0m\u001b[0;34m.\u001b[0m\u001b[0msrcdata\u001b[0m\u001b[0;34m[\u001b[0m\u001b[0;34m'h'\u001b[0m\u001b[0;34m]\u001b[0m \u001b[0;34m=\u001b[0m \u001b[0mfeat_src\u001b[0m\u001b[0;34m\u001b[0m\u001b[0;34m\u001b[0m\u001b[0m\n\u001b[1;32m    147\u001b[0m             \u001b[0mgraph\u001b[0m\u001b[0;34m.\u001b[0m\u001b[0mupdate_all\u001b[0m\u001b[0;34m(\u001b[0m\u001b[0maggregate_fn\u001b[0m\u001b[0;34m,\u001b[0m \u001b[0m_reducer\u001b[0m\u001b[0;34m(\u001b[0m\u001b[0;34m'm'\u001b[0m\u001b[0;34m,\u001b[0m \u001b[0;34m'neigh'\u001b[0m\u001b[0;34m)\u001b[0m\u001b[0;34m)\u001b[0m\u001b[0;34m\u001b[0m\u001b[0;34m\u001b[0m\u001b[0m\n\u001b[0;32m--> 148\u001b[0;31m             \u001b[0mrst\u001b[0m \u001b[0;34m=\u001b[0m \u001b[0;34m(\u001b[0m\u001b[0;36m1\u001b[0m \u001b[0;34m+\u001b[0m \u001b[0mself\u001b[0m\u001b[0;34m.\u001b[0m\u001b[0meps\u001b[0m\u001b[0;34m)\u001b[0m \u001b[0;34m*\u001b[0m \u001b[0mfeat_dst\u001b[0m \u001b[0;34m+\u001b[0m \u001b[0mgraph\u001b[0m\u001b[0;34m.\u001b[0m\u001b[0mdstdata\u001b[0m\u001b[0;34m[\u001b[0m\u001b[0;34m'neigh'\u001b[0m\u001b[0;34m]\u001b[0m\u001b[0;34m\u001b[0m\u001b[0;34m\u001b[0m\u001b[0m\n\u001b[0m\u001b[1;32m    149\u001b[0m             \u001b[0;32mif\u001b[0m \u001b[0mself\u001b[0m\u001b[0;34m.\u001b[0m\u001b[0mapply_func\u001b[0m \u001b[0;32mis\u001b[0m \u001b[0;32mnot\u001b[0m \u001b[0;32mNone\u001b[0m\u001b[0;34m:\u001b[0m\u001b[0;34m\u001b[0m\u001b[0;34m\u001b[0m\u001b[0m\n\u001b[1;32m    150\u001b[0m                 \u001b[0mrst\u001b[0m \u001b[0;34m=\u001b[0m \u001b[0mself\u001b[0m\u001b[0;34m.\u001b[0m\u001b[0mapply_func\u001b[0m\u001b[0;34m(\u001b[0m\u001b[0mrst\u001b[0m\u001b[0;34m)\u001b[0m\u001b[0;34m\u001b[0m\u001b[0;34m\u001b[0m\u001b[0m\n",
      "\u001b[0;31mRuntimeError\u001b[0m: Expected all tensors to be on the same device, but found at least two devices, cuda:0 and cpu!"
     ]
    }
   ],
   "source": [
    "model = DeepMOI(in_dim=len(omics_files), pathway=pathways, add_features=add_features)\n",
    "\n",
    "i = 0\n",
    "model(g=graph, h=omic_features[:, i, :], c=add_features[i])"
   ]
  },
  {
   "cell_type": "code",
   "execution_count": 78,
   "id": "84d2f7bf",
   "metadata": {
    "ExecuteTime": {
     "end_time": "2022-07-05T06:34:05.454649Z",
     "start_time": "2022-07-05T06:34:05.452366Z"
    }
   },
   "outputs": [
    {
     "name": "stdout",
     "output_type": "stream",
     "text": [
      "# Model parameters: 590820\n"
     ]
    }
   ],
   "source": [
    "print('# Model parameters:', sum(param.numel() for param in model.parameters()))"
   ]
  },
  {
   "cell_type": "code",
   "execution_count": 83,
   "id": "e5060168",
   "metadata": {
    "ExecuteTime": {
     "end_time": "2022-07-05T07:44:35.255977Z",
     "start_time": "2022-07-05T07:44:32.727449Z"
    }
   },
   "outputs": [],
   "source": [
    "# to device\n",
    "device = 'cuda'\n",
    "graph = graph.to(device)\n",
    "omic_features = omic_features.to(device)\n",
    "if add_features != None:\n",
    "    add_features = add_features.to(device)"
   ]
  },
  {
   "cell_type": "code",
   "execution_count": 100,
   "id": "471b76b6",
   "metadata": {
    "ExecuteTime": {
     "end_time": "2022-07-05T07:45:50.354260Z",
     "start_time": "2022-07-05T07:45:50.351257Z"
    }
   },
   "outputs": [],
   "source": [
    "model = model.to(device)"
   ]
  },
  {
   "cell_type": "code",
   "execution_count": 101,
   "id": "9acedfba",
   "metadata": {
    "ExecuteTime": {
     "end_time": "2022-07-05T07:45:51.244541Z",
     "start_time": "2022-07-05T07:45:50.660153Z"
    }
   },
   "outputs": [
    {
     "name": "stdout",
     "output_type": "stream",
     "text": [
      "torch.Size([857, 384])\n"
     ]
    },
    {
     "data": {
      "text/plain": [
       "tensor([[0.4444]], device='cuda:0', grad_fn=<SigmoidBackward>)"
      ]
     },
     "execution_count": 101,
     "metadata": {},
     "output_type": "execute_result"
    }
   ],
   "source": [
    "i = 0\n",
    "model(g=graph, h=omic_features[:, i, :], c=add_features[i])"
   ]
  },
  {
   "cell_type": "code",
   "execution_count": 102,
   "id": "88c03547",
   "metadata": {
    "ExecuteTime": {
     "end_time": "2022-07-05T07:46:08.967793Z",
     "start_time": "2022-07-05T07:46:08.376352Z"
    }
   },
   "outputs": [
    {
     "name": "stdout",
     "output_type": "stream",
     "text": [
      "torch.Size([857, 384])\n"
     ]
    }
   ],
   "source": [
    "logit = model(g=graph, h=omic_features[:, i, :], c=add_features[i])"
   ]
  },
  {
   "cell_type": "code",
   "execution_count": 104,
   "id": "1ccb8890",
   "metadata": {
    "ExecuteTime": {
     "end_time": "2022-07-05T07:46:30.666413Z",
     "start_time": "2022-07-05T07:46:30.651800Z"
    }
   },
   "outputs": [
    {
     "data": {
      "text/plain": [
       "tensor([[0.4264]], grad_fn=<CopyBackwards>)"
      ]
     },
     "execution_count": 104,
     "metadata": {},
     "output_type": "execute_result"
    }
   ],
   "source": [
    "logit.to(device='cpu')"
   ]
  },
  {
   "cell_type": "markdown",
   "id": "1a846454",
   "metadata": {},
   "source": [
    "# 固定部分参数"
   ]
  },
  {
   "cell_type": "code",
   "execution_count": 75,
   "id": "e70a380d",
   "metadata": {
    "ExecuteTime": {
     "end_time": "2022-07-05T06:31:58.242322Z",
     "start_time": "2022-07-05T06:31:58.239340Z"
    }
   },
   "outputs": [
    {
     "name": "stdout",
     "output_type": "stream",
     "text": [
      "152163\n"
     ]
    }
   ],
   "source": [
    "# 固定部分参数\n",
    "\n",
    "for k,v in model.named_parameters():\n",
    "    if k.startswith('lin'):\n",
    "        v.requires_grad = False\n",
    "        \n",
    "n = 0\n",
    "for param in model.parameters():\n",
    "    if param.requires_grad == True:\n",
    "        n += param.numel()\n",
    "print(n)"
   ]
  },
  {
   "cell_type": "code",
   "execution_count": 40,
   "id": "948e386b",
   "metadata": {
    "ExecuteTime": {
     "end_time": "2022-07-05T05:59:29.949898Z",
     "start_time": "2022-07-05T05:59:29.946342Z"
    }
   },
   "outputs": [
    {
     "name": "stdout",
     "output_type": "stream",
     "text": [
      "227\n"
     ]
    }
   ],
   "source": [
    "# 固定部分参数\n",
    "\n",
    "for k,v in model.named_parameters():\n",
    "    if k.startswith('lin'):\n",
    "        v.requires_grad = False\n",
    "        \n",
    "n = 0\n",
    "for param in model.parameters():\n",
    "    if param.requires_grad == True:\n",
    "        n += param.numel()\n",
    "print(n)"
   ]
  },
  {
   "cell_type": "code",
   "execution_count": 42,
   "id": "a6fafc22",
   "metadata": {
    "ExecuteTime": {
     "end_time": "2022-07-05T06:00:59.971954Z",
     "start_time": "2022-07-05T06:00:59.968705Z"
    }
   },
   "outputs": [
    {
     "name": "stdout",
     "output_type": "stream",
     "text": [
      "438657\n"
     ]
    }
   ],
   "source": [
    "for k,v in model.named_parameters():\n",
    "    if  k.startswith('lin'):\n",
    "        v.requires_grad = True\n",
    "    else:\n",
    "        v.requires_grad = False\n",
    "\n",
    "n = 0\n",
    "for param in model.parameters():\n",
    "    if param.requires_grad == True:\n",
    "        n += param.numel()\n",
    "print(n)"
   ]
  }
 ],
 "metadata": {
  "kernelspec": {
   "display_name": "Python 3 (ipykernel)",
   "language": "python",
   "name": "python3"
  },
  "language_info": {
   "codemirror_mode": {
    "name": "ipython",
    "version": 3
   },
   "file_extension": ".py",
   "mimetype": "text/x-python",
   "name": "python",
   "nbconvert_exporter": "python",
   "pygments_lexer": "ipython3",
   "version": "3.8.12"
  },
  "toc": {
   "base_numbering": 1,
   "nav_menu": {},
   "number_sections": true,
   "sideBar": true,
   "skip_h1_title": false,
   "title_cell": "Table of Contents",
   "title_sidebar": "Contents",
   "toc_cell": false,
   "toc_position": {},
   "toc_section_display": true,
   "toc_window_display": false
  },
  "varInspector": {
   "cols": {
    "lenName": 16,
    "lenType": 16,
    "lenVar": 40
   },
   "kernels_config": {
    "python": {
     "delete_cmd_postfix": "",
     "delete_cmd_prefix": "del ",
     "library": "var_list.py",
     "varRefreshCmd": "print(var_dic_list())"
    },
    "r": {
     "delete_cmd_postfix": ") ",
     "delete_cmd_prefix": "rm(",
     "library": "var_list.r",
     "varRefreshCmd": "cat(var_dic_list()) "
    }
   },
   "types_to_exclude": [
    "module",
    "function",
    "builtin_function_or_method",
    "instance",
    "_Feature"
   ],
   "window_display": false
  }
 },
 "nbformat": 4,
 "nbformat_minor": 5
}
