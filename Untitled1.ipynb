{
 "cells": [
  {
   "cell_type": "code",
   "execution_count": 1,
   "id": "061cdbfa",
   "metadata": {
    "ExecuteTime": {
     "end_time": "2022-07-08T07:23:42.508957Z",
     "start_time": "2022-07-08T07:23:41.379981Z"
    }
   },
   "outputs": [],
   "source": [
    "import sys, os, argparse, warnings, time\n",
    "import numpy as np\n",
    "import pandas as pd\n",
    "import torch\n",
    "import torch.nn as nn\n",
    "import torch.nn.functional as F\n",
    "from data import *\n",
    "from util import *\n",
    "from module import DeepMOI"
   ]
  },
  {
   "cell_type": "code",
   "execution_count": 2,
   "id": "db81a79e",
   "metadata": {
    "ExecuteTime": {
     "end_time": "2022-07-08T07:23:42.519803Z",
     "start_time": "2022-07-08T07:23:42.516244Z"
    }
   },
   "outputs": [],
   "source": [
    "def batch_idx(train_idx, minibatch):\n",
    "    \"\"\"To obtain batch index.\n",
    "    train_idx (list): index of training dataset.\n",
    "    minibatch (int): sample's number in each batch.\n",
    "\n",
    "    Return:\n",
    "        batch_idx (list): the element is list, i.e., index for each batch.\n",
    "    \"\"\"\n",
    "    batch_idx, m = [], 0\n",
    "    while True:\n",
    "        if (m+1)*minibatch < len(train_idx):\n",
    "            batch_idx.append(train_idx[m*minibatch:(m+1)*minibatch])\n",
    "        else:\n",
    "            batch_idx.append(train_idx[m*minibatch:])\n",
    "            break\n",
    "        m += 1\n",
    "    return batch_idx\n",
    "\n",
    "\n",
    "def data_split(labels, test_size):\n",
    "    \"\"\"To split dataset into training dataset and testing dataset.\n",
    "    Args:\n",
    "        labels (numpy): The labels of samples.\n",
    "        test_size (float, 0-1): The proportion of test data.\n",
    "    \n",
    "    Return:\n",
    "        (list) index of training data, index of testing data\n",
    "    \"\"\"\n",
    "    test_number = int(len(labels) * test_size)\n",
    "    idx = list(range(len(labels)))\n",
    "    np.random.shuffle(idx)\n",
    "    return idx[test_number:], idx[:test_number]\n",
    "\n"
   ]
  },
  {
   "cell_type": "code",
   "execution_count": 3,
   "id": "d1d14a0e",
   "metadata": {
    "ExecuteTime": {
     "end_time": "2022-07-08T07:25:08.067949Z",
     "start_time": "2022-07-08T07:23:42.526104Z"
    },
    "scrolled": true
   },
   "outputs": [
    {
     "name": "stdout",
     "output_type": "stream",
     "text": [
      "[INFO] Reading dataset. There are 2 omics data in total.\n",
      "\n",
      "[INFO] The overlaping genes number between omics and ppi dataset is: 14803\n",
      "\n",
      "Data(x=[14803, 510, 2], edge_index=[2, 8305890])\n",
      "14803\n",
      "8305890\n"
     ]
    },
    {
     "ename": "AttributeError",
     "evalue": "'GlobalStorage' object has no attribute 'ndata'",
     "output_type": "error",
     "traceback": [
      "\u001b[0;31m---------------------------------------------------------------------------\u001b[0m",
      "\u001b[0;31mKeyError\u001b[0m                                  Traceback (most recent call last)",
      "\u001b[0;32m~/miniconda3/envs/pyg/lib/python3.8/site-packages/torch_geometric/data/storage.py\u001b[0m in \u001b[0;36m__getattr__\u001b[0;34m(self, key)\u001b[0m\n\u001b[1;32m     49\u001b[0m         \u001b[0;32mtry\u001b[0m\u001b[0;34m:\u001b[0m\u001b[0;34m\u001b[0m\u001b[0;34m\u001b[0m\u001b[0m\n\u001b[0;32m---> 50\u001b[0;31m             \u001b[0;32mreturn\u001b[0m \u001b[0mself\u001b[0m\u001b[0;34m[\u001b[0m\u001b[0mkey\u001b[0m\u001b[0;34m]\u001b[0m\u001b[0;34m\u001b[0m\u001b[0;34m\u001b[0m\u001b[0m\n\u001b[0m\u001b[1;32m     51\u001b[0m         \u001b[0;32mexcept\u001b[0m \u001b[0mKeyError\u001b[0m\u001b[0;34m:\u001b[0m\u001b[0;34m\u001b[0m\u001b[0;34m\u001b[0m\u001b[0m\n",
      "\u001b[0;32m~/miniconda3/envs/pyg/lib/python3.8/site-packages/torch_geometric/data/storage.py\u001b[0m in \u001b[0;36m__getitem__\u001b[0;34m(self, key)\u001b[0m\n\u001b[1;32m     69\u001b[0m     \u001b[0;32mdef\u001b[0m \u001b[0m__getitem__\u001b[0m\u001b[0;34m(\u001b[0m\u001b[0mself\u001b[0m\u001b[0;34m,\u001b[0m \u001b[0mkey\u001b[0m\u001b[0;34m:\u001b[0m \u001b[0mstr\u001b[0m\u001b[0;34m)\u001b[0m \u001b[0;34m->\u001b[0m \u001b[0mAny\u001b[0m\u001b[0;34m:\u001b[0m\u001b[0;34m\u001b[0m\u001b[0;34m\u001b[0m\u001b[0m\n\u001b[0;32m---> 70\u001b[0;31m         \u001b[0;32mreturn\u001b[0m \u001b[0mself\u001b[0m\u001b[0;34m.\u001b[0m\u001b[0m_mapping\u001b[0m\u001b[0;34m[\u001b[0m\u001b[0mkey\u001b[0m\u001b[0;34m]\u001b[0m\u001b[0;34m\u001b[0m\u001b[0;34m\u001b[0m\u001b[0m\n\u001b[0m\u001b[1;32m     71\u001b[0m \u001b[0;34m\u001b[0m\u001b[0m\n",
      "\u001b[0;31mKeyError\u001b[0m: 'ndata'",
      "\nDuring handling of the above exception, another exception occurred:\n",
      "\u001b[0;31mAttributeError\u001b[0m                            Traceback (most recent call last)",
      "\u001b[0;32m/tmp/ipykernel_24877/296429692.py\u001b[0m in \u001b[0;36m<module>\u001b[0;34m\u001b[0m\n\u001b[1;32m      7\u001b[0m \u001b[0momics\u001b[0m \u001b[0;34m=\u001b[0m \u001b[0mread_omics\u001b[0m\u001b[0;34m(\u001b[0m\u001b[0momics_files\u001b[0m\u001b[0;34m=\u001b[0m\u001b[0momics_files\u001b[0m\u001b[0;34m,\u001b[0m \u001b[0mlabel_file\u001b[0m\u001b[0;34m=\u001b[0m\u001b[0mlabel_file\u001b[0m\u001b[0;34m,\u001b[0m \u001b[0madd_file\u001b[0m\u001b[0;34m=\u001b[0m\u001b[0madd_file\u001b[0m\u001b[0;34m)\u001b[0m\u001b[0;34m\u001b[0m\u001b[0;34m\u001b[0m\u001b[0m\n\u001b[1;32m      8\u001b[0m \u001b[0mgraph\u001b[0m\u001b[0;34m,\u001b[0m \u001b[0mlabels\u001b[0m\u001b[0;34m,\u001b[0m \u001b[0madd_features\u001b[0m\u001b[0;34m,\u001b[0m \u001b[0mid_mapping\u001b[0m \u001b[0;34m=\u001b[0m \u001b[0mbuild_graph\u001b[0m\u001b[0;34m(\u001b[0m\u001b[0momics\u001b[0m\u001b[0;34m=\u001b[0m\u001b[0momics\u001b[0m\u001b[0;34m,\u001b[0m \u001b[0mlabel_file\u001b[0m\u001b[0;34m=\u001b[0m\u001b[0mlabel_file\u001b[0m\u001b[0;34m,\u001b[0m \u001b[0madd_file\u001b[0m\u001b[0;34m=\u001b[0m\u001b[0madd_file\u001b[0m\u001b[0;34m,\u001b[0m \u001b[0mnetwork_file\u001b[0m\u001b[0;34m=\u001b[0m\u001b[0mnetwork_file\u001b[0m\u001b[0;34m)\u001b[0m\u001b[0;34m\u001b[0m\u001b[0;34m\u001b[0m\u001b[0m\n\u001b[0;32m----> 9\u001b[0;31m \u001b[0momic_features\u001b[0m \u001b[0;34m=\u001b[0m \u001b[0mgraph\u001b[0m\u001b[0;34m.\u001b[0m\u001b[0mndata\u001b[0m\u001b[0;34m[\u001b[0m\u001b[0;34m'h'\u001b[0m\u001b[0;34m]\u001b[0m\u001b[0;34m\u001b[0m\u001b[0;34m\u001b[0m\u001b[0m\n\u001b[0m",
      "\u001b[0;32m~/miniconda3/envs/pyg/lib/python3.8/site-packages/torch_geometric/data/data.py\u001b[0m in \u001b[0;36m__getattr__\u001b[0;34m(self, key)\u001b[0m\n\u001b[1;32m    360\u001b[0m                 \u001b[0;34m\"dataset, remove the 'processed/' directory in the dataset's \"\u001b[0m\u001b[0;34m\u001b[0m\u001b[0;34m\u001b[0m\u001b[0m\n\u001b[1;32m    361\u001b[0m                 \"root folder and try again.\")\n\u001b[0;32m--> 362\u001b[0;31m         \u001b[0;32mreturn\u001b[0m \u001b[0mgetattr\u001b[0m\u001b[0;34m(\u001b[0m\u001b[0mself\u001b[0m\u001b[0;34m.\u001b[0m\u001b[0m_store\u001b[0m\u001b[0;34m,\u001b[0m \u001b[0mkey\u001b[0m\u001b[0;34m)\u001b[0m\u001b[0;34m\u001b[0m\u001b[0;34m\u001b[0m\u001b[0m\n\u001b[0m\u001b[1;32m    363\u001b[0m \u001b[0;34m\u001b[0m\u001b[0m\n\u001b[1;32m    364\u001b[0m     \u001b[0;32mdef\u001b[0m \u001b[0m__setattr__\u001b[0m\u001b[0;34m(\u001b[0m\u001b[0mself\u001b[0m\u001b[0;34m,\u001b[0m \u001b[0mkey\u001b[0m\u001b[0;34m:\u001b[0m \u001b[0mstr\u001b[0m\u001b[0;34m,\u001b[0m \u001b[0mvalue\u001b[0m\u001b[0;34m:\u001b[0m \u001b[0mAny\u001b[0m\u001b[0;34m)\u001b[0m\u001b[0;34m:\u001b[0m\u001b[0;34m\u001b[0m\u001b[0;34m\u001b[0m\u001b[0m\n",
      "\u001b[0;32m~/miniconda3/envs/pyg/lib/python3.8/site-packages/torch_geometric/data/storage.py\u001b[0m in \u001b[0;36m__getattr__\u001b[0;34m(self, key)\u001b[0m\n\u001b[1;32m     50\u001b[0m             \u001b[0;32mreturn\u001b[0m \u001b[0mself\u001b[0m\u001b[0;34m[\u001b[0m\u001b[0mkey\u001b[0m\u001b[0;34m]\u001b[0m\u001b[0;34m\u001b[0m\u001b[0;34m\u001b[0m\u001b[0m\n\u001b[1;32m     51\u001b[0m         \u001b[0;32mexcept\u001b[0m \u001b[0mKeyError\u001b[0m\u001b[0;34m:\u001b[0m\u001b[0;34m\u001b[0m\u001b[0;34m\u001b[0m\u001b[0m\n\u001b[0;32m---> 52\u001b[0;31m             raise AttributeError(\n\u001b[0m\u001b[1;32m     53\u001b[0m                 f\"'{self.__class__.__name__}' object has no attribute '{key}'\")\n\u001b[1;32m     54\u001b[0m \u001b[0;34m\u001b[0m\u001b[0m\n",
      "\u001b[0;31mAttributeError\u001b[0m: 'GlobalStorage' object has no attribute 'ndata'"
     ]
    }
   ],
   "source": [
    "omics_files = ['./data/LGG/rna.csv.gz', './data/LGG/met.csv.gz']\n",
    "label_file = './data/LGG/label.csv'\n",
    "add_file = './data/LGG/mirna.csv.gz'\n",
    "network_file = 'default'\n",
    "\n",
    "print('[INFO] Reading dataset. There are {} omics data in total.\\n'.format(len(omics_files)))\n",
    "omics = read_omics(omics_files=omics_files, label_file=label_file, add_file=add_file)\n",
    "graph, labels, add_features, id_mapping = build_graph(omics=omics, label_file=label_file, add_file=add_file, network_file=network_file)\n",
    "omic_features = graph.x"
   ]
  },
  {
   "cell_type": "code",
   "execution_count": 6,
   "id": "3114ecb3",
   "metadata": {
    "ExecuteTime": {
     "end_time": "2022-07-08T07:26:24.614106Z",
     "start_time": "2022-07-08T07:26:24.608241Z"
    }
   },
   "outputs": [],
   "source": [
    "omic_features = graph.x"
   ]
  },
  {
   "cell_type": "code",
   "execution_count": 4,
   "id": "1b1c49e9",
   "metadata": {
    "ExecuteTime": {
     "end_time": "2022-07-08T07:25:49.060582Z",
     "start_time": "2022-07-08T07:25:48.220931Z"
    }
   },
   "outputs": [],
   "source": [
    "pathways = read_pathways(id_mapping=id_mapping, file='./Pathway/pathway_genes.gmt')"
   ]
  },
  {
   "cell_type": "code",
   "execution_count": 10,
   "id": "a104d0b4",
   "metadata": {
    "ExecuteTime": {
     "end_time": "2022-07-08T07:28:41.687912Z",
     "start_time": "2022-07-08T07:28:40.858029Z"
    }
   },
   "outputs": [],
   "source": [
    "def read_pathways(id_mapping, file):\n",
    "    \"\"\"To read pathway data (gmt format).\n",
    "    id_mapping (pandas, dataframe): return from build_graph function. It is used to changed gene id to node id.\n",
    "    file (str): pathways file.\n",
    "\n",
    "    Return:\n",
    "        pathways (dict): key <-- pathway name; value <-- nodes id, pandas array.\n",
    "    \"\"\"\n",
    "    pathways = {}\n",
    "    with open(file) as F:\n",
    "        for line in F.readlines():\n",
    "            line = line.strip().split(\"\\t\")\n",
    "            genes = [int(i.strip()) for i in line[1:]]\n",
    "            nodes_id = id_mapping.loc[set(genes) & set(id_mapping.index.values), 'node_id'].values\n",
    "            if len(nodes_id) > 20:\n",
    "                pathways[line[0]] = nodes_id\n",
    "    return pathways\n",
    "\n",
    "\n",
    "pathways = read_pathways(id_mapping=id_mapping, file='./Pathway/pathway_genes.gmt')"
   ]
  },
  {
   "cell_type": "code",
   "execution_count": 57,
   "id": "e35ef7f4",
   "metadata": {
    "ExecuteTime": {
     "end_time": "2022-07-08T08:04:25.156721Z",
     "start_time": "2022-07-08T08:04:02.957647Z"
    }
   },
   "outputs": [],
   "source": [
    "from torch_geometric.utils import subgraph\n",
    "from torch_geometric.data import Data\n",
    "\n",
    "x = omic_features[:,0,:]\n",
    "edge_index = graph.edge_index\n",
    "\n",
    "sub_graphs = []\n",
    "for k, nodes in pathways.items():\n",
    "    sub_edge_index, _ = subgraph(subset= list(nodes) , edge_index=edge_index)\n",
    "    sub_x = x[list(nodes), :]\n",
    "    sub_graph = Data(x=sub_x, edge_index=sub_edge_index)\n",
    "    sub_graphs.append(sub_graph)"
   ]
  },
  {
   "cell_type": "code",
   "execution_count": 58,
   "id": "b4637c3a",
   "metadata": {
    "ExecuteTime": {
     "end_time": "2022-07-08T08:04:30.326461Z",
     "start_time": "2022-07-08T08:04:30.321119Z"
    }
   },
   "outputs": [
    {
     "data": {
      "text/plain": [
       "Data(x=[121, 2], edge_index=[2, 3260])"
      ]
     },
     "execution_count": 58,
     "metadata": {},
     "output_type": "execute_result"
    }
   ],
   "source": [
    "sub_graphs[0]"
   ]
  },
  {
   "cell_type": "code",
   "execution_count": 54,
   "id": "4f689910",
   "metadata": {
    "ExecuteTime": {
     "end_time": "2022-07-08T07:58:38.000802Z",
     "start_time": "2022-07-08T07:58:37.998156Z"
    }
   },
   "outputs": [
    {
     "data": {
      "text/plain": [
       "torch.Size([21, 2])"
      ]
     },
     "execution_count": 54,
     "metadata": {},
     "output_type": "execute_result"
    }
   ],
   "source": [
    "sub_x.shape"
   ]
  },
  {
   "cell_type": "code",
   "execution_count": 60,
   "id": "01fc825d",
   "metadata": {
    "ExecuteTime": {
     "end_time": "2022-07-08T08:14:27.187708Z",
     "start_time": "2022-07-08T08:14:17.228200Z"
    }
   },
   "outputs": [
    {
     "data": {
      "image/png": "[encoded data removed]",
      "text/plain": [
       "<Figure size 432x288 with 1 Axes>"
      ]
     },
     "metadata": {},
     "output_type": "display_data"
    }
   ],
   "source": [
    "import networkx as nx\n",
    "from torch_geometric.utils.convert import to_networkx\n",
    "import matplotlib.pyplot as plt\n",
    "\n",
    "def draw(Data):\n",
    "    G = to_networkx(Data)\n",
    "    nx.draw(G, with_labels=True)\n",
    "    plt.show()\n",
    "    \n",
    "draw(sub_graphs[1])"
   ]
  },
  {
   "cell_type": "code",
   "execution_count": 62,
   "id": "5a879b7a",
   "metadata": {
    "ExecuteTime": {
     "end_time": "2022-07-08T09:06:24.688214Z",
     "start_time": "2022-07-08T09:06:24.667082Z"
    }
   },
   "outputs": [
    {
     "data": {
      "text/html": [
       "<div>\n",
       "<style scoped>\n",
       "    .dataframe tbody tr th:only-of-type {\n",
       "        vertical-align: middle;\n",
       "    }\n",
       "\n",
       "    .dataframe tbody tr th {\n",
       "        vertical-align: top;\n",
       "    }\n",
       "\n",
       "    .dataframe thead th {\n",
       "        text-align: right;\n",
       "    }\n",
       "</style>\n",
       "<table border=\"1\" class=\"dataframe\">\n",
       "  <thead>\n",
       "    <tr style=\"text-align: right;\">\n",
       "      <th></th>\n",
       "      <th>gene</th>\n",
       "      <th>TCGA.DU.7008</th>\n",
       "      <th>TCGA.HT.7877</th>\n",
       "      <th>TCGA.DU.A5TP</th>\n",
       "      <th>TCGA.F6.A8O3</th>\n",
       "      <th>TCGA.HW.7491</th>\n",
       "      <th>TCGA.S9.A7QY</th>\n",
       "      <th>TCGA.HT.8019</th>\n",
       "      <th>TCGA.S9.A6UA</th>\n",
       "      <th>TCGA.DU.A76L</th>\n",
       "      <th>...</th>\n",
       "      <th>TCGA.S9.A6TS</th>\n",
       "      <th>TCGA.S9.A6U1</th>\n",
       "      <th>TCGA.P5.A735</th>\n",
       "      <th>TCGA.QH.A6XA</th>\n",
       "      <th>TCGA.FG.A6J3</th>\n",
       "      <th>TCGA.CS.4941</th>\n",
       "      <th>TCGA.DH.5140</th>\n",
       "      <th>TCGA.CS.6188</th>\n",
       "      <th>TCGA.QH.A6XC</th>\n",
       "      <th>TCGA.FN.7833</th>\n",
       "    </tr>\n",
       "  </thead>\n",
       "  <tbody>\n",
       "    <tr>\n",
       "      <th>0</th>\n",
       "      <td>1</td>\n",
       "      <td>6.9992</td>\n",
       "      <td>5.8666</td>\n",
       "      <td>4.5845</td>\n",
       "      <td>6.4542</td>\n",
       "      <td>5.3734</td>\n",
       "      <td>7.0798</td>\n",
       "      <td>6.4044</td>\n",
       "      <td>7.7711</td>\n",
       "      <td>6.8880</td>\n",
       "      <td>...</td>\n",
       "      <td>7.9529</td>\n",
       "      <td>6.6701</td>\n",
       "      <td>5.3650</td>\n",
       "      <td>7.1191</td>\n",
       "      <td>8.1842</td>\n",
       "      <td>6.1944</td>\n",
       "      <td>4.6185</td>\n",
       "      <td>7.4581</td>\n",
       "      <td>8.2555</td>\n",
       "      <td>5.7347</td>\n",
       "    </tr>\n",
       "    <tr>\n",
       "      <th>1</th>\n",
       "      <td>2</td>\n",
       "      <td>12.4335</td>\n",
       "      <td>12.6940</td>\n",
       "      <td>13.1409</td>\n",
       "      <td>12.6413</td>\n",
       "      <td>12.8181</td>\n",
       "      <td>13.1132</td>\n",
       "      <td>12.4992</td>\n",
       "      <td>15.1765</td>\n",
       "      <td>14.8247</td>\n",
       "      <td>...</td>\n",
       "      <td>14.0252</td>\n",
       "      <td>13.9960</td>\n",
       "      <td>12.8541</td>\n",
       "      <td>13.5200</td>\n",
       "      <td>16.1838</td>\n",
       "      <td>14.1314</td>\n",
       "      <td>13.1572</td>\n",
       "      <td>13.9989</td>\n",
       "      <td>13.1559</td>\n",
       "      <td>14.1122</td>\n",
       "    </tr>\n",
       "    <tr>\n",
       "      <th>2</th>\n",
       "      <td>9</td>\n",
       "      <td>2.6399</td>\n",
       "      <td>4.2484</td>\n",
       "      <td>5.4493</td>\n",
       "      <td>2.3362</td>\n",
       "      <td>3.1423</td>\n",
       "      <td>3.0949</td>\n",
       "      <td>3.0515</td>\n",
       "      <td>5.9562</td>\n",
       "      <td>5.4878</td>\n",
       "      <td>...</td>\n",
       "      <td>4.1855</td>\n",
       "      <td>3.2881</td>\n",
       "      <td>3.0821</td>\n",
       "      <td>3.0233</td>\n",
       "      <td>4.3726</td>\n",
       "      <td>4.3694</td>\n",
       "      <td>4.4636</td>\n",
       "      <td>5.7301</td>\n",
       "      <td>3.7832</td>\n",
       "      <td>4.9734</td>\n",
       "    </tr>\n",
       "    <tr>\n",
       "      <th>3</th>\n",
       "      <td>10</td>\n",
       "      <td>1.7462</td>\n",
       "      <td>2.5000</td>\n",
       "      <td>2.7543</td>\n",
       "      <td>0.0000</td>\n",
       "      <td>0.0000</td>\n",
       "      <td>1.9759</td>\n",
       "      <td>1.8373</td>\n",
       "      <td>1.6581</td>\n",
       "      <td>1.0940</td>\n",
       "      <td>...</td>\n",
       "      <td>3.9992</td>\n",
       "      <td>0.4840</td>\n",
       "      <td>0.0000</td>\n",
       "      <td>2.4479</td>\n",
       "      <td>3.8401</td>\n",
       "      <td>3.4603</td>\n",
       "      <td>1.9695</td>\n",
       "      <td>2.5114</td>\n",
       "      <td>2.7987</td>\n",
       "      <td>2.2355</td>\n",
       "    </tr>\n",
       "    <tr>\n",
       "      <th>4</th>\n",
       "      <td>12</td>\n",
       "      <td>7.7074</td>\n",
       "      <td>9.7618</td>\n",
       "      <td>14.0422</td>\n",
       "      <td>5.4211</td>\n",
       "      <td>8.8144</td>\n",
       "      <td>10.9629</td>\n",
       "      <td>5.8906</td>\n",
       "      <td>16.6649</td>\n",
       "      <td>14.3699</td>\n",
       "      <td>...</td>\n",
       "      <td>10.0215</td>\n",
       "      <td>8.0555</td>\n",
       "      <td>8.1711</td>\n",
       "      <td>9.0412</td>\n",
       "      <td>13.9726</td>\n",
       "      <td>14.0145</td>\n",
       "      <td>11.5545</td>\n",
       "      <td>16.0921</td>\n",
       "      <td>13.6586</td>\n",
       "      <td>10.0699</td>\n",
       "    </tr>\n",
       "    <tr>\n",
       "      <th>...</th>\n",
       "      <td>...</td>\n",
       "      <td>...</td>\n",
       "      <td>...</td>\n",
       "      <td>...</td>\n",
       "      <td>...</td>\n",
       "      <td>...</td>\n",
       "      <td>...</td>\n",
       "      <td>...</td>\n",
       "      <td>...</td>\n",
       "      <td>...</td>\n",
       "      <td>...</td>\n",
       "      <td>...</td>\n",
       "      <td>...</td>\n",
       "      <td>...</td>\n",
       "      <td>...</td>\n",
       "      <td>...</td>\n",
       "      <td>...</td>\n",
       "      <td>...</td>\n",
       "      <td>...</td>\n",
       "      <td>...</td>\n",
       "      <td>...</td>\n",
       "    </tr>\n",
       "    <tr>\n",
       "      <th>16048</th>\n",
       "      <td>100507436</td>\n",
       "      <td>4.7636</td>\n",
       "      <td>5.6807</td>\n",
       "      <td>6.4599</td>\n",
       "      <td>5.1411</td>\n",
       "      <td>4.3729</td>\n",
       "      <td>6.5617</td>\n",
       "      <td>6.5357</td>\n",
       "      <td>8.3480</td>\n",
       "      <td>7.1543</td>\n",
       "      <td>...</td>\n",
       "      <td>4.9534</td>\n",
       "      <td>6.9606</td>\n",
       "      <td>6.2198</td>\n",
       "      <td>5.8590</td>\n",
       "      <td>6.3097</td>\n",
       "      <td>7.0306</td>\n",
       "      <td>4.3070</td>\n",
       "      <td>6.9580</td>\n",
       "      <td>7.3538</td>\n",
       "      <td>7.2119</td>\n",
       "    </tr>\n",
       "    <tr>\n",
       "      <th>16049</th>\n",
       "      <td>100507444</td>\n",
       "      <td>2.5780</td>\n",
       "      <td>2.7863</td>\n",
       "      <td>2.7543</td>\n",
       "      <td>2.0840</td>\n",
       "      <td>2.4956</td>\n",
       "      <td>3.0224</td>\n",
       "      <td>2.7171</td>\n",
       "      <td>2.5037</td>\n",
       "      <td>3.0983</td>\n",
       "      <td>...</td>\n",
       "      <td>2.7510</td>\n",
       "      <td>2.7181</td>\n",
       "      <td>1.9532</td>\n",
       "      <td>3.2429</td>\n",
       "      <td>1.6468</td>\n",
       "      <td>3.8538</td>\n",
       "      <td>1.5579</td>\n",
       "      <td>0.7852</td>\n",
       "      <td>2.5062</td>\n",
       "      <td>4.4927</td>\n",
       "    </tr>\n",
       "    <tr>\n",
       "      <th>16050</th>\n",
       "      <td>100529141</td>\n",
       "      <td>9.3265</td>\n",
       "      <td>9.6084</td>\n",
       "      <td>8.9991</td>\n",
       "      <td>9.8451</td>\n",
       "      <td>9.1866</td>\n",
       "      <td>9.4084</td>\n",
       "      <td>8.4357</td>\n",
       "      <td>9.1634</td>\n",
       "      <td>8.8472</td>\n",
       "      <td>...</td>\n",
       "      <td>8.8891</td>\n",
       "      <td>9.0860</td>\n",
       "      <td>9.5477</td>\n",
       "      <td>9.2946</td>\n",
       "      <td>9.2950</td>\n",
       "      <td>9.8610</td>\n",
       "      <td>9.0055</td>\n",
       "      <td>9.3757</td>\n",
       "      <td>9.3649</td>\n",
       "      <td>9.1283</td>\n",
       "    </tr>\n",
       "    <tr>\n",
       "      <th>16051</th>\n",
       "      <td>101060321</td>\n",
       "      <td>0.0000</td>\n",
       "      <td>0.0000</td>\n",
       "      <td>0.0000</td>\n",
       "      <td>4.4271</td>\n",
       "      <td>3.5708</td>\n",
       "      <td>0.8783</td>\n",
       "      <td>5.9913</td>\n",
       "      <td>0.0000</td>\n",
       "      <td>5.0248</td>\n",
       "      <td>...</td>\n",
       "      <td>0.0000</td>\n",
       "      <td>5.6781</td>\n",
       "      <td>1.1037</td>\n",
       "      <td>0.9194</td>\n",
       "      <td>0.0000</td>\n",
       "      <td>0.0000</td>\n",
       "      <td>3.4654</td>\n",
       "      <td>5.2574</td>\n",
       "      <td>0.0000</td>\n",
       "      <td>5.9719</td>\n",
       "    </tr>\n",
       "    <tr>\n",
       "      <th>16052</th>\n",
       "      <td>105375355</td>\n",
       "      <td>0.8358</td>\n",
       "      <td>1.5174</td>\n",
       "      <td>2.8395</td>\n",
       "      <td>1.9891</td>\n",
       "      <td>0.6599</td>\n",
       "      <td>3.7175</td>\n",
       "      <td>0.8936</td>\n",
       "      <td>2.5037</td>\n",
       "      <td>2.6542</td>\n",
       "      <td>...</td>\n",
       "      <td>0.9121</td>\n",
       "      <td>2.1976</td>\n",
       "      <td>2.1528</td>\n",
       "      <td>2.6662</td>\n",
       "      <td>0.0000</td>\n",
       "      <td>1.2511</td>\n",
       "      <td>1.3897</td>\n",
       "      <td>0.0000</td>\n",
       "      <td>2.7076</td>\n",
       "      <td>0.4551</td>\n",
       "    </tr>\n",
       "  </tbody>\n",
       "</table>\n",
       "<p>16053 rows × 511 columns</p>\n",
       "</div>"
      ],
      "text/plain": [
       "            gene  TCGA.DU.7008  TCGA.HT.7877  TCGA.DU.A5TP  TCGA.F6.A8O3  \\\n",
       "0              1        6.9992        5.8666        4.5845        6.4542   \n",
       "1              2       12.4335       12.6940       13.1409       12.6413   \n",
       "2              9        2.6399        4.2484        5.4493        2.3362   \n",
       "3             10        1.7462        2.5000        2.7543        0.0000   \n",
       "4             12        7.7074        9.7618       14.0422        5.4211   \n",
       "...          ...           ...           ...           ...           ...   \n",
       "16048  100507436        4.7636        5.6807        6.4599        5.1411   \n",
       "16049  100507444        2.5780        2.7863        2.7543        2.0840   \n",
       "16050  100529141        9.3265        9.6084        8.9991        9.8451   \n",
       "16051  101060321        0.0000        0.0000        0.0000        4.4271   \n",
       "16052  105375355        0.8358        1.5174        2.8395        1.9891   \n",
       "\n",
       "       TCGA.HW.7491  TCGA.S9.A7QY  TCGA.HT.8019  TCGA.S9.A6UA  TCGA.DU.A76L  \\\n",
       "0            5.3734        7.0798        6.4044        7.7711        6.8880   \n",
       "1           12.8181       13.1132       12.4992       15.1765       14.8247   \n",
       "2            3.1423        3.0949        3.0515        5.9562        5.4878   \n",
       "3            0.0000        1.9759        1.8373        1.6581        1.0940   \n",
       "4            8.8144       10.9629        5.8906       16.6649       14.3699   \n",
       "...             ...           ...           ...           ...           ...   \n",
       "16048        4.3729        6.5617        6.5357        8.3480        7.1543   \n",
       "16049        2.4956        3.0224        2.7171        2.5037        3.0983   \n",
       "16050        9.1866        9.4084        8.4357        9.1634        8.8472   \n",
       "16051        3.5708        0.8783        5.9913        0.0000        5.0248   \n",
       "16052        0.6599        3.7175        0.8936        2.5037        2.6542   \n",
       "\n",
       "       ...  TCGA.S9.A6TS  TCGA.S9.A6U1  TCGA.P5.A735  TCGA.QH.A6XA  \\\n",
       "0      ...        7.9529        6.6701        5.3650        7.1191   \n",
       "1      ...       14.0252       13.9960       12.8541       13.5200   \n",
       "2      ...        4.1855        3.2881        3.0821        3.0233   \n",
       "3      ...        3.9992        0.4840        0.0000        2.4479   \n",
       "4      ...       10.0215        8.0555        8.1711        9.0412   \n",
       "...    ...           ...           ...           ...           ...   \n",
       "16048  ...        4.9534        6.9606        6.2198        5.8590   \n",
       "16049  ...        2.7510        2.7181        1.9532        3.2429   \n",
       "16050  ...        8.8891        9.0860        9.5477        9.2946   \n",
       "16051  ...        0.0000        5.6781        1.1037        0.9194   \n",
       "16052  ...        0.9121        2.1976        2.1528        2.6662   \n",
       "\n",
       "       TCGA.FG.A6J3  TCGA.CS.4941  TCGA.DH.5140  TCGA.CS.6188  TCGA.QH.A6XC  \\\n",
       "0            8.1842        6.1944        4.6185        7.4581        8.2555   \n",
       "1           16.1838       14.1314       13.1572       13.9989       13.1559   \n",
       "2            4.3726        4.3694        4.4636        5.7301        3.7832   \n",
       "3            3.8401        3.4603        1.9695        2.5114        2.7987   \n",
       "4           13.9726       14.0145       11.5545       16.0921       13.6586   \n",
       "...             ...           ...           ...           ...           ...   \n",
       "16048        6.3097        7.0306        4.3070        6.9580        7.3538   \n",
       "16049        1.6468        3.8538        1.5579        0.7852        2.5062   \n",
       "16050        9.2950        9.8610        9.0055        9.3757        9.3649   \n",
       "16051        0.0000        0.0000        3.4654        5.2574        0.0000   \n",
       "16052        0.0000        1.2511        1.3897        0.0000        2.7076   \n",
       "\n",
       "       TCGA.FN.7833  \n",
       "0            5.7347  \n",
       "1           14.1122  \n",
       "2            4.9734  \n",
       "3            2.2355  \n",
       "4           10.0699  \n",
       "...             ...  \n",
       "16048        7.2119  \n",
       "16049        4.4927  \n",
       "16050        9.1283  \n",
       "16051        5.9719  \n",
       "16052        0.4551  \n",
       "\n",
       "[16053 rows x 511 columns]"
      ]
     },
     "execution_count": 62,
     "metadata": {},
     "output_type": "execute_result"
    }
   ],
   "source": [
    "omics[0]"
   ]
  },
  {
   "cell_type": "code",
   "execution_count": 64,
   "id": "72988178",
   "metadata": {
    "ExecuteTime": {
     "end_time": "2022-07-08T09:07:46.230350Z",
     "start_time": "2022-07-08T09:07:46.202128Z"
    }
   },
   "outputs": [
    {
     "data": {
      "text/html": [
       "<div>\n",
       "<style scoped>\n",
       "    .dataframe tbody tr th:only-of-type {\n",
       "        vertical-align: middle;\n",
       "    }\n",
       "\n",
       "    .dataframe tbody tr th {\n",
       "        vertical-align: top;\n",
       "    }\n",
       "\n",
       "    .dataframe thead th {\n",
       "        text-align: right;\n",
       "    }\n",
       "</style>\n",
       "<table border=\"1\" class=\"dataframe\">\n",
       "  <thead>\n",
       "    <tr style=\"text-align: right;\">\n",
       "      <th></th>\n",
       "      <th>src</th>\n",
       "      <th>dest</th>\n",
       "      <th>pathway</th>\n",
       "    </tr>\n",
       "  </thead>\n",
       "  <tbody>\n",
       "    <tr>\n",
       "      <th>0</th>\n",
       "      <td>7099</td>\n",
       "      <td>353376</td>\n",
       "      <td>R-HSA-140534</td>\n",
       "    </tr>\n",
       "    <tr>\n",
       "      <th>1</th>\n",
       "      <td>7099</td>\n",
       "      <td>100302736</td>\n",
       "      <td>R-HSA-140534</td>\n",
       "    </tr>\n",
       "    <tr>\n",
       "      <th>2</th>\n",
       "      <td>7099</td>\n",
       "      <td>148022</td>\n",
       "      <td>R-HSA-140534</td>\n",
       "    </tr>\n",
       "    <tr>\n",
       "      <th>3</th>\n",
       "      <td>7099</td>\n",
       "      <td>23643</td>\n",
       "      <td>R-HSA-140534</td>\n",
       "    </tr>\n",
       "    <tr>\n",
       "      <th>4</th>\n",
       "      <td>8797</td>\n",
       "      <td>8837</td>\n",
       "      <td>R-HSA-140534</td>\n",
       "    </tr>\n",
       "    <tr>\n",
       "      <th>...</th>\n",
       "      <td>...</td>\n",
       "      <td>...</td>\n",
       "      <td>...</td>\n",
       "    </tr>\n",
       "    <tr>\n",
       "      <th>88247</th>\n",
       "      <td>9156</td>\n",
       "      <td>79728</td>\n",
       "      <td>R-HSA-5693554</td>\n",
       "    </tr>\n",
       "    <tr>\n",
       "      <th>88248</th>\n",
       "      <td>9156</td>\n",
       "      <td>10635</td>\n",
       "      <td>R-HSA-5693554</td>\n",
       "    </tr>\n",
       "    <tr>\n",
       "      <th>88249</th>\n",
       "      <td>9156</td>\n",
       "      <td>5932</td>\n",
       "      <td>R-HSA-5693554</td>\n",
       "    </tr>\n",
       "    <tr>\n",
       "      <th>88250</th>\n",
       "      <td>9156</td>\n",
       "      <td>580</td>\n",
       "      <td>R-HSA-5693554</td>\n",
       "    </tr>\n",
       "    <tr>\n",
       "      <th>88251</th>\n",
       "      <td>9156</td>\n",
       "      <td>83990</td>\n",
       "      <td>R-HSA-5693554</td>\n",
       "    </tr>\n",
       "  </tbody>\n",
       "</table>\n",
       "<p>88252 rows × 3 columns</p>\n",
       "</div>"
      ],
      "text/plain": [
       "        src       dest        pathway\n",
       "0      7099     353376   R-HSA-140534\n",
       "1      7099  100302736   R-HSA-140534\n",
       "2      7099     148022   R-HSA-140534\n",
       "3      7099      23643   R-HSA-140534\n",
       "4      8797       8837   R-HSA-140534\n",
       "...     ...        ...            ...\n",
       "88247  9156      79728  R-HSA-5693554\n",
       "88248  9156      10635  R-HSA-5693554\n",
       "88249  9156       5932  R-HSA-5693554\n",
       "88250  9156        580  R-HSA-5693554\n",
       "88251  9156      83990  R-HSA-5693554\n",
       "\n",
       "[88252 rows x 3 columns]"
      ]
     },
     "execution_count": 64,
     "metadata": {},
     "output_type": "execute_result"
    }
   ],
   "source": [
    "df_p = pd.read_csv('./Pathway/Rectome.pathway.tmp.csv')\n",
    "df_p = df_p.iloc[:, 1:]\n",
    "df_p"
   ]
  },
  {
   "cell_type": "code",
   "execution_count": 68,
   "id": "a82dfe8e",
   "metadata": {
    "ExecuteTime": {
     "end_time": "2022-07-08T09:12:47.438874Z",
     "start_time": "2022-07-08T09:12:47.288270Z"
    }
   },
   "outputs": [
    {
     "name": "stdout",
     "output_type": "stream",
     "text": [
      "0.7435897435897436 29 39\n",
      "0.75 18 24\n",
      "0.7916666666666666 19 24\n",
      "0.7647058823529411 13 17\n",
      "0.7857142857142857 22 28\n",
      "0.7692307692307693 20 26\n",
      "0.7647058823529411 26 34\n",
      "0.7575757575757576 25 33\n",
      "0.725 29 40\n",
      "0.7272727272727273 16 22\n",
      "0.7636363636363637 42 55\n",
      "0.782608695652174 18 23\n"
     ]
    }
   ],
   "source": [
    "for pathway, group in df_p.groupby('pathway'):\n",
    "    genes = set(group.src.to_list() + group.dest.to_list())\n",
    "    omic_genes = set(omics[0].gene.to_list())\n",
    "    prop = len(omic_genes & genes) / len(genes)\n",
    "    if prop < 0.8:\n",
    "        print(len(omic_genes & genes) / len(genes), len(omic_genes & genes), len(genes))"
   ]
  },
  {
   "cell_type": "code",
   "execution_count": 78,
   "id": "b0c017bc",
   "metadata": {
    "ExecuteTime": {
     "end_time": "2022-07-08T09:16:34.079174Z",
     "start_time": "2022-07-08T09:16:34.059341Z"
    }
   },
   "outputs": [
    {
     "data": {
      "text/html": [
       "<div>\n",
       "<style scoped>\n",
       "    .dataframe tbody tr th:only-of-type {\n",
       "        vertical-align: middle;\n",
       "    }\n",
       "\n",
       "    .dataframe tbody tr th {\n",
       "        vertical-align: top;\n",
       "    }\n",
       "\n",
       "    .dataframe thead th {\n",
       "        text-align: right;\n",
       "    }\n",
       "</style>\n",
       "<table border=\"1\" class=\"dataframe\">\n",
       "  <thead>\n",
       "    <tr style=\"text-align: right;\">\n",
       "      <th></th>\n",
       "      <th>gene</th>\n",
       "      <th>TCGA.DU.7008</th>\n",
       "      <th>TCGA.HT.7877</th>\n",
       "      <th>TCGA.DU.A5TP</th>\n",
       "      <th>TCGA.F6.A8O3</th>\n",
       "      <th>TCGA.HW.7491</th>\n",
       "      <th>TCGA.S9.A7QY</th>\n",
       "      <th>TCGA.HT.8019</th>\n",
       "      <th>TCGA.S9.A6UA</th>\n",
       "      <th>TCGA.DU.A76L</th>\n",
       "      <th>...</th>\n",
       "      <th>TCGA.S9.A6TS</th>\n",
       "      <th>TCGA.S9.A6U1</th>\n",
       "      <th>TCGA.P5.A735</th>\n",
       "      <th>TCGA.QH.A6XA</th>\n",
       "      <th>TCGA.FG.A6J3</th>\n",
       "      <th>TCGA.CS.4941</th>\n",
       "      <th>TCGA.DH.5140</th>\n",
       "      <th>TCGA.CS.6188</th>\n",
       "      <th>TCGA.QH.A6XC</th>\n",
       "      <th>TCGA.FN.7833</th>\n",
       "    </tr>\n",
       "  </thead>\n",
       "  <tbody>\n",
       "    <tr>\n",
       "      <th>0</th>\n",
       "      <td>1</td>\n",
       "      <td>6.9992</td>\n",
       "      <td>5.8666</td>\n",
       "      <td>4.5845</td>\n",
       "      <td>6.4542</td>\n",
       "      <td>5.3734</td>\n",
       "      <td>7.0798</td>\n",
       "      <td>6.4044</td>\n",
       "      <td>7.7711</td>\n",
       "      <td>6.8880</td>\n",
       "      <td>...</td>\n",
       "      <td>7.9529</td>\n",
       "      <td>6.6701</td>\n",
       "      <td>5.3650</td>\n",
       "      <td>7.1191</td>\n",
       "      <td>8.1842</td>\n",
       "      <td>6.1944</td>\n",
       "      <td>4.6185</td>\n",
       "      <td>7.4581</td>\n",
       "      <td>8.2555</td>\n",
       "      <td>5.7347</td>\n",
       "    </tr>\n",
       "    <tr>\n",
       "      <th>1</th>\n",
       "      <td>2</td>\n",
       "      <td>12.4335</td>\n",
       "      <td>12.6940</td>\n",
       "      <td>13.1409</td>\n",
       "      <td>12.6413</td>\n",
       "      <td>12.8181</td>\n",
       "      <td>13.1132</td>\n",
       "      <td>12.4992</td>\n",
       "      <td>15.1765</td>\n",
       "      <td>14.8247</td>\n",
       "      <td>...</td>\n",
       "      <td>14.0252</td>\n",
       "      <td>13.9960</td>\n",
       "      <td>12.8541</td>\n",
       "      <td>13.5200</td>\n",
       "      <td>16.1838</td>\n",
       "      <td>14.1314</td>\n",
       "      <td>13.1572</td>\n",
       "      <td>13.9989</td>\n",
       "      <td>13.1559</td>\n",
       "      <td>14.1122</td>\n",
       "    </tr>\n",
       "    <tr>\n",
       "      <th>2</th>\n",
       "      <td>9</td>\n",
       "      <td>2.6399</td>\n",
       "      <td>4.2484</td>\n",
       "      <td>5.4493</td>\n",
       "      <td>2.3362</td>\n",
       "      <td>3.1423</td>\n",
       "      <td>3.0949</td>\n",
       "      <td>3.0515</td>\n",
       "      <td>5.9562</td>\n",
       "      <td>5.4878</td>\n",
       "      <td>...</td>\n",
       "      <td>4.1855</td>\n",
       "      <td>3.2881</td>\n",
       "      <td>3.0821</td>\n",
       "      <td>3.0233</td>\n",
       "      <td>4.3726</td>\n",
       "      <td>4.3694</td>\n",
       "      <td>4.4636</td>\n",
       "      <td>5.7301</td>\n",
       "      <td>3.7832</td>\n",
       "      <td>4.9734</td>\n",
       "    </tr>\n",
       "    <tr>\n",
       "      <th>3</th>\n",
       "      <td>10</td>\n",
       "      <td>1.7462</td>\n",
       "      <td>2.5000</td>\n",
       "      <td>2.7543</td>\n",
       "      <td>0.0000</td>\n",
       "      <td>0.0000</td>\n",
       "      <td>1.9759</td>\n",
       "      <td>1.8373</td>\n",
       "      <td>1.6581</td>\n",
       "      <td>1.0940</td>\n",
       "      <td>...</td>\n",
       "      <td>3.9992</td>\n",
       "      <td>0.4840</td>\n",
       "      <td>0.0000</td>\n",
       "      <td>2.4479</td>\n",
       "      <td>3.8401</td>\n",
       "      <td>3.4603</td>\n",
       "      <td>1.9695</td>\n",
       "      <td>2.5114</td>\n",
       "      <td>2.7987</td>\n",
       "      <td>2.2355</td>\n",
       "    </tr>\n",
       "    <tr>\n",
       "      <th>4</th>\n",
       "      <td>12</td>\n",
       "      <td>7.7074</td>\n",
       "      <td>9.7618</td>\n",
       "      <td>14.0422</td>\n",
       "      <td>5.4211</td>\n",
       "      <td>8.8144</td>\n",
       "      <td>10.9629</td>\n",
       "      <td>5.8906</td>\n",
       "      <td>16.6649</td>\n",
       "      <td>14.3699</td>\n",
       "      <td>...</td>\n",
       "      <td>10.0215</td>\n",
       "      <td>8.0555</td>\n",
       "      <td>8.1711</td>\n",
       "      <td>9.0412</td>\n",
       "      <td>13.9726</td>\n",
       "      <td>14.0145</td>\n",
       "      <td>11.5545</td>\n",
       "      <td>16.0921</td>\n",
       "      <td>13.6586</td>\n",
       "      <td>10.0699</td>\n",
       "    </tr>\n",
       "    <tr>\n",
       "      <th>...</th>\n",
       "      <td>...</td>\n",
       "      <td>...</td>\n",
       "      <td>...</td>\n",
       "      <td>...</td>\n",
       "      <td>...</td>\n",
       "      <td>...</td>\n",
       "      <td>...</td>\n",
       "      <td>...</td>\n",
       "      <td>...</td>\n",
       "      <td>...</td>\n",
       "      <td>...</td>\n",
       "      <td>...</td>\n",
       "      <td>...</td>\n",
       "      <td>...</td>\n",
       "      <td>...</td>\n",
       "      <td>...</td>\n",
       "      <td>...</td>\n",
       "      <td>...</td>\n",
       "      <td>...</td>\n",
       "      <td>...</td>\n",
       "      <td>...</td>\n",
       "    </tr>\n",
       "    <tr>\n",
       "      <th>16048</th>\n",
       "      <td>100507436</td>\n",
       "      <td>4.7636</td>\n",
       "      <td>5.6807</td>\n",
       "      <td>6.4599</td>\n",
       "      <td>5.1411</td>\n",
       "      <td>4.3729</td>\n",
       "      <td>6.5617</td>\n",
       "      <td>6.5357</td>\n",
       "      <td>8.3480</td>\n",
       "      <td>7.1543</td>\n",
       "      <td>...</td>\n",
       "      <td>4.9534</td>\n",
       "      <td>6.9606</td>\n",
       "      <td>6.2198</td>\n",
       "      <td>5.8590</td>\n",
       "      <td>6.3097</td>\n",
       "      <td>7.0306</td>\n",
       "      <td>4.3070</td>\n",
       "      <td>6.9580</td>\n",
       "      <td>7.3538</td>\n",
       "      <td>7.2119</td>\n",
       "    </tr>\n",
       "    <tr>\n",
       "      <th>16049</th>\n",
       "      <td>100507444</td>\n",
       "      <td>2.5780</td>\n",
       "      <td>2.7863</td>\n",
       "      <td>2.7543</td>\n",
       "      <td>2.0840</td>\n",
       "      <td>2.4956</td>\n",
       "      <td>3.0224</td>\n",
       "      <td>2.7171</td>\n",
       "      <td>2.5037</td>\n",
       "      <td>3.0983</td>\n",
       "      <td>...</td>\n",
       "      <td>2.7510</td>\n",
       "      <td>2.7181</td>\n",
       "      <td>1.9532</td>\n",
       "      <td>3.2429</td>\n",
       "      <td>1.6468</td>\n",
       "      <td>3.8538</td>\n",
       "      <td>1.5579</td>\n",
       "      <td>0.7852</td>\n",
       "      <td>2.5062</td>\n",
       "      <td>4.4927</td>\n",
       "    </tr>\n",
       "    <tr>\n",
       "      <th>16050</th>\n",
       "      <td>100529141</td>\n",
       "      <td>9.3265</td>\n",
       "      <td>9.6084</td>\n",
       "      <td>8.9991</td>\n",
       "      <td>9.8451</td>\n",
       "      <td>9.1866</td>\n",
       "      <td>9.4084</td>\n",
       "      <td>8.4357</td>\n",
       "      <td>9.1634</td>\n",
       "      <td>8.8472</td>\n",
       "      <td>...</td>\n",
       "      <td>8.8891</td>\n",
       "      <td>9.0860</td>\n",
       "      <td>9.5477</td>\n",
       "      <td>9.2946</td>\n",
       "      <td>9.2950</td>\n",
       "      <td>9.8610</td>\n",
       "      <td>9.0055</td>\n",
       "      <td>9.3757</td>\n",
       "      <td>9.3649</td>\n",
       "      <td>9.1283</td>\n",
       "    </tr>\n",
       "    <tr>\n",
       "      <th>16051</th>\n",
       "      <td>101060321</td>\n",
       "      <td>0.0000</td>\n",
       "      <td>0.0000</td>\n",
       "      <td>0.0000</td>\n",
       "      <td>4.4271</td>\n",
       "      <td>3.5708</td>\n",
       "      <td>0.8783</td>\n",
       "      <td>5.9913</td>\n",
       "      <td>0.0000</td>\n",
       "      <td>5.0248</td>\n",
       "      <td>...</td>\n",
       "      <td>0.0000</td>\n",
       "      <td>5.6781</td>\n",
       "      <td>1.1037</td>\n",
       "      <td>0.9194</td>\n",
       "      <td>0.0000</td>\n",
       "      <td>0.0000</td>\n",
       "      <td>3.4654</td>\n",
       "      <td>5.2574</td>\n",
       "      <td>0.0000</td>\n",
       "      <td>5.9719</td>\n",
       "    </tr>\n",
       "    <tr>\n",
       "      <th>16052</th>\n",
       "      <td>105375355</td>\n",
       "      <td>0.8358</td>\n",
       "      <td>1.5174</td>\n",
       "      <td>2.8395</td>\n",
       "      <td>1.9891</td>\n",
       "      <td>0.6599</td>\n",
       "      <td>3.7175</td>\n",
       "      <td>0.8936</td>\n",
       "      <td>2.5037</td>\n",
       "      <td>2.6542</td>\n",
       "      <td>...</td>\n",
       "      <td>0.9121</td>\n",
       "      <td>2.1976</td>\n",
       "      <td>2.1528</td>\n",
       "      <td>2.6662</td>\n",
       "      <td>0.0000</td>\n",
       "      <td>1.2511</td>\n",
       "      <td>1.3897</td>\n",
       "      <td>0.0000</td>\n",
       "      <td>2.7076</td>\n",
       "      <td>0.4551</td>\n",
       "    </tr>\n",
       "  </tbody>\n",
       "</table>\n",
       "<p>16053 rows × 511 columns</p>\n",
       "</div>"
      ],
      "text/plain": [
       "            gene  TCGA.DU.7008  TCGA.HT.7877  TCGA.DU.A5TP  TCGA.F6.A8O3  \\\n",
       "0              1        6.9992        5.8666        4.5845        6.4542   \n",
       "1              2       12.4335       12.6940       13.1409       12.6413   \n",
       "2              9        2.6399        4.2484        5.4493        2.3362   \n",
       "3             10        1.7462        2.5000        2.7543        0.0000   \n",
       "4             12        7.7074        9.7618       14.0422        5.4211   \n",
       "...          ...           ...           ...           ...           ...   \n",
       "16048  100507436        4.7636        5.6807        6.4599        5.1411   \n",
       "16049  100507444        2.5780        2.7863        2.7543        2.0840   \n",
       "16050  100529141        9.3265        9.6084        8.9991        9.8451   \n",
       "16051  101060321        0.0000        0.0000        0.0000        4.4271   \n",
       "16052  105375355        0.8358        1.5174        2.8395        1.9891   \n",
       "\n",
       "       TCGA.HW.7491  TCGA.S9.A7QY  TCGA.HT.8019  TCGA.S9.A6UA  TCGA.DU.A76L  \\\n",
       "0            5.3734        7.0798        6.4044        7.7711        6.8880   \n",
       "1           12.8181       13.1132       12.4992       15.1765       14.8247   \n",
       "2            3.1423        3.0949        3.0515        5.9562        5.4878   \n",
       "3            0.0000        1.9759        1.8373        1.6581        1.0940   \n",
       "4            8.8144       10.9629        5.8906       16.6649       14.3699   \n",
       "...             ...           ...           ...           ...           ...   \n",
       "16048        4.3729        6.5617        6.5357        8.3480        7.1543   \n",
       "16049        2.4956        3.0224        2.7171        2.5037        3.0983   \n",
       "16050        9.1866        9.4084        8.4357        9.1634        8.8472   \n",
       "16051        3.5708        0.8783        5.9913        0.0000        5.0248   \n",
       "16052        0.6599        3.7175        0.8936        2.5037        2.6542   \n",
       "\n",
       "       ...  TCGA.S9.A6TS  TCGA.S9.A6U1  TCGA.P5.A735  TCGA.QH.A6XA  \\\n",
       "0      ...        7.9529        6.6701        5.3650        7.1191   \n",
       "1      ...       14.0252       13.9960       12.8541       13.5200   \n",
       "2      ...        4.1855        3.2881        3.0821        3.0233   \n",
       "3      ...        3.9992        0.4840        0.0000        2.4479   \n",
       "4      ...       10.0215        8.0555        8.1711        9.0412   \n",
       "...    ...           ...           ...           ...           ...   \n",
       "16048  ...        4.9534        6.9606        6.2198        5.8590   \n",
       "16049  ...        2.7510        2.7181        1.9532        3.2429   \n",
       "16050  ...        8.8891        9.0860        9.5477        9.2946   \n",
       "16051  ...        0.0000        5.6781        1.1037        0.9194   \n",
       "16052  ...        0.9121        2.1976        2.1528        2.6662   \n",
       "\n",
       "       TCGA.FG.A6J3  TCGA.CS.4941  TCGA.DH.5140  TCGA.CS.6188  TCGA.QH.A6XC  \\\n",
       "0            8.1842        6.1944        4.6185        7.4581        8.2555   \n",
       "1           16.1838       14.1314       13.1572       13.9989       13.1559   \n",
       "2            4.3726        4.3694        4.4636        5.7301        3.7832   \n",
       "3            3.8401        3.4603        1.9695        2.5114        2.7987   \n",
       "4           13.9726       14.0145       11.5545       16.0921       13.6586   \n",
       "...             ...           ...           ...           ...           ...   \n",
       "16048        6.3097        7.0306        4.3070        6.9580        7.3538   \n",
       "16049        1.6468        3.8538        1.5579        0.7852        2.5062   \n",
       "16050        9.2950        9.8610        9.0055        9.3757        9.3649   \n",
       "16051        0.0000        0.0000        3.4654        5.2574        0.0000   \n",
       "16052        0.0000        1.2511        1.3897        0.0000        2.7076   \n",
       "\n",
       "       TCGA.FN.7833  \n",
       "0            5.7347  \n",
       "1           14.1122  \n",
       "2            4.9734  \n",
       "3            2.2355  \n",
       "4           10.0699  \n",
       "...             ...  \n",
       "16048        7.2119  \n",
       "16049        4.4927  \n",
       "16050        9.1283  \n",
       "16051        5.9719  \n",
       "16052        0.4551  \n",
       "\n",
       "[16053 rows x 511 columns]"
      ]
     },
     "execution_count": 78,
     "metadata": {},
     "output_type": "execute_result"
    }
   ],
   "source": [
    "omics[0]"
   ]
  },
  {
   "cell_type": "code",
   "execution_count": 77,
   "id": "a7a48925",
   "metadata": {
    "ExecuteTime": {
     "end_time": "2022-07-08T09:16:10.485324Z",
     "start_time": "2022-07-08T09:16:10.480120Z"
    }
   },
   "outputs": [
    {
     "data": {
      "text/html": [
       "<div>\n",
       "<style scoped>\n",
       "    .dataframe tbody tr th:only-of-type {\n",
       "        vertical-align: middle;\n",
       "    }\n",
       "\n",
       "    .dataframe tbody tr th {\n",
       "        vertical-align: top;\n",
       "    }\n",
       "\n",
       "    .dataframe thead th {\n",
       "        text-align: right;\n",
       "    }\n",
       "</style>\n",
       "<table border=\"1\" class=\"dataframe\">\n",
       "  <thead>\n",
       "    <tr style=\"text-align: right;\">\n",
       "      <th></th>\n",
       "      <th>node_id</th>\n",
       "    </tr>\n",
       "    <tr>\n",
       "      <th>gene_id</th>\n",
       "      <th></th>\n",
       "    </tr>\n",
       "  </thead>\n",
       "  <tbody>\n",
       "    <tr>\n",
       "      <th>1</th>\n",
       "      <td>0</td>\n",
       "    </tr>\n",
       "    <tr>\n",
       "      <th>2</th>\n",
       "      <td>1</td>\n",
       "    </tr>\n",
       "    <tr>\n",
       "      <th>9</th>\n",
       "      <td>2</td>\n",
       "    </tr>\n",
       "    <tr>\n",
       "      <th>10</th>\n",
       "      <td>3</td>\n",
       "    </tr>\n",
       "    <tr>\n",
       "      <th>12</th>\n",
       "      <td>4</td>\n",
       "    </tr>\n",
       "    <tr>\n",
       "      <th>...</th>\n",
       "      <td>...</td>\n",
       "    </tr>\n",
       "    <tr>\n",
       "      <th>100506658</th>\n",
       "      <td>14798</td>\n",
       "    </tr>\n",
       "    <tr>\n",
       "      <th>100506736</th>\n",
       "      <td>14799</td>\n",
       "    </tr>\n",
       "    <tr>\n",
       "      <th>100507436</th>\n",
       "      <td>14800</td>\n",
       "    </tr>\n",
       "    <tr>\n",
       "      <th>101060321</th>\n",
       "      <td>14801</td>\n",
       "    </tr>\n",
       "    <tr>\n",
       "      <th>105375355</th>\n",
       "      <td>14802</td>\n",
       "    </tr>\n",
       "  </tbody>\n",
       "</table>\n",
       "<p>14803 rows × 1 columns</p>\n",
       "</div>"
      ],
      "text/plain": [
       "           node_id\n",
       "gene_id           \n",
       "1                0\n",
       "2                1\n",
       "9                2\n",
       "10               3\n",
       "12               4\n",
       "...            ...\n",
       "100506658    14798\n",
       "100506736    14799\n",
       "100507436    14800\n",
       "101060321    14801\n",
       "105375355    14802\n",
       "\n",
       "[14803 rows x 1 columns]"
      ]
     },
     "execution_count": 77,
     "metadata": {},
     "output_type": "execute_result"
    }
   ],
   "source": [
    "id_mapping"
   ]
  },
  {
   "cell_type": "code",
   "execution_count": 79,
   "id": "4836ba4b",
   "metadata": {
    "ExecuteTime": {
     "end_time": "2022-07-08T09:17:28.229814Z",
     "start_time": "2022-07-08T09:17:28.217375Z"
    },
    "scrolled": true
   },
   "outputs": [
    {
     "ename": "KeyError",
     "evalue": "\"Passing list-likes to .loc or [] with any missing labels is no longer supported. The following labels were missing: Int64Index([  41,   41,  537,  537,  537,\\n            ...\\n            7224, 7224, 7224, 7224, 7224],\\n           dtype='int64', name='gene_id', length=350). See https://pandas.pydata.org/pandas-docs/stable/user_guide/indexing.html#deprecate-loc-reindex-listlike\"",
     "output_type": "error",
     "traceback": [
      "\u001b[0;31m---------------------------------------------------------------------------\u001b[0m",
      "\u001b[0;31mKeyError\u001b[0m                                  Traceback (most recent call last)",
      "\u001b[0;32m/tmp/ipykernel_24877/3217506901.py\u001b[0m in \u001b[0;36m<module>\u001b[0;34m\u001b[0m\n\u001b[0;32m----> 1\u001b[0;31m \u001b[0mid_mapping\u001b[0m\u001b[0;34m.\u001b[0m\u001b[0mloc\u001b[0m\u001b[0;34m[\u001b[0m\u001b[0mgroup\u001b[0m\u001b[0;34m.\u001b[0m\u001b[0msrc\u001b[0m\u001b[0;34m.\u001b[0m\u001b[0mvalues\u001b[0m\u001b[0;34m,\u001b[0m \u001b[0;34m'node_id'\u001b[0m\u001b[0;34m]\u001b[0m\u001b[0;34m\u001b[0m\u001b[0;34m\u001b[0m\u001b[0m\n\u001b[0m",
      "\u001b[0;32m~/miniconda3/envs/pyg/lib/python3.8/site-packages/pandas/core/indexing.py\u001b[0m in \u001b[0;36m__getitem__\u001b[0;34m(self, key)\u001b[0m\n\u001b[1;32m    887\u001b[0m                     \u001b[0;31m# AttributeError for IntervalTree get_value\u001b[0m\u001b[0;34m\u001b[0m\u001b[0;34m\u001b[0m\u001b[0;34m\u001b[0m\u001b[0m\n\u001b[1;32m    888\u001b[0m                     \u001b[0;32mreturn\u001b[0m \u001b[0mself\u001b[0m\u001b[0;34m.\u001b[0m\u001b[0mobj\u001b[0m\u001b[0;34m.\u001b[0m\u001b[0m_get_value\u001b[0m\u001b[0;34m(\u001b[0m\u001b[0;34m*\u001b[0m\u001b[0mkey\u001b[0m\u001b[0;34m,\u001b[0m \u001b[0mtakeable\u001b[0m\u001b[0;34m=\u001b[0m\u001b[0mself\u001b[0m\u001b[0;34m.\u001b[0m\u001b[0m_takeable\u001b[0m\u001b[0;34m)\u001b[0m\u001b[0;34m\u001b[0m\u001b[0;34m\u001b[0m\u001b[0m\n\u001b[0;32m--> 889\u001b[0;31m             \u001b[0;32mreturn\u001b[0m \u001b[0mself\u001b[0m\u001b[0;34m.\u001b[0m\u001b[0m_getitem_tuple\u001b[0m\u001b[0;34m(\u001b[0m\u001b[0mkey\u001b[0m\u001b[0;34m)\u001b[0m\u001b[0;34m\u001b[0m\u001b[0;34m\u001b[0m\u001b[0m\n\u001b[0m\u001b[1;32m    890\u001b[0m         \u001b[0;32melse\u001b[0m\u001b[0;34m:\u001b[0m\u001b[0;34m\u001b[0m\u001b[0;34m\u001b[0m\u001b[0m\n\u001b[1;32m    891\u001b[0m             \u001b[0;31m# we by definition only have the 0th axis\u001b[0m\u001b[0;34m\u001b[0m\u001b[0;34m\u001b[0m\u001b[0;34m\u001b[0m\u001b[0m\n",
      "\u001b[0;32m~/miniconda3/envs/pyg/lib/python3.8/site-packages/pandas/core/indexing.py\u001b[0m in \u001b[0;36m_getitem_tuple\u001b[0;34m(self, tup)\u001b[0m\n\u001b[1;32m   1058\u001b[0m     \u001b[0;32mdef\u001b[0m \u001b[0m_getitem_tuple\u001b[0m\u001b[0;34m(\u001b[0m\u001b[0mself\u001b[0m\u001b[0;34m,\u001b[0m \u001b[0mtup\u001b[0m\u001b[0;34m:\u001b[0m \u001b[0mTuple\u001b[0m\u001b[0;34m)\u001b[0m\u001b[0;34m:\u001b[0m\u001b[0;34m\u001b[0m\u001b[0;34m\u001b[0m\u001b[0m\n\u001b[1;32m   1059\u001b[0m         \u001b[0;32mwith\u001b[0m \u001b[0msuppress\u001b[0m\u001b[0;34m(\u001b[0m\u001b[0mIndexingError\u001b[0m\u001b[0;34m)\u001b[0m\u001b[0;34m:\u001b[0m\u001b[0;34m\u001b[0m\u001b[0;34m\u001b[0m\u001b[0m\n\u001b[0;32m-> 1060\u001b[0;31m             \u001b[0;32mreturn\u001b[0m \u001b[0mself\u001b[0m\u001b[0;34m.\u001b[0m\u001b[0m_getitem_lowerdim\u001b[0m\u001b[0;34m(\u001b[0m\u001b[0mtup\u001b[0m\u001b[0;34m)\u001b[0m\u001b[0;34m\u001b[0m\u001b[0;34m\u001b[0m\u001b[0m\n\u001b[0m\u001b[1;32m   1061\u001b[0m \u001b[0;34m\u001b[0m\u001b[0m\n\u001b[1;32m   1062\u001b[0m         \u001b[0;31m# no multi-index, so validate all of the indexers\u001b[0m\u001b[0;34m\u001b[0m\u001b[0;34m\u001b[0m\u001b[0;34m\u001b[0m\u001b[0m\n",
      "\u001b[0;32m~/miniconda3/envs/pyg/lib/python3.8/site-packages/pandas/core/indexing.py\u001b[0m in \u001b[0;36m_getitem_lowerdim\u001b[0;34m(self, tup)\u001b[0m\n\u001b[1;32m    829\u001b[0m                     \u001b[0;32mreturn\u001b[0m \u001b[0msection\u001b[0m\u001b[0;34m\u001b[0m\u001b[0;34m\u001b[0m\u001b[0m\n\u001b[1;32m    830\u001b[0m                 \u001b[0;31m# This is an elided recursive call to iloc/loc\u001b[0m\u001b[0;34m\u001b[0m\u001b[0;34m\u001b[0m\u001b[0;34m\u001b[0m\u001b[0m\n\u001b[0;32m--> 831\u001b[0;31m                 \u001b[0;32mreturn\u001b[0m \u001b[0mgetattr\u001b[0m\u001b[0;34m(\u001b[0m\u001b[0msection\u001b[0m\u001b[0;34m,\u001b[0m \u001b[0mself\u001b[0m\u001b[0;34m.\u001b[0m\u001b[0mname\u001b[0m\u001b[0;34m)\u001b[0m\u001b[0;34m[\u001b[0m\u001b[0mnew_key\u001b[0m\u001b[0;34m]\u001b[0m\u001b[0;34m\u001b[0m\u001b[0;34m\u001b[0m\u001b[0m\n\u001b[0m\u001b[1;32m    832\u001b[0m \u001b[0;34m\u001b[0m\u001b[0m\n\u001b[1;32m    833\u001b[0m         \u001b[0;32mraise\u001b[0m \u001b[0mIndexingError\u001b[0m\u001b[0;34m(\u001b[0m\u001b[0;34m\"not applicable\"\u001b[0m\u001b[0;34m)\u001b[0m\u001b[0;34m\u001b[0m\u001b[0;34m\u001b[0m\u001b[0m\n",
      "\u001b[0;32m~/miniconda3/envs/pyg/lib/python3.8/site-packages/pandas/core/indexing.py\u001b[0m in \u001b[0;36m__getitem__\u001b[0;34m(self, key)\u001b[0m\n\u001b[1;32m    893\u001b[0m \u001b[0;34m\u001b[0m\u001b[0m\n\u001b[1;32m    894\u001b[0m             \u001b[0mmaybe_callable\u001b[0m \u001b[0;34m=\u001b[0m \u001b[0mcom\u001b[0m\u001b[0;34m.\u001b[0m\u001b[0mapply_if_callable\u001b[0m\u001b[0;34m(\u001b[0m\u001b[0mkey\u001b[0m\u001b[0;34m,\u001b[0m \u001b[0mself\u001b[0m\u001b[0;34m.\u001b[0m\u001b[0mobj\u001b[0m\u001b[0;34m)\u001b[0m\u001b[0;34m\u001b[0m\u001b[0;34m\u001b[0m\u001b[0m\n\u001b[0;32m--> 895\u001b[0;31m             \u001b[0;32mreturn\u001b[0m \u001b[0mself\u001b[0m\u001b[0;34m.\u001b[0m\u001b[0m_getitem_axis\u001b[0m\u001b[0;34m(\u001b[0m\u001b[0mmaybe_callable\u001b[0m\u001b[0;34m,\u001b[0m \u001b[0maxis\u001b[0m\u001b[0;34m=\u001b[0m\u001b[0maxis\u001b[0m\u001b[0;34m)\u001b[0m\u001b[0;34m\u001b[0m\u001b[0;34m\u001b[0m\u001b[0m\n\u001b[0m\u001b[1;32m    896\u001b[0m \u001b[0;34m\u001b[0m\u001b[0m\n\u001b[1;32m    897\u001b[0m     \u001b[0;32mdef\u001b[0m \u001b[0m_is_scalar_access\u001b[0m\u001b[0;34m(\u001b[0m\u001b[0mself\u001b[0m\u001b[0;34m,\u001b[0m \u001b[0mkey\u001b[0m\u001b[0;34m:\u001b[0m \u001b[0mTuple\u001b[0m\u001b[0;34m)\u001b[0m\u001b[0;34m:\u001b[0m\u001b[0;34m\u001b[0m\u001b[0;34m\u001b[0m\u001b[0m\n",
      "\u001b[0;32m~/miniconda3/envs/pyg/lib/python3.8/site-packages/pandas/core/indexing.py\u001b[0m in \u001b[0;36m_getitem_axis\u001b[0;34m(self, key, axis)\u001b[0m\n\u001b[1;32m   1111\u001b[0m                     \u001b[0;32mraise\u001b[0m \u001b[0mValueError\u001b[0m\u001b[0;34m(\u001b[0m\u001b[0;34m\"Cannot index with multidimensional key\"\u001b[0m\u001b[0;34m)\u001b[0m\u001b[0;34m\u001b[0m\u001b[0;34m\u001b[0m\u001b[0m\n\u001b[1;32m   1112\u001b[0m \u001b[0;34m\u001b[0m\u001b[0m\n\u001b[0;32m-> 1113\u001b[0;31m                 \u001b[0;32mreturn\u001b[0m \u001b[0mself\u001b[0m\u001b[0;34m.\u001b[0m\u001b[0m_getitem_iterable\u001b[0m\u001b[0;34m(\u001b[0m\u001b[0mkey\u001b[0m\u001b[0;34m,\u001b[0m \u001b[0maxis\u001b[0m\u001b[0;34m=\u001b[0m\u001b[0maxis\u001b[0m\u001b[0;34m)\u001b[0m\u001b[0;34m\u001b[0m\u001b[0;34m\u001b[0m\u001b[0m\n\u001b[0m\u001b[1;32m   1114\u001b[0m \u001b[0;34m\u001b[0m\u001b[0m\n\u001b[1;32m   1115\u001b[0m             \u001b[0;31m# nested tuple slicing\u001b[0m\u001b[0;34m\u001b[0m\u001b[0;34m\u001b[0m\u001b[0;34m\u001b[0m\u001b[0m\n",
      "\u001b[0;32m~/miniconda3/envs/pyg/lib/python3.8/site-packages/pandas/core/indexing.py\u001b[0m in \u001b[0;36m_getitem_iterable\u001b[0;34m(self, key, axis)\u001b[0m\n\u001b[1;32m   1051\u001b[0m \u001b[0;34m\u001b[0m\u001b[0m\n\u001b[1;32m   1052\u001b[0m         \u001b[0;31m# A collection of keys\u001b[0m\u001b[0;34m\u001b[0m\u001b[0;34m\u001b[0m\u001b[0;34m\u001b[0m\u001b[0m\n\u001b[0;32m-> 1053\u001b[0;31m         \u001b[0mkeyarr\u001b[0m\u001b[0;34m,\u001b[0m \u001b[0mindexer\u001b[0m \u001b[0;34m=\u001b[0m \u001b[0mself\u001b[0m\u001b[0;34m.\u001b[0m\u001b[0m_get_listlike_indexer\u001b[0m\u001b[0;34m(\u001b[0m\u001b[0mkey\u001b[0m\u001b[0;34m,\u001b[0m \u001b[0maxis\u001b[0m\u001b[0;34m,\u001b[0m \u001b[0mraise_missing\u001b[0m\u001b[0;34m=\u001b[0m\u001b[0;32mFalse\u001b[0m\u001b[0;34m)\u001b[0m\u001b[0;34m\u001b[0m\u001b[0;34m\u001b[0m\u001b[0m\n\u001b[0m\u001b[1;32m   1054\u001b[0m         return self.obj._reindex_with_indexers(\n\u001b[1;32m   1055\u001b[0m             \u001b[0;34m{\u001b[0m\u001b[0maxis\u001b[0m\u001b[0;34m:\u001b[0m \u001b[0;34m[\u001b[0m\u001b[0mkeyarr\u001b[0m\u001b[0;34m,\u001b[0m \u001b[0mindexer\u001b[0m\u001b[0;34m]\u001b[0m\u001b[0;34m}\u001b[0m\u001b[0;34m,\u001b[0m \u001b[0mcopy\u001b[0m\u001b[0;34m=\u001b[0m\u001b[0;32mTrue\u001b[0m\u001b[0;34m,\u001b[0m \u001b[0mallow_dups\u001b[0m\u001b[0;34m=\u001b[0m\u001b[0;32mTrue\u001b[0m\u001b[0;34m\u001b[0m\u001b[0;34m\u001b[0m\u001b[0m\n",
      "\u001b[0;32m~/miniconda3/envs/pyg/lib/python3.8/site-packages/pandas/core/indexing.py\u001b[0m in \u001b[0;36m_get_listlike_indexer\u001b[0;34m(self, key, axis, raise_missing)\u001b[0m\n\u001b[1;32m   1264\u001b[0m             \u001b[0mkeyarr\u001b[0m\u001b[0;34m,\u001b[0m \u001b[0mindexer\u001b[0m\u001b[0;34m,\u001b[0m \u001b[0mnew_indexer\u001b[0m \u001b[0;34m=\u001b[0m \u001b[0max\u001b[0m\u001b[0;34m.\u001b[0m\u001b[0m_reindex_non_unique\u001b[0m\u001b[0;34m(\u001b[0m\u001b[0mkeyarr\u001b[0m\u001b[0;34m)\u001b[0m\u001b[0;34m\u001b[0m\u001b[0;34m\u001b[0m\u001b[0m\n\u001b[1;32m   1265\u001b[0m \u001b[0;34m\u001b[0m\u001b[0m\n\u001b[0;32m-> 1266\u001b[0;31m         \u001b[0mself\u001b[0m\u001b[0;34m.\u001b[0m\u001b[0m_validate_read_indexer\u001b[0m\u001b[0;34m(\u001b[0m\u001b[0mkeyarr\u001b[0m\u001b[0;34m,\u001b[0m \u001b[0mindexer\u001b[0m\u001b[0;34m,\u001b[0m \u001b[0maxis\u001b[0m\u001b[0;34m,\u001b[0m \u001b[0mraise_missing\u001b[0m\u001b[0;34m=\u001b[0m\u001b[0mraise_missing\u001b[0m\u001b[0;34m)\u001b[0m\u001b[0;34m\u001b[0m\u001b[0;34m\u001b[0m\u001b[0m\n\u001b[0m\u001b[1;32m   1267\u001b[0m         \u001b[0;32mreturn\u001b[0m \u001b[0mkeyarr\u001b[0m\u001b[0;34m,\u001b[0m \u001b[0mindexer\u001b[0m\u001b[0;34m\u001b[0m\u001b[0;34m\u001b[0m\u001b[0m\n\u001b[1;32m   1268\u001b[0m \u001b[0;34m\u001b[0m\u001b[0m\n",
      "\u001b[0;32m~/miniconda3/envs/pyg/lib/python3.8/site-packages/pandas/core/indexing.py\u001b[0m in \u001b[0;36m_validate_read_indexer\u001b[0;34m(self, key, indexer, axis, raise_missing)\u001b[0m\n\u001b[1;32m   1319\u001b[0m \u001b[0;34m\u001b[0m\u001b[0m\n\u001b[1;32m   1320\u001b[0m             \u001b[0;32mwith\u001b[0m \u001b[0moption_context\u001b[0m\u001b[0;34m(\u001b[0m\u001b[0;34m\"display.max_seq_items\"\u001b[0m\u001b[0;34m,\u001b[0m \u001b[0;36m10\u001b[0m\u001b[0;34m,\u001b[0m \u001b[0;34m\"display.width\"\u001b[0m\u001b[0;34m,\u001b[0m \u001b[0;36m80\u001b[0m\u001b[0;34m)\u001b[0m\u001b[0;34m:\u001b[0m\u001b[0;34m\u001b[0m\u001b[0;34m\u001b[0m\u001b[0m\n\u001b[0;32m-> 1321\u001b[0;31m                 raise KeyError(\n\u001b[0m\u001b[1;32m   1322\u001b[0m                     \u001b[0;34m\"Passing list-likes to .loc or [] with any missing labels \"\u001b[0m\u001b[0;34m\u001b[0m\u001b[0;34m\u001b[0m\u001b[0m\n\u001b[1;32m   1323\u001b[0m                     \u001b[0;34m\"is no longer supported. \"\u001b[0m\u001b[0;34m\u001b[0m\u001b[0;34m\u001b[0m\u001b[0m\n",
      "\u001b[0;31mKeyError\u001b[0m: \"Passing list-likes to .loc or [] with any missing labels is no longer supported. The following labels were missing: Int64Index([  41,   41,  537,  537,  537,\\n            ...\\n            7224, 7224, 7224, 7224, 7224],\\n           dtype='int64', name='gene_id', length=350). See https://pandas.pydata.org/pandas-docs/stable/user_guide/indexing.html#deprecate-loc-reindex-listlike\""
     ]
    }
   ],
   "source": [
    "id_mapping.loc[group.src.values, 'node_id']"
   ]
  },
  {
   "cell_type": "code",
   "execution_count": 80,
   "id": "274be731",
   "metadata": {
    "ExecuteTime": {
     "end_time": "2022-07-08T09:17:50.567924Z",
     "start_time": "2022-07-08T09:17:50.562611Z"
    }
   },
   "outputs": [
    {
     "data": {
      "text/plain": [
       "array([ 6446,  6446,  6446, ..., 51393, 51393, 51393])"
      ]
     },
     "execution_count": 80,
     "metadata": {},
     "output_type": "execute_result"
    }
   ],
   "source": [
    "group.src.values"
   ]
  },
  {
   "cell_type": "code",
   "execution_count": 76,
   "id": "eda6a565",
   "metadata": {
    "ExecuteTime": {
     "end_time": "2022-07-08T09:15:32.706381Z",
     "start_time": "2022-07-08T09:15:32.702972Z"
    }
   },
   "outputs": [
    {
     "data": {
      "text/plain": [
       "tensor([[ 6446,  6446,  6446,  ..., 51393, 51393, 51393],\n",
       "        [ 5894,  6337,  6338,  ...,   489,  9635,   815]])"
      ]
     },
     "execution_count": 76,
     "metadata": {},
     "output_type": "execute_result"
    }
   ],
   "source": [
    "torch.tensor([group.src.values, group.dest.values], dtype=torch.long)"
   ]
  },
  {
   "cell_type": "code",
   "execution_count": null,
   "id": "3cd3e50f",
   "metadata": {},
   "outputs": [],
   "source": [
    "from torch_geometric.data import Data\n",
    "\n",
    "edge_index = torch.tensor([group.src.values, group.dest.values], dtype=torch.long)\n"
   ]
  },
  {
   "cell_type": "code",
   "execution_count": null,
   "id": "60d23d02",
   "metadata": {},
   "outputs": [],
   "source": []
  },
  {
   "cell_type": "code",
   "execution_count": null,
   "id": "485ec091",
   "metadata": {},
   "outputs": [],
   "source": []
  },
  {
   "cell_type": "code",
   "execution_count": null,
   "id": "5b7ed552",
   "metadata": {},
   "outputs": [],
   "source": []
  },
  {
   "cell_type": "code",
   "execution_count": null,
   "id": "419b17ed",
   "metadata": {},
   "outputs": [],
   "source": []
  },
  {
   "cell_type": "code",
   "execution_count": null,
   "id": "aa885896",
   "metadata": {},
   "outputs": [],
   "source": []
  },
  {
   "cell_type": "markdown",
   "id": "7ba9dd6f",
   "metadata": {},
   "source": [
    "# 模型参数"
   ]
  },
  {
   "cell_type": "code",
   "execution_count": 5,
   "id": "1153e257",
   "metadata": {
    "ExecuteTime": {
     "end_time": "2022-07-05T08:37:36.592725Z",
     "start_time": "2022-07-05T08:37:36.582940Z"
    }
   },
   "outputs": [],
   "source": [
    "import torch\n",
    "import torch.nn as nn\n",
    "import torch.nn.functional as F\n",
    "import dgl\n",
    "import dgl.nn.pytorch as dglnn\n",
    "from dgl.nn import Set2Set\n",
    "\n",
    "class DeepMOI(nn.Module):\n",
    "    def __init__(self, in_dim, pathway, add_features=None):\n",
    "        \"\"\"\n",
    "        in_dim: == omics' number\n",
    "        hidden_dim: == \n",
    "        \"\"\"\n",
    "        super(DeepMOI, self).__init__()\n",
    "        \n",
    "        hidden_dim1 = 256\n",
    "        hidden_dim2 = 64\n",
    "        \n",
    "        # GNN-1\n",
    "        self.gin_lin1 = torch.nn.Linear(in_dim, in_dim*3)\n",
    "        self.conv1 = dglnn.GINConv(self.gin_lin1, 'sum')\n",
    "        self.sns1 = Set2Set(in_dim*3, 2, 1)\n",
    "        \n",
    "        # GNN-2\n",
    "        self.gin_lin2 = torch.nn.Linear(in_dim*3, in_dim*8)\n",
    "        self.conv2 = dglnn.GINConv(self.gin_lin2)\n",
    "        self.sns2 = Set2Set(in_dim*8, 2, 1)\n",
    "        \n",
    "        # GNN-3\n",
    "        self.gin_lin3 = torch.nn.Linear(in_dim*8, in_dim*16)\n",
    "        self.conv3 = dglnn.GINConv(self.gin_lin3)\n",
    "        self.sns3 = Set2Set(in_dim*16, 2, 1)\n",
    "        \n",
    "        # GNN-4\n",
    "        self.gin_lin4 = torch.nn.Linear(in_dim*16, in_dim*32)\n",
    "        self.conv4 = dglnn.GINConv(self.gin_lin4)\n",
    "        self.sns4 = Set2Set(in_dim*32, 2, 1)\n",
    " \n",
    "        self.ln_gpool = nn.Linear(in_dim*3*2 + in_dim*8*2 + in_dim*16*2 + in_dim*32*2, 1)\n",
    "        \n",
    "        # MLP\n",
    "        if add_features == None:\n",
    "            self.lin1 = nn.Linear(len(pathway), hidden_dim1)  # not including clinical features \n",
    "        else:\n",
    "            add_num = add_features.shape[1]\n",
    "            self.lin1 = nn.Linear(len(pathway) + add_num, hidden_dim1)  # including clinical features    \n",
    "        self.lin2 = nn.Linear(hidden_dim1, hidden_dim2)\n",
    "        self.lin3 = nn.Linear(hidden_dim2, 1)\n",
    "        \n",
    "        # other args\n",
    "        self.pathway = pathway\n",
    "\n",
    "\n",
    "    def forward(self, g, h, c=None):\n",
    "        \n",
    "        # subnetwork1: GRL layers\n",
    "        h1 = F.relu(self.conv1(g, h))\n",
    "        h2 = F.relu(self.conv2(g, h1))\n",
    "        h3 = F.relu(self.conv3(g, h2))\n",
    "        h4 = F.relu(self.conv4(g, h3))\n",
    "        # subnetwork2: patyway layers\n",
    "        with g.local_scope():\n",
    "            g.ndata['h1'] = h1\n",
    "            g.ndata['h2'] = h2\n",
    "            g.ndata['h3'] = h3\n",
    "            g.ndata['h4'] = h4\n",
    "            # global pooling with Set2Set: output dim = 2*node_dim\n",
    "            subgraphs = [dgl.node_subgraph(g, n) for n in self.pathway.values()]\n",
    "            graphs_ = dgl.batch(subgraphs)\n",
    "            readout1 =  self.sns1(graphs_, graphs_.ndata['h1'])\n",
    "            readout2 =  self.sns2(graphs_, graphs_.ndata['h2'])\n",
    "            readout3 =  self.sns3(graphs_, graphs_.ndata['h3'])\n",
    "            readout4 =  self.sns4(graphs_, graphs_.ndata['h4'])\n",
    "            readout = torch.stack([readout1, readout2, readout3, readout4], dim=1)\n",
    "            readout = readout.reshape(readout.shape[0], -1)\n",
    "            print(readout.shape)\n",
    "            # compute pathway score\n",
    "            x = self.ln_gpool(readout)\n",
    "            \n",
    "            # additional features\n",
    "            if c != None:\n",
    "                x = torch.cat([x, c], dim=0)\n",
    "            \n",
    "            # reshape\n",
    "            x = x.reshape(1,-1)  # add features\n",
    "            \n",
    "            # linear-1\n",
    "            x = nn.Tanh()(self.lin1(x))\n",
    "            \n",
    "            x = nn.Dropout(p=0.2)(x)\n",
    "            \n",
    "            # linear-2\n",
    "            x = nn.ReLU()(self.lin2(x))\n",
    "\n",
    "            # linear-3\n",
    "            logit = nn.Sigmoid()(self.lin3(x))\n",
    "\n",
    "            return logit"
   ]
  },
  {
   "cell_type": "code",
   "execution_count": 6,
   "id": "de115a30",
   "metadata": {
    "ExecuteTime": {
     "end_time": "2022-07-05T08:37:45.158917Z",
     "start_time": "2022-07-05T08:37:43.613393Z"
    },
    "scrolled": true
   },
   "outputs": [
    {
     "ename": "RuntimeError",
     "evalue": "stack expects each tensor to be equal size, but got [857, 12] at entry 0 and [857, 32] at entry 1",
     "output_type": "error",
     "traceback": [
      "\u001b[0;31m---------------------------------------------------------------------------\u001b[0m",
      "\u001b[0;31mRuntimeError\u001b[0m                              Traceback (most recent call last)",
      "\u001b[0;32m/tmp/ipykernel_27156/1543636687.py\u001b[0m in \u001b[0;36m<module>\u001b[0;34m\u001b[0m\n\u001b[1;32m      2\u001b[0m \u001b[0;34m\u001b[0m\u001b[0m\n\u001b[1;32m      3\u001b[0m \u001b[0mi\u001b[0m \u001b[0;34m=\u001b[0m \u001b[0;36m0\u001b[0m\u001b[0;34m\u001b[0m\u001b[0;34m\u001b[0m\u001b[0m\n\u001b[0;32m----> 4\u001b[0;31m \u001b[0mmodel\u001b[0m\u001b[0;34m(\u001b[0m\u001b[0mg\u001b[0m\u001b[0;34m=\u001b[0m\u001b[0mgraph\u001b[0m\u001b[0;34m,\u001b[0m \u001b[0mh\u001b[0m\u001b[0;34m=\u001b[0m\u001b[0momic_features\u001b[0m\u001b[0;34m[\u001b[0m\u001b[0;34m:\u001b[0m\u001b[0;34m,\u001b[0m \u001b[0mi\u001b[0m\u001b[0;34m,\u001b[0m \u001b[0;34m:\u001b[0m\u001b[0;34m]\u001b[0m\u001b[0;34m,\u001b[0m \u001b[0mc\u001b[0m\u001b[0;34m=\u001b[0m\u001b[0madd_features\u001b[0m\u001b[0;34m[\u001b[0m\u001b[0mi\u001b[0m\u001b[0;34m]\u001b[0m\u001b[0;34m)\u001b[0m\u001b[0;34m\u001b[0m\u001b[0;34m\u001b[0m\u001b[0m\n\u001b[0m",
      "\u001b[0;32m~/miniconda3/envs/pyg/lib/python3.8/site-packages/torch/nn/modules/module.py\u001b[0m in \u001b[0;36m_call_impl\u001b[0;34m(self, *input, **kwargs)\u001b[0m\n\u001b[1;32m    887\u001b[0m             \u001b[0mresult\u001b[0m \u001b[0;34m=\u001b[0m \u001b[0mself\u001b[0m\u001b[0;34m.\u001b[0m\u001b[0m_slow_forward\u001b[0m\u001b[0;34m(\u001b[0m\u001b[0;34m*\u001b[0m\u001b[0minput\u001b[0m\u001b[0;34m,\u001b[0m \u001b[0;34m**\u001b[0m\u001b[0mkwargs\u001b[0m\u001b[0;34m)\u001b[0m\u001b[0;34m\u001b[0m\u001b[0;34m\u001b[0m\u001b[0m\n\u001b[1;32m    888\u001b[0m         \u001b[0;32melse\u001b[0m\u001b[0;34m:\u001b[0m\u001b[0;34m\u001b[0m\u001b[0;34m\u001b[0m\u001b[0m\n\u001b[0;32m--> 889\u001b[0;31m             \u001b[0mresult\u001b[0m \u001b[0;34m=\u001b[0m \u001b[0mself\u001b[0m\u001b[0;34m.\u001b[0m\u001b[0mforward\u001b[0m\u001b[0;34m(\u001b[0m\u001b[0;34m*\u001b[0m\u001b[0minput\u001b[0m\u001b[0;34m,\u001b[0m \u001b[0;34m**\u001b[0m\u001b[0mkwargs\u001b[0m\u001b[0;34m)\u001b[0m\u001b[0;34m\u001b[0m\u001b[0;34m\u001b[0m\u001b[0m\n\u001b[0m\u001b[1;32m    890\u001b[0m         for hook in itertools.chain(\n\u001b[1;32m    891\u001b[0m                 \u001b[0m_global_forward_hooks\u001b[0m\u001b[0;34m.\u001b[0m\u001b[0mvalues\u001b[0m\u001b[0;34m(\u001b[0m\u001b[0;34m)\u001b[0m\u001b[0;34m,\u001b[0m\u001b[0;34m\u001b[0m\u001b[0;34m\u001b[0m\u001b[0m\n",
      "\u001b[0;32m/tmp/ipykernel_27156/3978098790.py\u001b[0m in \u001b[0;36mforward\u001b[0;34m(self, g, h, c)\u001b[0m\n\u001b[1;32m     72\u001b[0m             \u001b[0mreadout3\u001b[0m \u001b[0;34m=\u001b[0m  \u001b[0mself\u001b[0m\u001b[0;34m.\u001b[0m\u001b[0msns3\u001b[0m\u001b[0;34m(\u001b[0m\u001b[0mgraphs_\u001b[0m\u001b[0;34m,\u001b[0m \u001b[0mgraphs_\u001b[0m\u001b[0;34m.\u001b[0m\u001b[0mndata\u001b[0m\u001b[0;34m[\u001b[0m\u001b[0;34m'h3'\u001b[0m\u001b[0;34m]\u001b[0m\u001b[0;34m)\u001b[0m\u001b[0;34m\u001b[0m\u001b[0;34m\u001b[0m\u001b[0m\n\u001b[1;32m     73\u001b[0m             \u001b[0mreadout4\u001b[0m \u001b[0;34m=\u001b[0m  \u001b[0mself\u001b[0m\u001b[0;34m.\u001b[0m\u001b[0msns4\u001b[0m\u001b[0;34m(\u001b[0m\u001b[0mgraphs_\u001b[0m\u001b[0;34m,\u001b[0m \u001b[0mgraphs_\u001b[0m\u001b[0;34m.\u001b[0m\u001b[0mndata\u001b[0m\u001b[0;34m[\u001b[0m\u001b[0;34m'h4'\u001b[0m\u001b[0;34m]\u001b[0m\u001b[0;34m)\u001b[0m\u001b[0;34m\u001b[0m\u001b[0;34m\u001b[0m\u001b[0m\n\u001b[0;32m---> 74\u001b[0;31m             \u001b[0mreadout\u001b[0m \u001b[0;34m=\u001b[0m \u001b[0mtorch\u001b[0m\u001b[0;34m.\u001b[0m\u001b[0mstack\u001b[0m\u001b[0;34m(\u001b[0m\u001b[0;34m[\u001b[0m\u001b[0mreadout1\u001b[0m\u001b[0;34m,\u001b[0m \u001b[0mreadout2\u001b[0m\u001b[0;34m,\u001b[0m \u001b[0mreadout3\u001b[0m\u001b[0;34m,\u001b[0m \u001b[0mreadout4\u001b[0m\u001b[0;34m]\u001b[0m\u001b[0;34m,\u001b[0m \u001b[0mdim\u001b[0m\u001b[0;34m=\u001b[0m\u001b[0;36m1\u001b[0m\u001b[0;34m)\u001b[0m\u001b[0;34m\u001b[0m\u001b[0;34m\u001b[0m\u001b[0m\n\u001b[0m\u001b[1;32m     75\u001b[0m             \u001b[0mreadout\u001b[0m \u001b[0;34m=\u001b[0m \u001b[0mreadout\u001b[0m\u001b[0;34m.\u001b[0m\u001b[0mreshape\u001b[0m\u001b[0;34m(\u001b[0m\u001b[0mreadout\u001b[0m\u001b[0;34m.\u001b[0m\u001b[0mshape\u001b[0m\u001b[0;34m[\u001b[0m\u001b[0;36m0\u001b[0m\u001b[0;34m]\u001b[0m\u001b[0;34m,\u001b[0m \u001b[0;34m-\u001b[0m\u001b[0;36m1\u001b[0m\u001b[0;34m)\u001b[0m\u001b[0;34m\u001b[0m\u001b[0;34m\u001b[0m\u001b[0m\n\u001b[1;32m     76\u001b[0m             \u001b[0mprint\u001b[0m\u001b[0;34m(\u001b[0m\u001b[0mreadout\u001b[0m\u001b[0;34m.\u001b[0m\u001b[0mshape\u001b[0m\u001b[0;34m)\u001b[0m\u001b[0;34m\u001b[0m\u001b[0;34m\u001b[0m\u001b[0m\n",
      "\u001b[0;31mRuntimeError\u001b[0m: stack expects each tensor to be equal size, but got [857, 12] at entry 0 and [857, 32] at entry 1"
     ]
    }
   ],
   "source": [
    "model = DeepMOI(in_dim=len(omics_files), pathway=pathways, add_features=add_features)\n",
    "\n",
    "i = 0\n",
    "model(g=graph, h=omic_features[:, i, :], c=add_features[i])"
   ]
  },
  {
   "cell_type": "code",
   "execution_count": 78,
   "id": "985b2867",
   "metadata": {
    "ExecuteTime": {
     "end_time": "2022-07-05T06:34:05.454649Z",
     "start_time": "2022-07-05T06:34:05.452366Z"
    }
   },
   "outputs": [
    {
     "name": "stdout",
     "output_type": "stream",
     "text": [
      "# Model parameters: 590820\n"
     ]
    }
   ],
   "source": [
    "print('# Model parameters:', sum(param.numel() for param in model.parameters()))"
   ]
  },
  {
   "cell_type": "code",
   "execution_count": 83,
   "id": "eaefc855",
   "metadata": {
    "ExecuteTime": {
     "end_time": "2022-07-05T07:44:35.255977Z",
     "start_time": "2022-07-05T07:44:32.727449Z"
    }
   },
   "outputs": [],
   "source": [
    "# to device\n",
    "device = 'cuda'\n",
    "graph = graph.to(device)\n",
    "omic_features = omic_features.to(device)\n",
    "if add_features != None:\n",
    "    add_features = add_features.to(device)"
   ]
  },
  {
   "cell_type": "code",
   "execution_count": 107,
   "id": "7ab69dc5",
   "metadata": {
    "ExecuteTime": {
     "end_time": "2022-07-05T08:13:37.097533Z",
     "start_time": "2022-07-05T08:13:37.087160Z"
    }
   },
   "outputs": [],
   "source": [
    "model = model.to(device)"
   ]
  },
  {
   "cell_type": "code",
   "execution_count": 108,
   "id": "4c8dc44e",
   "metadata": {
    "ExecuteTime": {
     "end_time": "2022-07-05T08:13:38.855741Z",
     "start_time": "2022-07-05T08:13:37.862041Z"
    }
   },
   "outputs": [
    {
     "name": "stdout",
     "output_type": "stream",
     "text": [
      "torch.Size([857, 384])\n"
     ]
    },
    {
     "data": {
      "text/plain": [
       "tensor([[0.5165]], device='cuda:0', grad_fn=<SigmoidBackward>)"
      ]
     },
     "execution_count": 108,
     "metadata": {},
     "output_type": "execute_result"
    }
   ],
   "source": [
    "i = 0\n",
    "model(g=graph, h=omic_features[:, i, :], c=add_features[i])"
   ]
  },
  {
   "cell_type": "code",
   "execution_count": 102,
   "id": "fc3cf13e",
   "metadata": {
    "ExecuteTime": {
     "end_time": "2022-07-05T07:46:08.967793Z",
     "start_time": "2022-07-05T07:46:08.376352Z"
    }
   },
   "outputs": [
    {
     "name": "stdout",
     "output_type": "stream",
     "text": [
      "torch.Size([857, 384])\n"
     ]
    }
   ],
   "source": [
    "logit = model(g=graph, h=omic_features[:, i, :], c=add_features[i])"
   ]
  },
  {
   "cell_type": "code",
   "execution_count": 104,
   "id": "cdb2ced7",
   "metadata": {
    "ExecuteTime": {
     "end_time": "2022-07-05T07:46:30.666413Z",
     "start_time": "2022-07-05T07:46:30.651800Z"
    }
   },
   "outputs": [
    {
     "data": {
      "text/plain": [
       "tensor([[0.4264]], grad_fn=<CopyBackwards>)"
      ]
     },
     "execution_count": 104,
     "metadata": {},
     "output_type": "execute_result"
    }
   ],
   "source": [
    "logit.to(device='cpu')"
   ]
  },
  {
   "cell_type": "markdown",
   "id": "8856796f",
   "metadata": {},
   "source": [
    "# 固定部分参数"
   ]
  },
  {
   "cell_type": "code",
   "execution_count": 75,
   "id": "d67195c6",
   "metadata": {
    "ExecuteTime": {
     "end_time": "2022-07-05T06:31:58.242322Z",
     "start_time": "2022-07-05T06:31:58.239340Z"
    }
   },
   "outputs": [
    {
     "name": "stdout",
     "output_type": "stream",
     "text": [
      "152163\n"
     ]
    }
   ],
   "source": [
    "# 固定部分参数\n",
    "\n",
    "for k,v in model.named_parameters():\n",
    "    if k.startswith('lin'):\n",
    "        v.requires_grad = False\n",
    "        \n",
    "n = 0\n",
    "for param in model.parameters():\n",
    "    if param.requires_grad == True:\n",
    "        n += param.numel()\n",
    "print(n)"
   ]
  },
  {
   "cell_type": "code",
   "execution_count": 40,
   "id": "787e1c5d",
   "metadata": {
    "ExecuteTime": {
     "end_time": "2022-07-05T05:59:29.949898Z",
     "start_time": "2022-07-05T05:59:29.946342Z"
    }
   },
   "outputs": [
    {
     "name": "stdout",
     "output_type": "stream",
     "text": [
      "227\n"
     ]
    }
   ],
   "source": [
    "# 固定部分参数\n",
    "\n",
    "for k,v in model.named_parameters():\n",
    "    if k.startswith('lin'):\n",
    "        v.requires_grad = False\n",
    "        \n",
    "n = 0\n",
    "for param in model.parameters():\n",
    "    if param.requires_grad == True:\n",
    "        n += param.numel()\n",
    "print(n)"
   ]
  },
  {
   "cell_type": "code",
   "execution_count": 42,
   "id": "a4cee109",
   "metadata": {
    "ExecuteTime": {
     "end_time": "2022-07-05T06:00:59.971954Z",
     "start_time": "2022-07-05T06:00:59.968705Z"
    }
   },
   "outputs": [
    {
     "name": "stdout",
     "output_type": "stream",
     "text": [
      "438657\n"
     ]
    }
   ],
   "source": [
    "for k,v in model.named_parameters():\n",
    "    if  k.startswith('lin'):\n",
    "        v.requires_grad = True\n",
    "    else:\n",
    "        v.requires_grad = False\n",
    "\n",
    "n = 0\n",
    "for param in model.parameters():\n",
    "    if param.requires_grad == True:\n",
    "        n += param.numel()\n",
    "print(n)"
   ]
  },
  {
   "cell_type": "markdown",
   "id": "53fe3904",
   "metadata": {},
   "source": [
    "# Sequential"
   ]
  },
  {
   "cell_type": "code",
   "execution_count": null,
   "id": "067503cb",
   "metadata": {},
   "outputs": [],
   "source": []
  }
 ],
 "metadata": {
  "kernelspec": {
   "display_name": "Python 3 (ipykernel)",
   "language": "python",
   "name": "python3"
  },
  "language_info": {
   "codemirror_mode": {
    "name": "ipython",
    "version": 3
   },
   "file_extension": ".py",
   "mimetype": "text/x-python",
   "name": "python",
   "nbconvert_exporter": "python",
   "pygments_lexer": "ipython3",
   "version": "3.8.12"
  },
  "toc": {
   "base_numbering": 1,
   "nav_menu": {},
   "number_sections": true,
   "sideBar": true,
   "skip_h1_title": false,
   "title_cell": "Table of Contents",
   "title_sidebar": "Contents",
   "toc_cell": false,
   "toc_position": {},
   "toc_section_display": true,
   "toc_window_display": false
  },
  "varInspector": {
   "cols": {
    "lenName": 16,
    "lenType": 16,
    "lenVar": 40
   },
   "kernels_config": {
    "python": {
     "delete_cmd_postfix": "",
     "delete_cmd_prefix": "del ",
     "library": "var_list.py",
     "varRefreshCmd": "print(var_dic_list())"
    },
    "r": {
     "delete_cmd_postfix": ") ",
     "delete_cmd_prefix": "rm(",
     "library": "var_list.r",
     "varRefreshCmd": "cat(var_dic_list()) "
    }
   },
   "types_to_exclude": [
    "module",
    "function",
    "builtin_function_or_method",
    "instance",
    "_Feature"
   ],
   "window_display": false
  }
 },
 "nbformat": 4,
 "nbformat_minor": 5
}
