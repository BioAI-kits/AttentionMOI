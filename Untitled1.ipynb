{
 "cells": [
  {
   "cell_type": "code",
   "execution_count": 1,
   "id": "061cdbfa",
   "metadata": {
    "ExecuteTime": {
     "end_time": "2022-07-05T08:33:04.616554Z",
     "start_time": "2022-07-05T08:33:03.647214Z"
    }
   },
   "outputs": [],
   "source": [
    "import sys, os, argparse, warnings, time\n",
    "import numpy as np\n",
    "import pandas as pd\n",
    "import torch\n",
    "import torch.nn as nn\n",
    "import torch.nn.functional as F\n",
    "from data import *\n",
    "from util import *\n",
    "from module import DeepMOI"
   ]
  },
  {
   "cell_type": "code",
   "execution_count": 4,
   "id": "db81a79e",
   "metadata": {
    "ExecuteTime": {
     "end_time": "2022-07-05T08:34:55.733878Z",
     "start_time": "2022-07-05T08:34:55.730462Z"
    }
   },
   "outputs": [],
   "source": [
    "def batch_idx(train_idx, minibatch):\n",
    "    \"\"\"To obtain batch index.\n",
    "    train_idx (list): index of training dataset.\n",
    "    minibatch (int): sample's number in each batch.\n",
    "\n",
    "    Return:\n",
    "        batch_idx (list): the element is list, i.e., index for each batch.\n",
    "    \"\"\"\n",
    "    batch_idx, m = [], 0\n",
    "    while True:\n",
    "        if (m+1)*minibatch < len(train_idx):\n",
    "            batch_idx.append(train_idx[m*minibatch:(m+1)*minibatch])\n",
    "        else:\n",
    "            batch_idx.append(train_idx[m*minibatch:])\n",
    "            break\n",
    "        m += 1\n",
    "    return batch_idx\n",
    "\n",
    "\n",
    "def data_split(labels, test_size):\n",
    "    \"\"\"To split dataset into training dataset and testing dataset.\n",
    "    Args:\n",
    "        labels (numpy): The labels of samples.\n",
    "        test_size (float, 0-1): The proportion of test data.\n",
    "    \n",
    "    Return:\n",
    "        (list) index of training data, index of testing data\n",
    "    \"\"\"\n",
    "    test_number = int(len(labels) * test_size)\n",
    "    idx = list(range(len(labels)))\n",
    "    np.random.shuffle(idx)\n",
    "    return idx[test_number:], idx[:test_number]\n",
    "\n"
   ]
  },
  {
   "cell_type": "code",
   "execution_count": 2,
   "id": "d1d14a0e",
   "metadata": {
    "ExecuteTime": {
     "end_time": "2022-07-05T08:34:54.330253Z",
     "start_time": "2022-07-05T08:33:05.348513Z"
    }
   },
   "outputs": [
    {
     "name": "stdout",
     "output_type": "stream",
     "text": [
      "[INFO] Reading dataset. There are 2 omics data in total.\n",
      "\n",
      "[INFO] The overlaping genes number between omics and ppi dataset is: 14803\n",
      "\n"
     ]
    }
   ],
   "source": [
    "omics_files = ['./data/LGG/rna.csv.gz', './data/LGG/met.csv.gz']\n",
    "label_file = './data/LGG/label.csv'\n",
    "add_file = './data/LGG/mirna.csv.gz'\n",
    "network_file = 'default'\n",
    "\n",
    "print('[INFO] Reading dataset. There are {} omics data in total.\\n'.format(len(omics_files)))\n",
    "omics = read_omics(omics_files=omics_files, label_file=label_file, add_file=add_file)\n",
    "graph, labels, add_features, id_mapping = build_graph(omics=omics, label_file=label_file, add_file=add_file, network_file=network_file)\n",
    "omic_features = graph.ndata['h']"
   ]
  },
  {
   "cell_type": "code",
   "execution_count": 3,
   "id": "1b1c49e9",
   "metadata": {
    "ExecuteTime": {
     "end_time": "2022-07-05T08:34:55.452010Z",
     "start_time": "2022-07-05T08:34:54.422516Z"
    }
   },
   "outputs": [],
   "source": [
    "pathways = read_pathways(id_mapping=id_mapping, file='./Pathway/pathway_genes.gmt')"
   ]
  },
  {
   "cell_type": "markdown",
   "id": "7ba9dd6f",
   "metadata": {},
   "source": [
    "# 模型参数"
   ]
  },
  {
   "cell_type": "code",
   "execution_count": 5,
   "id": "1153e257",
   "metadata": {
    "ExecuteTime": {
     "end_time": "2022-07-05T08:37:36.592725Z",
     "start_time": "2022-07-05T08:37:36.582940Z"
    }
   },
   "outputs": [],
   "source": [
    "import torch\n",
    "import torch.nn as nn\n",
    "import torch.nn.functional as F\n",
    "import dgl\n",
    "import dgl.nn.pytorch as dglnn\n",
    "from dgl.nn import Set2Set\n",
    "\n",
    "class DeepMOI(nn.Module):\n",
    "    def __init__(self, in_dim, pathway, add_features=None):\n",
    "        \"\"\"\n",
    "        in_dim: == omics' number\n",
    "        hidden_dim: == \n",
    "        \"\"\"\n",
    "        super(DeepMOI, self).__init__()\n",
    "        \n",
    "        hidden_dim1 = 256\n",
    "        hidden_dim2 = 64\n",
    "        \n",
    "        # GNN-1\n",
    "        self.gin_lin1 = torch.nn.Linear(in_dim, in_dim*3)\n",
    "        self.conv1 = dglnn.GINConv(self.gin_lin1, 'sum')\n",
    "        self.sns1 = Set2Set(in_dim*3, 2, 1)\n",
    "        \n",
    "        # GNN-2\n",
    "        self.gin_lin2 = torch.nn.Linear(in_dim*3, in_dim*8)\n",
    "        self.conv2 = dglnn.GINConv(self.gin_lin2)\n",
    "        self.sns2 = Set2Set(in_dim*8, 2, 1)\n",
    "        \n",
    "        # GNN-3\n",
    "        self.gin_lin3 = torch.nn.Linear(in_dim*8, in_dim*16)\n",
    "        self.conv3 = dglnn.GINConv(self.gin_lin3)\n",
    "        self.sns3 = Set2Set(in_dim*16, 2, 1)\n",
    "        \n",
    "        # GNN-4\n",
    "        self.gin_lin4 = torch.nn.Linear(in_dim*16, in_dim*32)\n",
    "        self.conv4 = dglnn.GINConv(self.gin_lin4)\n",
    "        self.sns4 = Set2Set(in_dim*32, 2, 1)\n",
    " \n",
    "        self.ln_gpool = nn.Linear(in_dim*3*2 + in_dim*8*2 + in_dim*16*2 + in_dim*32*2, 1)\n",
    "        \n",
    "        # MLP\n",
    "        if add_features == None:\n",
    "            self.lin1 = nn.Linear(len(pathway), hidden_dim1)  # not including clinical features \n",
    "        else:\n",
    "            add_num = add_features.shape[1]\n",
    "            self.lin1 = nn.Linear(len(pathway) + add_num, hidden_dim1)  # including clinical features    \n",
    "        self.lin2 = nn.Linear(hidden_dim1, hidden_dim2)\n",
    "        self.lin3 = nn.Linear(hidden_dim2, 1)\n",
    "        \n",
    "        # other args\n",
    "        self.pathway = pathway\n",
    "\n",
    "\n",
    "    def forward(self, g, h, c=None):\n",
    "        \n",
    "        # subnetwork1: GRL layers\n",
    "        h1 = F.relu(self.conv1(g, h))\n",
    "        h2 = F.relu(self.conv2(g, h1))\n",
    "        h3 = F.relu(self.conv3(g, h2))\n",
    "        h4 = F.relu(self.conv4(g, h3))\n",
    "        # subnetwork2: patyway layers\n",
    "        with g.local_scope():\n",
    "            g.ndata['h1'] = h1\n",
    "            g.ndata['h2'] = h2\n",
    "            g.ndata['h3'] = h3\n",
    "            g.ndata['h4'] = h4\n",
    "            # global pooling with Set2Set: output dim = 2*node_dim\n",
    "            subgraphs = [dgl.node_subgraph(g, n) for n in self.pathway.values()]\n",
    "            graphs_ = dgl.batch(subgraphs)\n",
    "            readout1 =  self.sns1(graphs_, graphs_.ndata['h1'])\n",
    "            readout2 =  self.sns2(graphs_, graphs_.ndata['h2'])\n",
    "            readout3 =  self.sns3(graphs_, graphs_.ndata['h3'])\n",
    "            readout4 =  self.sns4(graphs_, graphs_.ndata['h4'])\n",
    "            readout = torch.stack([readout1, readout2, readout3, readout4], dim=1)\n",
    "            readout = readout.reshape(readout.shape[0], -1)\n",
    "            print(readout.shape)\n",
    "            # compute pathway score\n",
    "            x = self.ln_gpool(readout)\n",
    "            \n",
    "            # additional features\n",
    "            if c != None:\n",
    "                x = torch.cat([x, c], dim=0)\n",
    "            \n",
    "            # reshape\n",
    "            x = x.reshape(1,-1)  # add features\n",
    "            \n",
    "            # linear-1\n",
    "            x = nn.Tanh()(self.lin1(x))\n",
    "            \n",
    "            x = nn.Dropout(p=0.2)(x)\n",
    "            \n",
    "            # linear-2\n",
    "            x = nn.ReLU()(self.lin2(x))\n",
    "\n",
    "            # linear-3\n",
    "            logit = nn.Sigmoid()(self.lin3(x))\n",
    "\n",
    "            return logit"
   ]
  },
  {
   "cell_type": "code",
   "execution_count": 6,
   "id": "de115a30",
   "metadata": {
    "ExecuteTime": {
     "end_time": "2022-07-05T08:37:45.158917Z",
     "start_time": "2022-07-05T08:37:43.613393Z"
    },
    "scrolled": true
   },
   "outputs": [
    {
     "ename": "RuntimeError",
     "evalue": "stack expects each tensor to be equal size, but got [857, 12] at entry 0 and [857, 32] at entry 1",
     "output_type": "error",
     "traceback": [
      "\u001b[0;31m---------------------------------------------------------------------------\u001b[0m",
      "\u001b[0;31mRuntimeError\u001b[0m                              Traceback (most recent call last)",
      "\u001b[0;32m/tmp/ipykernel_27156/1543636687.py\u001b[0m in \u001b[0;36m<module>\u001b[0;34m\u001b[0m\n\u001b[1;32m      2\u001b[0m \u001b[0;34m\u001b[0m\u001b[0m\n\u001b[1;32m      3\u001b[0m \u001b[0mi\u001b[0m \u001b[0;34m=\u001b[0m \u001b[0;36m0\u001b[0m\u001b[0;34m\u001b[0m\u001b[0;34m\u001b[0m\u001b[0m\n\u001b[0;32m----> 4\u001b[0;31m \u001b[0mmodel\u001b[0m\u001b[0;34m(\u001b[0m\u001b[0mg\u001b[0m\u001b[0;34m=\u001b[0m\u001b[0mgraph\u001b[0m\u001b[0;34m,\u001b[0m \u001b[0mh\u001b[0m\u001b[0;34m=\u001b[0m\u001b[0momic_features\u001b[0m\u001b[0;34m[\u001b[0m\u001b[0;34m:\u001b[0m\u001b[0;34m,\u001b[0m \u001b[0mi\u001b[0m\u001b[0;34m,\u001b[0m \u001b[0;34m:\u001b[0m\u001b[0;34m]\u001b[0m\u001b[0;34m,\u001b[0m \u001b[0mc\u001b[0m\u001b[0;34m=\u001b[0m\u001b[0madd_features\u001b[0m\u001b[0;34m[\u001b[0m\u001b[0mi\u001b[0m\u001b[0;34m]\u001b[0m\u001b[0;34m)\u001b[0m\u001b[0;34m\u001b[0m\u001b[0;34m\u001b[0m\u001b[0m\n\u001b[0m",
      "\u001b[0;32m~/miniconda3/envs/pyg/lib/python3.8/site-packages/torch/nn/modules/module.py\u001b[0m in \u001b[0;36m_call_impl\u001b[0;34m(self, *input, **kwargs)\u001b[0m\n\u001b[1;32m    887\u001b[0m             \u001b[0mresult\u001b[0m \u001b[0;34m=\u001b[0m \u001b[0mself\u001b[0m\u001b[0;34m.\u001b[0m\u001b[0m_slow_forward\u001b[0m\u001b[0;34m(\u001b[0m\u001b[0;34m*\u001b[0m\u001b[0minput\u001b[0m\u001b[0;34m,\u001b[0m \u001b[0;34m**\u001b[0m\u001b[0mkwargs\u001b[0m\u001b[0;34m)\u001b[0m\u001b[0;34m\u001b[0m\u001b[0;34m\u001b[0m\u001b[0m\n\u001b[1;32m    888\u001b[0m         \u001b[0;32melse\u001b[0m\u001b[0;34m:\u001b[0m\u001b[0;34m\u001b[0m\u001b[0;34m\u001b[0m\u001b[0m\n\u001b[0;32m--> 889\u001b[0;31m             \u001b[0mresult\u001b[0m \u001b[0;34m=\u001b[0m \u001b[0mself\u001b[0m\u001b[0;34m.\u001b[0m\u001b[0mforward\u001b[0m\u001b[0;34m(\u001b[0m\u001b[0;34m*\u001b[0m\u001b[0minput\u001b[0m\u001b[0;34m,\u001b[0m \u001b[0;34m**\u001b[0m\u001b[0mkwargs\u001b[0m\u001b[0;34m)\u001b[0m\u001b[0;34m\u001b[0m\u001b[0;34m\u001b[0m\u001b[0m\n\u001b[0m\u001b[1;32m    890\u001b[0m         for hook in itertools.chain(\n\u001b[1;32m    891\u001b[0m                 \u001b[0m_global_forward_hooks\u001b[0m\u001b[0;34m.\u001b[0m\u001b[0mvalues\u001b[0m\u001b[0;34m(\u001b[0m\u001b[0;34m)\u001b[0m\u001b[0;34m,\u001b[0m\u001b[0;34m\u001b[0m\u001b[0;34m\u001b[0m\u001b[0m\n",
      "\u001b[0;32m/tmp/ipykernel_27156/3978098790.py\u001b[0m in \u001b[0;36mforward\u001b[0;34m(self, g, h, c)\u001b[0m\n\u001b[1;32m     72\u001b[0m             \u001b[0mreadout3\u001b[0m \u001b[0;34m=\u001b[0m  \u001b[0mself\u001b[0m\u001b[0;34m.\u001b[0m\u001b[0msns3\u001b[0m\u001b[0;34m(\u001b[0m\u001b[0mgraphs_\u001b[0m\u001b[0;34m,\u001b[0m \u001b[0mgraphs_\u001b[0m\u001b[0;34m.\u001b[0m\u001b[0mndata\u001b[0m\u001b[0;34m[\u001b[0m\u001b[0;34m'h3'\u001b[0m\u001b[0;34m]\u001b[0m\u001b[0;34m)\u001b[0m\u001b[0;34m\u001b[0m\u001b[0;34m\u001b[0m\u001b[0m\n\u001b[1;32m     73\u001b[0m             \u001b[0mreadout4\u001b[0m \u001b[0;34m=\u001b[0m  \u001b[0mself\u001b[0m\u001b[0;34m.\u001b[0m\u001b[0msns4\u001b[0m\u001b[0;34m(\u001b[0m\u001b[0mgraphs_\u001b[0m\u001b[0;34m,\u001b[0m \u001b[0mgraphs_\u001b[0m\u001b[0;34m.\u001b[0m\u001b[0mndata\u001b[0m\u001b[0;34m[\u001b[0m\u001b[0;34m'h4'\u001b[0m\u001b[0;34m]\u001b[0m\u001b[0;34m)\u001b[0m\u001b[0;34m\u001b[0m\u001b[0;34m\u001b[0m\u001b[0m\n\u001b[0;32m---> 74\u001b[0;31m             \u001b[0mreadout\u001b[0m \u001b[0;34m=\u001b[0m \u001b[0mtorch\u001b[0m\u001b[0;34m.\u001b[0m\u001b[0mstack\u001b[0m\u001b[0;34m(\u001b[0m\u001b[0;34m[\u001b[0m\u001b[0mreadout1\u001b[0m\u001b[0;34m,\u001b[0m \u001b[0mreadout2\u001b[0m\u001b[0;34m,\u001b[0m \u001b[0mreadout3\u001b[0m\u001b[0;34m,\u001b[0m \u001b[0mreadout4\u001b[0m\u001b[0;34m]\u001b[0m\u001b[0;34m,\u001b[0m \u001b[0mdim\u001b[0m\u001b[0;34m=\u001b[0m\u001b[0;36m1\u001b[0m\u001b[0;34m)\u001b[0m\u001b[0;34m\u001b[0m\u001b[0;34m\u001b[0m\u001b[0m\n\u001b[0m\u001b[1;32m     75\u001b[0m             \u001b[0mreadout\u001b[0m \u001b[0;34m=\u001b[0m \u001b[0mreadout\u001b[0m\u001b[0;34m.\u001b[0m\u001b[0mreshape\u001b[0m\u001b[0;34m(\u001b[0m\u001b[0mreadout\u001b[0m\u001b[0;34m.\u001b[0m\u001b[0mshape\u001b[0m\u001b[0;34m[\u001b[0m\u001b[0;36m0\u001b[0m\u001b[0;34m]\u001b[0m\u001b[0;34m,\u001b[0m \u001b[0;34m-\u001b[0m\u001b[0;36m1\u001b[0m\u001b[0;34m)\u001b[0m\u001b[0;34m\u001b[0m\u001b[0;34m\u001b[0m\u001b[0m\n\u001b[1;32m     76\u001b[0m             \u001b[0mprint\u001b[0m\u001b[0;34m(\u001b[0m\u001b[0mreadout\u001b[0m\u001b[0;34m.\u001b[0m\u001b[0mshape\u001b[0m\u001b[0;34m)\u001b[0m\u001b[0;34m\u001b[0m\u001b[0;34m\u001b[0m\u001b[0m\n",
      "\u001b[0;31mRuntimeError\u001b[0m: stack expects each tensor to be equal size, but got [857, 12] at entry 0 and [857, 32] at entry 1"
     ]
    }
   ],
   "source": [
    "model = DeepMOI(in_dim=len(omics_files), pathway=pathways, add_features=add_features)\n",
    "\n",
    "i = 0\n",
    "model(g=graph, h=omic_features[:, i, :], c=add_features[i])"
   ]
  },
  {
   "cell_type": "code",
   "execution_count": 78,
   "id": "985b2867",
   "metadata": {
    "ExecuteTime": {
     "end_time": "2022-07-05T06:34:05.454649Z",
     "start_time": "2022-07-05T06:34:05.452366Z"
    }
   },
   "outputs": [
    {
     "name": "stdout",
     "output_type": "stream",
     "text": [
      "# Model parameters: 590820\n"
     ]
    }
   ],
   "source": [
    "print('# Model parameters:', sum(param.numel() for param in model.parameters()))"
   ]
  },
  {
   "cell_type": "code",
   "execution_count": 83,
   "id": "eaefc855",
   "metadata": {
    "ExecuteTime": {
     "end_time": "2022-07-05T07:44:35.255977Z",
     "start_time": "2022-07-05T07:44:32.727449Z"
    }
   },
   "outputs": [],
   "source": [
    "# to device\n",
    "device = 'cuda'\n",
    "graph = graph.to(device)\n",
    "omic_features = omic_features.to(device)\n",
    "if add_features != None:\n",
    "    add_features = add_features.to(device)"
   ]
  },
  {
   "cell_type": "code",
   "execution_count": 107,
   "id": "7ab69dc5",
   "metadata": {
    "ExecuteTime": {
     "end_time": "2022-07-05T08:13:37.097533Z",
     "start_time": "2022-07-05T08:13:37.087160Z"
    }
   },
   "outputs": [],
   "source": [
    "model = model.to(device)"
   ]
  },
  {
   "cell_type": "code",
   "execution_count": 108,
   "id": "4c8dc44e",
   "metadata": {
    "ExecuteTime": {
     "end_time": "2022-07-05T08:13:38.855741Z",
     "start_time": "2022-07-05T08:13:37.862041Z"
    }
   },
   "outputs": [
    {
     "name": "stdout",
     "output_type": "stream",
     "text": [
      "torch.Size([857, 384])\n"
     ]
    },
    {
     "data": {
      "text/plain": [
       "tensor([[0.5165]], device='cuda:0', grad_fn=<SigmoidBackward>)"
      ]
     },
     "execution_count": 108,
     "metadata": {},
     "output_type": "execute_result"
    }
   ],
   "source": [
    "i = 0\n",
    "model(g=graph, h=omic_features[:, i, :], c=add_features[i])"
   ]
  },
  {
   "cell_type": "code",
   "execution_count": 102,
   "id": "fc3cf13e",
   "metadata": {
    "ExecuteTime": {
     "end_time": "2022-07-05T07:46:08.967793Z",
     "start_time": "2022-07-05T07:46:08.376352Z"
    }
   },
   "outputs": [
    {
     "name": "stdout",
     "output_type": "stream",
     "text": [
      "torch.Size([857, 384])\n"
     ]
    }
   ],
   "source": [
    "logit = model(g=graph, h=omic_features[:, i, :], c=add_features[i])"
   ]
  },
  {
   "cell_type": "code",
   "execution_count": 104,
   "id": "cdb2ced7",
   "metadata": {
    "ExecuteTime": {
     "end_time": "2022-07-05T07:46:30.666413Z",
     "start_time": "2022-07-05T07:46:30.651800Z"
    }
   },
   "outputs": [
    {
     "data": {
      "text/plain": [
       "tensor([[0.4264]], grad_fn=<CopyBackwards>)"
      ]
     },
     "execution_count": 104,
     "metadata": {},
     "output_type": "execute_result"
    }
   ],
   "source": [
    "logit.to(device='cpu')"
   ]
  },
  {
   "cell_type": "markdown",
   "id": "8856796f",
   "metadata": {},
   "source": [
    "# 固定部分参数"
   ]
  },
  {
   "cell_type": "code",
   "execution_count": 75,
   "id": "d67195c6",
   "metadata": {
    "ExecuteTime": {
     "end_time": "2022-07-05T06:31:58.242322Z",
     "start_time": "2022-07-05T06:31:58.239340Z"
    }
   },
   "outputs": [
    {
     "name": "stdout",
     "output_type": "stream",
     "text": [
      "152163\n"
     ]
    }
   ],
   "source": [
    "# 固定部分参数\n",
    "\n",
    "for k,v in model.named_parameters():\n",
    "    if k.startswith('lin'):\n",
    "        v.requires_grad = False\n",
    "        \n",
    "n = 0\n",
    "for param in model.parameters():\n",
    "    if param.requires_grad == True:\n",
    "        n += param.numel()\n",
    "print(n)"
   ]
  },
  {
   "cell_type": "code",
   "execution_count": 40,
   "id": "787e1c5d",
   "metadata": {
    "ExecuteTime": {
     "end_time": "2022-07-05T05:59:29.949898Z",
     "start_time": "2022-07-05T05:59:29.946342Z"
    }
   },
   "outputs": [
    {
     "name": "stdout",
     "output_type": "stream",
     "text": [
      "227\n"
     ]
    }
   ],
   "source": [
    "# 固定部分参数\n",
    "\n",
    "for k,v in model.named_parameters():\n",
    "    if k.startswith('lin'):\n",
    "        v.requires_grad = False\n",
    "        \n",
    "n = 0\n",
    "for param in model.parameters():\n",
    "    if param.requires_grad == True:\n",
    "        n += param.numel()\n",
    "print(n)"
   ]
  },
  {
   "cell_type": "code",
   "execution_count": 42,
   "id": "a4cee109",
   "metadata": {
    "ExecuteTime": {
     "end_time": "2022-07-05T06:00:59.971954Z",
     "start_time": "2022-07-05T06:00:59.968705Z"
    }
   },
   "outputs": [
    {
     "name": "stdout",
     "output_type": "stream",
     "text": [
      "438657\n"
     ]
    }
   ],
   "source": [
    "for k,v in model.named_parameters():\n",
    "    if  k.startswith('lin'):\n",
    "        v.requires_grad = True\n",
    "    else:\n",
    "        v.requires_grad = False\n",
    "\n",
    "n = 0\n",
    "for param in model.parameters():\n",
    "    if param.requires_grad == True:\n",
    "        n += param.numel()\n",
    "print(n)"
   ]
  },
  {
   "cell_type": "markdown",
   "id": "53fe3904",
   "metadata": {},
   "source": [
    "# Sequential"
   ]
  },
  {
   "cell_type": "code",
   "execution_count": null,
   "id": "067503cb",
   "metadata": {},
   "outputs": [],
   "source": []
  }
 ],
 "metadata": {
  "kernelspec": {
   "display_name": "Python 3 (ipykernel)",
   "language": "python",
   "name": "python3"
  },
  "language_info": {
   "codemirror_mode": {
    "name": "ipython",
    "version": 3
   },
   "file_extension": ".py",
   "mimetype": "text/x-python",
   "name": "python",
   "nbconvert_exporter": "python",
   "pygments_lexer": "ipython3",
   "version": "3.8.12"
  },
  "toc": {
   "base_numbering": 1,
   "nav_menu": {},
   "number_sections": true,
   "sideBar": true,
   "skip_h1_title": false,
   "title_cell": "Table of Contents",
   "title_sidebar": "Contents",
   "toc_cell": false,
   "toc_position": {},
   "toc_section_display": true,
   "toc_window_display": false
  },
  "varInspector": {
   "cols": {
    "lenName": 16,
    "lenType": 16,
    "lenVar": 40
   },
   "kernels_config": {
    "python": {
     "delete_cmd_postfix": "",
     "delete_cmd_prefix": "del ",
     "library": "var_list.py",
     "varRefreshCmd": "print(var_dic_list())"
    },
    "r": {
     "delete_cmd_postfix": ") ",
     "delete_cmd_prefix": "rm(",
     "library": "var_list.r",
     "varRefreshCmd": "cat(var_dic_list()) "
    }
   },
   "types_to_exclude": [
    "module",
    "function",
    "builtin_function_or_method",
    "instance",
    "_Feature"
   ],
   "window_display": false
  }
 },
 "nbformat": 4,
 "nbformat_minor": 5
}
