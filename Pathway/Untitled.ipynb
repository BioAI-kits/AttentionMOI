{
 "cells": [
  {
   "cell_type": "code",
   "execution_count": 1,
   "id": "9a225287",
   "metadata": {
    "ExecuteTime": {
     "end_time": "2022-07-08T08:30:30.803053Z",
     "start_time": "2022-07-08T08:30:30.697433Z"
    }
   },
   "outputs": [],
   "source": [
    "import glob\n",
    "import pandas as pd"
   ]
  },
  {
   "cell_type": "code",
   "execution_count": 9,
   "id": "03c50f17",
   "metadata": {
    "ExecuteTime": {
     "end_time": "2022-07-08T08:33:48.395310Z",
     "start_time": "2022-07-08T08:33:46.108834Z"
    }
   },
   "outputs": [],
   "source": [
    "pathways = []\n",
    "files = glob.glob('./pathways/*txt')\n",
    "for file in files:\n",
    "    df = pd.read_table(file)\n",
    "    df = df[['src', 'dest']]\n",
    "    pathway = file.split('/')[-1].split('.')[0]\n",
    "    df['pathway'] = pathway\n",
    "    df = df.drop_duplicates()\n",
    "    pathways.append(df)\n",
    "df = pd.concat(pathways)"
   ]
  },
  {
   "cell_type": "code",
   "execution_count": 12,
   "id": "09fe5d4d",
   "metadata": {
    "ExecuteTime": {
     "end_time": "2022-07-08T08:35:00.512539Z",
     "start_time": "2022-07-08T08:35:00.399394Z"
    }
   },
   "outputs": [
    {
     "data": {
      "text/html": [
       "<div>\n",
       "<style scoped>\n",
       "    .dataframe tbody tr th:only-of-type {\n",
       "        vertical-align: middle;\n",
       "    }\n",
       "\n",
       "    .dataframe tbody tr th {\n",
       "        vertical-align: top;\n",
       "    }\n",
       "\n",
       "    .dataframe thead th {\n",
       "        text-align: right;\n",
       "    }\n",
       "</style>\n",
       "<table border=\"1\" class=\"dataframe\">\n",
       "  <thead>\n",
       "    <tr style=\"text-align: right;\">\n",
       "      <th></th>\n",
       "      <th>src</th>\n",
       "      <th>dest</th>\n",
       "      <th>pathway</th>\n",
       "    </tr>\n",
       "  </thead>\n",
       "  <tbody>\n",
       "    <tr>\n",
       "      <th>0</th>\n",
       "      <td>3775</td>\n",
       "      <td>3761</td>\n",
       "      <td>R-HSA-5576886</td>\n",
       "    </tr>\n",
       "    <tr>\n",
       "      <th>1</th>\n",
       "      <td>3775</td>\n",
       "      <td>3759</td>\n",
       "      <td>R-HSA-5576886</td>\n",
       "    </tr>\n",
       "    <tr>\n",
       "      <th>2</th>\n",
       "      <td>3775</td>\n",
       "      <td>3768</td>\n",
       "      <td>R-HSA-5576886</td>\n",
       "    </tr>\n",
       "    <tr>\n",
       "      <th>3</th>\n",
       "      <td>3775</td>\n",
       "      <td>3770</td>\n",
       "      <td>R-HSA-5576886</td>\n",
       "    </tr>\n",
       "    <tr>\n",
       "      <th>4</th>\n",
       "      <td>3777</td>\n",
       "      <td>3761</td>\n",
       "      <td>R-HSA-5576886</td>\n",
       "    </tr>\n",
       "    <tr>\n",
       "      <th>...</th>\n",
       "      <td>...</td>\n",
       "      <td>...</td>\n",
       "      <td>...</td>\n",
       "    </tr>\n",
       "    <tr>\n",
       "      <th>585</th>\n",
       "      <td>10762</td>\n",
       "      <td>9688</td>\n",
       "      <td>R-HSA-3301854</td>\n",
       "    </tr>\n",
       "    <tr>\n",
       "      <th>586</th>\n",
       "      <td>10762</td>\n",
       "      <td>129401</td>\n",
       "      <td>R-HSA-3301854</td>\n",
       "    </tr>\n",
       "    <tr>\n",
       "      <th>587</th>\n",
       "      <td>10762</td>\n",
       "      <td>23165</td>\n",
       "      <td>R-HSA-3301854</td>\n",
       "    </tr>\n",
       "    <tr>\n",
       "      <th>588</th>\n",
       "      <td>10762</td>\n",
       "      <td>9883</td>\n",
       "      <td>R-HSA-3301854</td>\n",
       "    </tr>\n",
       "    <tr>\n",
       "      <th>589</th>\n",
       "      <td>10762</td>\n",
       "      <td>8086</td>\n",
       "      <td>R-HSA-3301854</td>\n",
       "    </tr>\n",
       "  </tbody>\n",
       "</table>\n",
       "<p>969262 rows × 3 columns</p>\n",
       "</div>"
      ],
      "text/plain": [
       "       src    dest        pathway\n",
       "0     3775    3761  R-HSA-5576886\n",
       "1     3775    3759  R-HSA-5576886\n",
       "2     3775    3768  R-HSA-5576886\n",
       "3     3775    3770  R-HSA-5576886\n",
       "4     3777    3761  R-HSA-5576886\n",
       "..     ...     ...            ...\n",
       "585  10762    9688  R-HSA-3301854\n",
       "586  10762  129401  R-HSA-3301854\n",
       "587  10762   23165  R-HSA-3301854\n",
       "588  10762    9883  R-HSA-3301854\n",
       "589  10762    8086  R-HSA-3301854\n",
       "\n",
       "[969262 rows x 3 columns]"
      ]
     },
     "execution_count": 12,
     "metadata": {},
     "output_type": "execute_result"
    }
   ],
   "source": [
    "df.drop_duplicates()"
   ]
  },
  {
   "cell_type": "code",
   "execution_count": 16,
   "id": "182238b9",
   "metadata": {
    "ExecuteTime": {
     "end_time": "2022-07-08T08:36:20.828243Z",
     "start_time": "2022-07-08T08:36:20.738664Z"
    }
   },
   "outputs": [
    {
     "data": {
      "text/plain": [
       "8611"
      ]
     },
     "execution_count": 16,
     "metadata": {},
     "output_type": "execute_result"
    }
   ],
   "source": [
    "len(set(df.src.to_list() + df.dest.to_list()))"
   ]
  },
  {
   "cell_type": "code",
   "execution_count": 17,
   "id": "b72d36bd",
   "metadata": {
    "ExecuteTime": {
     "end_time": "2022-07-08T08:37:10.564356Z",
     "start_time": "2022-07-08T08:37:09.711954Z"
    }
   },
   "outputs": [],
   "source": [
    "df.to_csv('./Rectome.pathway.csv', index=False)"
   ]
  }
 ],
 "metadata": {
  "kernelspec": {
   "display_name": "Python 3 (ipykernel)",
   "language": "python",
   "name": "python3"
  },
  "language_info": {
   "codemirror_mode": {
    "name": "ipython",
    "version": 3
   },
   "file_extension": ".py",
   "mimetype": "text/x-python",
   "name": "python",
   "nbconvert_exporter": "python",
   "pygments_lexer": "ipython3",
   "version": "3.8.5"
  },
  "toc": {
   "base_numbering": 1,
   "nav_menu": {},
   "number_sections": true,
   "sideBar": true,
   "skip_h1_title": false,
   "title_cell": "Table of Contents",
   "title_sidebar": "Contents",
   "toc_cell": false,
   "toc_position": {},
   "toc_section_display": true,
   "toc_window_display": false
  },
  "varInspector": {
   "cols": {
    "lenName": 16,
    "lenType": 16,
    "lenVar": 40
   },
   "kernels_config": {
    "python": {
     "delete_cmd_postfix": "",
     "delete_cmd_prefix": "del ",
     "library": "var_list.py",
     "varRefreshCmd": "print(var_dic_list())"
    },
    "r": {
     "delete_cmd_postfix": ") ",
     "delete_cmd_prefix": "rm(",
     "library": "var_list.r",
     "varRefreshCmd": "cat(var_dic_list()) "
    }
   },
   "types_to_exclude": [
    "module",
    "function",
    "builtin_function_or_method",
    "instance",
    "_Feature"
   ],
   "window_display": false
  }
 },
 "nbformat": 4,
 "nbformat_minor": 5
}
