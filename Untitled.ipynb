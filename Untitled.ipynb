{
 "cells": [
  {
   "cell_type": "code",
   "execution_count": 1,
   "id": "6948a309",
   "metadata": {
    "ExecuteTime": {
     "end_time": "2022-06-29T09:05:08.547827Z",
     "start_time": "2022-06-29T09:05:07.816939Z"
    }
   },
   "outputs": [],
   "source": [
    "import pandas as pd\n",
    "import numpy as np\n",
    "import torch\n",
    "import torch.nn.functional as F\n",
    "import dgl\n",
    "from dgl.nn import Set2Set\n",
    "from data import read_omics, read_clin, build_graph, read_pathways\n",
    "from util import evaluate, check_files, clin_process_tsi"
   ]
  },
  {
   "cell_type": "code",
   "execution_count": 2,
   "id": "2dc37fc5",
   "metadata": {
    "ExecuteTime": {
     "end_time": "2022-06-29T09:07:22.524546Z",
     "start_time": "2022-06-29T09:05:08.554772Z"
    }
   },
   "outputs": [
    {
     "name": "stdout",
     "output_type": "stream",
     "text": [
      "\n",
      "[INFO] The overlaping genes number between omics and ppi dataset is: 8245\n"
     ]
    }
   ],
   "source": [
    "clin_process_tsi(in_file='./data/GBM/Clinical.tsi', out_file='./data/GBM/clinincal.csv')\n",
    "\n",
    "from data import read_omics, read_clin\n",
    "omics_files = ['./data/GBM/GBM.cnv.csv.gz', './data/GBM/GBM.expression.csv.gz', './data/GBM/GBM.met.csv.gz']\n",
    "omics = read_omics(omics_files=omics_files, clin_file= './data/GBM/clinincal.csv')\n",
    "\n",
    "from data import build_graph\n",
    "\n",
    "graphs, labels, clin_features, id_mapping = build_graph(omics=omics, clinical_file='./data/GBM/clinincal.csv')"
   ]
  },
  {
   "cell_type": "code",
   "execution_count": 3,
   "id": "76f95070",
   "metadata": {
    "ExecuteTime": {
     "end_time": "2022-06-29T09:07:22.591643Z",
     "start_time": "2022-06-29T09:07:22.582472Z"
    }
   },
   "outputs": [
    {
     "data": {
      "text/plain": [
       "(176, 44, 176, 44, 176, 44)"
      ]
     },
     "execution_count": 3,
     "metadata": {},
     "output_type": "execute_result"
    }
   ],
   "source": [
    "from sklearn.model_selection import train_test_split\n",
    "\n",
    "graphs_train, graphs_test, lables_train, labels_test, clin_features_train, clin_features_test = train_test_split(graphs, labels, clin_features, test_size=0.2, random_state=42)\n",
    "\n",
    "len(graphs_train), len(graphs_test), len(lables_train), len(labels_test), len(clin_features_train), len(clin_features_test)"
   ]
  },
  {
   "cell_type": "code",
   "execution_count": 5,
   "id": "6aca8c8b",
   "metadata": {
    "ExecuteTime": {
     "end_time": "2022-06-29T09:09:01.651207Z",
     "start_time": "2022-06-29T09:09:01.647202Z"
    }
   },
   "outputs": [
    {
     "data": {
      "text/plain": [
       "tensor([[-0.0108],\n",
       "        [ 0.4866],\n",
       "        [-0.0674],\n",
       "        [-0.2978],\n",
       "        [ 0.3068],\n",
       "        [-0.8224],\n",
       "        [ 0.8224],\n",
       "        [-0.3572],\n",
       "        [-2.4635],\n",
       "        [-0.1671],\n",
       "        [-0.2177],\n",
       "        [ 0.3068],\n",
       "        [-0.1358],\n",
       "        [ 0.4631]], dtype=torch.float64)"
      ]
     },
     "execution_count": 5,
     "metadata": {},
     "output_type": "execute_result"
    }
   ],
   "source": [
    "graphs_train, graphs_test, lables_train, labels_test, clin_features_train, clin_features_test = train_test_split(graphs, labels, clin_features, test_size=0.2, random_state=42)\n",
    "clin_features_train[0]"
   ]
  },
  {
   "cell_type": "code",
   "execution_count": 9,
   "id": "37108fac",
   "metadata": {
    "ExecuteTime": {
     "end_time": "2022-06-29T09:10:35.529570Z",
     "start_time": "2022-06-29T09:10:35.520725Z"
    }
   },
   "outputs": [
    {
     "name": "stdout",
     "output_type": "stream",
     "text": [
      "[103, 20, 11, 86, 39, 72, 96, 9, 132, 82, 119, 107, 129, 21, 117, 57]\n",
      "tensor([[[ 0.8690],\n",
      "         [ 0.2318],\n",
      "         [-0.0674],\n",
      "         [-0.2978],\n",
      "         [ 0.3068],\n",
      "         [ 1.2105],\n",
      "         [-1.2105],\n",
      "         [-0.3572],\n",
      "         [ 0.4041],\n",
      "         [-0.1671],\n",
      "         [-0.2177],\n",
      "         [ 0.3068],\n",
      "         [-0.1358],\n",
      "         [ 0.4631]],\n",
      "\n",
      "        [[ 0.2599],\n",
      "         [ 0.2123],\n",
      "         [-0.0674],\n",
      "         [-0.2978],\n",
      "         [ 0.3068],\n",
      "         [-0.8224],\n",
      "         [ 0.8224],\n",
      "         [-0.3572],\n",
      "         [ 0.4041],\n",
      "         [-0.1671],\n",
      "         [-0.2177],\n",
      "         [ 0.3068],\n",
      "         [-0.1358],\n",
      "         [ 0.4631]],\n",
      "\n",
      "        [[-0.2138],\n",
      "         [-1.2158],\n",
      "         [-0.0674],\n",
      "         [-0.2978],\n",
      "         [ 0.3068],\n",
      "         [-0.8224],\n",
      "         [ 0.8224],\n",
      "         [-0.3572],\n",
      "         [ 0.4041],\n",
      "         [-0.1671],\n",
      "         [-0.2177],\n",
      "         [ 0.3068],\n",
      "         [-0.1358],\n",
      "         [-2.1494]],\n",
      "\n",
      "        [[ 0.2599],\n",
      "         [ 0.7736],\n",
      "         [-0.0674],\n",
      "         [-0.2978],\n",
      "         [ 0.3068],\n",
      "         [-0.8224],\n",
      "         [ 0.8224],\n",
      "         [-0.3572],\n",
      "         [ 0.4041],\n",
      "         [-0.1671],\n",
      "         [-0.2177],\n",
      "         [ 0.3068],\n",
      "         [-0.1358],\n",
      "         [ 0.4631]],\n",
      "\n",
      "        [[-0.6199],\n",
      "         [ 0.2318],\n",
      "         [-0.0674],\n",
      "         [-0.2978],\n",
      "         [ 0.3068],\n",
      "         [-0.8224],\n",
      "         [ 0.8224],\n",
      "         [-0.3572],\n",
      "         [ 0.4041],\n",
      "         [-0.1671],\n",
      "         [-0.2177],\n",
      "         [ 0.3068],\n",
      "         [-0.1358],\n",
      "         [ 0.4631]],\n",
      "\n",
      "        [[ 0.0569],\n",
      "         [ 0.4768],\n",
      "         [-0.0674],\n",
      "         [-0.2978],\n",
      "         [ 0.3068],\n",
      "         [-0.8224],\n",
      "         [ 0.8224],\n",
      "         [-0.3572],\n",
      "         [ 0.4041],\n",
      "         [-0.1671],\n",
      "         [-0.2177],\n",
      "         [ 0.3068],\n",
      "         [-0.1358],\n",
      "         [ 0.4631]],\n",
      "\n",
      "        [[-0.4845],\n",
      "         [-1.3417],\n",
      "         [-0.0674],\n",
      "         [-0.2978],\n",
      "         [ 0.3068],\n",
      "         [-0.8224],\n",
      "         [ 0.8224],\n",
      "         [-0.3572],\n",
      "         [ 0.4041],\n",
      "         [-0.1671],\n",
      "         [-0.2177],\n",
      "         [ 0.3068],\n",
      "         [-0.1358],\n",
      "         [ 0.4631]],\n",
      "\n",
      "        [[ 0.3276],\n",
      "         [ 0.8848],\n",
      "         [-0.0674],\n",
      "         [-0.2978],\n",
      "         [ 0.3068],\n",
      "         [-0.8224],\n",
      "         [ 0.8224],\n",
      "         [-0.3572],\n",
      "         [ 0.4041],\n",
      "         [-0.1671],\n",
      "         [-0.2177],\n",
      "         [ 0.3068],\n",
      "         [-0.1358],\n",
      "         [ 0.4631]],\n",
      "\n",
      "        [[-1.3643],\n",
      "         [ 1.1406],\n",
      "         [-0.0674],\n",
      "         [ 3.3423],\n",
      "         [-3.2451],\n",
      "         [ 1.2105],\n",
      "         [-1.2105],\n",
      "         [-0.3572],\n",
      "         [ 0.4041],\n",
      "         [-0.1671],\n",
      "         [ 4.5721],\n",
      "         [-3.2451],\n",
      "         [-0.1358],\n",
      "         [ 0.4631]],\n",
      "\n",
      "        [[-3.1916],\n",
      "         [ 0.7043],\n",
      "         [-0.0674],\n",
      "         [-0.2978],\n",
      "         [ 0.3068],\n",
      "         [ 1.2105],\n",
      "         [-1.2105],\n",
      "         [-0.3572],\n",
      "         [ 0.4041],\n",
      "         [-0.1671],\n",
      "         [-0.2177],\n",
      "         [ 0.3068],\n",
      "         [-0.1358],\n",
      "         [ 0.4631]],\n",
      "\n",
      "        [[ 0.1923],\n",
      "         [ 0.9590],\n",
      "         [-0.0674],\n",
      "         [-0.2978],\n",
      "         [ 0.3068],\n",
      "         [-0.8224],\n",
      "         [ 0.8224],\n",
      "         [-0.3572],\n",
      "         [ 0.4041],\n",
      "         [-0.1671],\n",
      "         [-0.2177],\n",
      "         [ 0.3068],\n",
      "         [-0.1358],\n",
      "         [ 0.4631]],\n",
      "\n",
      "        [[-0.9582],\n",
      "         [ 1.1904],\n",
      "         [-0.0674],\n",
      "         [-0.2978],\n",
      "         [ 0.3068],\n",
      "         [ 1.2105],\n",
      "         [-1.2105],\n",
      "         [-0.3572],\n",
      "         [ 0.4041],\n",
      "         [-0.1671],\n",
      "         [-0.2177],\n",
      "         [ 0.3068],\n",
      "         [-0.1358],\n",
      "         [ 0.4631]],\n",
      "\n",
      "        [[ 1.2074],\n",
      "         [ 0.5959],\n",
      "         [-0.0674],\n",
      "         [-0.2978],\n",
      "         [ 0.3068],\n",
      "         [-0.8224],\n",
      "         [ 0.8224],\n",
      "         [-0.3572],\n",
      "         [ 0.4041],\n",
      "         [-0.1671],\n",
      "         [-0.2177],\n",
      "         [ 0.3068],\n",
      "         [-0.1358],\n",
      "         [ 0.4631]],\n",
      "\n",
      "        [[ 1.0044],\n",
      "         [-0.1987],\n",
      "         [-0.0674],\n",
      "         [-0.2978],\n",
      "         [ 0.3068],\n",
      "         [ 1.2105],\n",
      "         [-1.2105],\n",
      "         [-0.3572],\n",
      "         [ 0.4041],\n",
      "         [-0.1671],\n",
      "         [-0.2177],\n",
      "         [ 0.3068],\n",
      "         [-0.1358],\n",
      "         [ 0.4631]],\n",
      "\n",
      "        [[ 0.1923],\n",
      "         [-0.4290],\n",
      "         [-0.0674],\n",
      "         [-0.2978],\n",
      "         [ 0.3068],\n",
      "         [-0.8224],\n",
      "         [ 0.8224],\n",
      "         [-0.3572],\n",
      "         [ 0.4041],\n",
      "         [-0.1671],\n",
      "         [-0.2177],\n",
      "         [ 0.3068],\n",
      "         [-0.1358],\n",
      "         [ 0.4631]],\n",
      "\n",
      "        [[-0.4168],\n",
      "         [ 0.5559],\n",
      "         [-0.0674],\n",
      "         [-0.2978],\n",
      "         [ 0.3068],\n",
      "         [-0.8224],\n",
      "         [ 0.8224],\n",
      "         [ 2.7865],\n",
      "         [-2.4635],\n",
      "         [-0.1671],\n",
      "         [-0.2177],\n",
      "         [ 0.3068],\n",
      "         [-0.1358],\n",
      "         [-2.1494]]], dtype=torch.float64)\n"
     ]
    }
   ],
   "source": [
    "from main import batch_idx\n",
    "for idx in batch_idx(graphs=graphs_train, minibatch=16):\n",
    "    clin_features_train[idx]\n",
    "    print(idx)\n",
    "    print(clin_features_train[idx])\n",
    "    break"
   ]
  },
  {
   "cell_type": "code",
   "execution_count": null,
   "id": "b860d75d",
   "metadata": {},
   "outputs": [],
   "source": []
  },
  {
   "cell_type": "code",
   "execution_count": null,
   "id": "fbc03dd8",
   "metadata": {},
   "outputs": [],
   "source": []
  },
  {
   "cell_type": "code",
   "execution_count": 3,
   "id": "8a68f7cd",
   "metadata": {
    "ExecuteTime": {
     "end_time": "2022-06-29T07:40:25.546309Z",
     "start_time": "2022-06-29T07:40:24.903038Z"
    }
   },
   "outputs": [],
   "source": [
    "pathways = read_pathways(id_mapping=id_mapping, file=\"./Pathway/pathway_genes.gmt\")"
   ]
  },
  {
   "cell_type": "code",
   "execution_count": 101,
   "id": "5125ef09",
   "metadata": {
    "ExecuteTime": {
     "end_time": "2022-06-29T08:39:29.484708Z",
     "start_time": "2022-06-29T08:39:29.080100Z"
    }
   },
   "outputs": [
    {
     "data": {
      "text/plain": [
       "tensor([0.], grad_fn=<SigmoidBackward>)"
      ]
     },
     "execution_count": 101,
     "metadata": {},
     "output_type": "execute_result"
    }
   ],
   "source": [
    "import sys, os, argparse, warnings\n",
    "import numpy as np\n",
    "import pandas as pd\n",
    "import torch\n",
    "import torch.nn as nn\n",
    "import torch.nn.functional as F\n",
    "import dgl\n",
    "import dgl.nn.pytorch as dglnn\n",
    "from dgl.nn import SumPooling\n",
    "from data import read_omics, read_clin, build_graph, read_pathways\n",
    "from util import evaluate, check_files\n",
    "\n",
    "class DeepMOI(nn.Module):\n",
    "    def __init__(self, in_dim, pathway, clinical_feature_num=None):\n",
    "        \"\"\"\n",
    "        in_dim: == omics' number\n",
    "        hidden_dim: == \n",
    "        \"\"\"\n",
    "        super(DeepMOI, self).__init__()\n",
    "        # GNN\n",
    "        self.gin_lin1 = torch.nn.Linear(in_dim, in_dim*2)\n",
    "        self.conv1 = dglnn.GINConv(self.gin_lin1, 'sum')\n",
    "\n",
    "        self.gin_lin2 = torch.nn.Linear(in_dim*2, in_dim)\n",
    "        self.conv2 = dglnn.GINConv(self.gin_lin2)\n",
    "        \n",
    "        # MLP\n",
    "        self.lin1 = nn.Linear(len(pathway)*in_dim*2, len(pathway))\n",
    "        if clinical_feature_num == None:\n",
    "            self.lin2 = nn.Linear(len(pathway), 1)  # not including clinical features \n",
    "        else:\n",
    "            self.lin2 = nn.Linear(len(pathway) + clinical_feature_num, 1)  # including clinical features\n",
    "        self.pathway = pathway\n",
    "\n",
    "    def forward(self, g, h, c=None):\n",
    "        # subnetwork1: GRL layers\n",
    "        h = F.relu(self.conv1(g, h))\n",
    "        h = F.relu(self.conv2(g, h))\n",
    "\n",
    "        # subnetwork2: patyway layers\n",
    "        with g.local_scope():\n",
    "            g.ndata['h'] = h\n",
    "\n",
    "            # global pooling with Set2Set: output dim = 2*node_dim\n",
    "            subgraphs = [dgl.node_subgraph(g, n) for n in self.pathway.values()]\n",
    "            graphs_ = dgl.batch(subgraphs)\n",
    "            readout1 =  Set2Set(3, 2, 1)(graphs_, graphs_.ndata['h'])\n",
    "            readout1 = readout1.reshape(1,-1).squeeze(0)\n",
    "            \n",
    "            # linear-1\n",
    "            x = nn.ReLU()(self.lin1(readout1))\n",
    "            \n",
    "            if c != None:\n",
    "                x = torch.cat([x, c], dim=0)\n",
    "            \n",
    "            # linear-2\n",
    "            logit = nn.Sigmoid()(self.lin2(x))\n",
    "\n",
    "            return logit\n",
    "\n",
    "        \n",
    "### test\n",
    "idx = 0\n",
    "model = DeepMOI(in_dim=3, pathway=pathways, clinical_feature_num=14)\n",
    "g, h = graphs[idx], graphs[idx].ndata['h']\n",
    "clinical_feature = clin_features[idx].reshape(1,-1).squeeze(0).to(torch.float32)\n",
    "model(g, h, c=clinical_feature)"
   ]
  },
  {
   "cell_type": "code",
   "execution_count": 108,
   "id": "9bb3b55a",
   "metadata": {
    "ExecuteTime": {
     "end_time": "2022-06-29T08:43:07.841432Z",
     "start_time": "2022-06-29T08:43:07.838774Z"
    }
   },
   "outputs": [
    {
     "data": {
      "text/plain": [
       "array([1, 0, 1, 0, 1, 1, 1, 0, 1, 0, 1, 1, 1, 1, 0, 1, 1, 1, 1, 1, 1, 1,\n",
       "       1, 1, 0, 1, 1, 1, 1, 1, 1, 1, 0, 1, 1, 1, 1, 1, 1, 1, 1, 1, 1, 1])"
      ]
     },
     "execution_count": 108,
     "metadata": {},
     "output_type": "execute_result"
    }
   ],
   "source": []
  },
  {
   "cell_type": "code",
   "execution_count": 106,
   "id": "b89c62a5",
   "metadata": {
    "ExecuteTime": {
     "end_time": "2022-06-29T08:42:33.853743Z",
     "start_time": "2022-06-29T08:42:15.232581Z"
    },
    "scrolled": true
   },
   "outputs": [
    {
     "data": {
      "text/plain": [
       "array([0.72712266, 0.7647083 , 0.7730331 , 0.58971685, 0.72855693,\n",
       "       0.7221746 , 0.8073716 , 0.67126787, 0.6978372 , 0.7623402 ,\n",
       "       0.6673488 , 0.77350944, 0.80925167, 0.7111525 , 0.7221822 ,\n",
       "       0.7229939 , 0.82042336, 0.7831623 , 0.7677239 , 0.74911755,\n",
       "       0.751095  , 0.81540525, 0.78435135, 0.76604235, 0.7700748 ,\n",
       "       0.77543247, 0.70801973, 0.76717377, 0.80196357, 0.7227293 ,\n",
       "       0.71504444, 0.8019791 , 0.66941315, 0.7413178 , 0.82555   ,\n",
       "       0.7465379 , 0.71073383, 0.74815136, 0.7835484 , 0.76205635,\n",
       "       0.753549  , 0.74834424, 0.71913517, 0.8510656 ], dtype=float32)"
      ]
     },
     "execution_count": 106,
     "metadata": {},
     "output_type": "execute_result"
    }
   ],
   "source": [
    "model.eval()\n",
    "logits = []\n",
    "for i in range(len(graphs_test)):\n",
    "    g = graphs_test[i]\n",
    "    c = clin_features_test[i].reshape(1,-1).squeeze(0).to(torch.float32)\n",
    "    logit = model(g,g.ndata['h'], c)\n",
    "    logits.append(logit.detach().numpy())\n",
    "logits = np.concatenate(logits)\n",
    "evaluate(logits, labels_test.detach().numpy())"
   ]
  },
  {
   "cell_type": "code",
   "execution_count": 109,
   "id": "8428cb6d",
   "metadata": {
    "ExecuteTime": {
     "end_time": "2022-06-29T08:43:12.954684Z",
     "start_time": "2022-06-29T08:43:12.949833Z"
    }
   },
   "outputs": [
    {
     "data": {
      "text/plain": [
       "(0.8409090909090909, 0.7181467181467182, 0.9135802469135803, 1.0, 0.0)"
      ]
     },
     "execution_count": 109,
     "metadata": {},
     "output_type": "execute_result"
    }
   ],
   "source": [
    "from util import evaluate\n"
   ]
  },
  {
   "cell_type": "code",
   "execution_count": 161,
   "id": "7fcf62cc",
   "metadata": {
    "ExecuteTime": {
     "end_time": "2022-06-29T06:52:48.445859Z",
     "start_time": "2022-06-29T06:52:44.716707Z"
    },
    "scrolled": false
   },
   "outputs": [],
   "source": [
    "logits_epoch, labels_epoch, loss_epoch = [], [], [] # for training dataset evaluation\n",
    "\n",
    "opt = torch.optim.Adam(model.parameters())\n",
    "opt.zero_grad()\n",
    "for i in range(8):\n",
    "    logit  = model(g, h)\n",
    "    loss = nn.BCELoss()(logit, label.unsqueeze(0).float())\n",
    "    loss = loss/3\n",
    "    loss.backward()\n",
    "    logits_epoch.append(logit.detach().numpy())\n",
    "    loss_epoch.append(loss.item())\n",
    "opt.step()\n",
    "opt.zero_grad()"
   ]
  },
  {
   "cell_type": "markdown",
   "id": "c4fd25b9",
   "metadata": {},
   "source": [
    "---"
   ]
  },
  {
   "cell_type": "code",
   "execution_count": 32,
   "id": "5dc80a73",
   "metadata": {
    "ExecuteTime": {
     "end_time": "2022-06-29T07:51:18.374329Z",
     "start_time": "2022-06-29T07:51:18.363522Z"
    }
   },
   "outputs": [
    {
     "data": {
      "text/plain": [
       "tensor([58.0000,  0.7653,  0.0000,  0.0000,  1.0000,  0.0000,  1.0000,  0.0000,\n",
       "         1.0000,  0.0000,  0.0000,  1.0000,  0.0000,  1.0000])"
      ]
     },
     "execution_count": 32,
     "metadata": {},
     "output_type": "execute_result"
    }
   ],
   "source": [
    "clinical_feature = clin_features[0].reshape(1,-1).squeeze(0)\n",
    "clinical_feature.to(torch.float32)"
   ]
  },
  {
   "cell_type": "code",
   "execution_count": 28,
   "id": "c9d91bb1",
   "metadata": {
    "ExecuteTime": {
     "end_time": "2022-06-29T07:49:18.408677Z",
     "start_time": "2022-06-29T07:49:18.383519Z"
    }
   },
   "outputs": [
    {
     "ename": "IndexError",
     "evalue": "Dimension out of range (expected to be in range of [-1, 0], but got 1)",
     "output_type": "error",
     "traceback": [
      "\u001b[0;31m---------------------------------------------------------------------------\u001b[0m",
      "\u001b[0;31mIndexError\u001b[0m                                Traceback (most recent call last)",
      "\u001b[0;32m/tmp/ipykernel_5653/568664346.py\u001b[0m in \u001b[0;36m<module>\u001b[0;34m\u001b[0m\n\u001b[0;32m----> 1\u001b[0;31m \u001b[0mtorch\u001b[0m\u001b[0;34m.\u001b[0m\u001b[0mcat\u001b[0m\u001b[0;34m(\u001b[0m\u001b[0;34m[\u001b[0m\u001b[0mclinical_feature\u001b[0m\u001b[0;34m,\u001b[0m \u001b[0mclinical_feature\u001b[0m\u001b[0;34m]\u001b[0m\u001b[0;34m,\u001b[0m \u001b[0mdim\u001b[0m\u001b[0;34m=\u001b[0m\u001b[0;36m1\u001b[0m\u001b[0;34m)\u001b[0m\u001b[0;34m\u001b[0m\u001b[0;34m\u001b[0m\u001b[0m\n\u001b[0m",
      "\u001b[0;31mIndexError\u001b[0m: Dimension out of range (expected to be in range of [-1, 0], but got 1)"
     ]
    }
   ],
   "source": [
    "torch.cat([clinical_feature, clinical_feature], dim=1)"
   ]
  }
 ],
 "metadata": {
  "kernelspec": {
   "display_name": "Python 3 (ipykernel)",
   "language": "python",
   "name": "python3"
  },
  "language_info": {
   "codemirror_mode": {
    "name": "ipython",
    "version": 3
   },
   "file_extension": ".py",
   "mimetype": "text/x-python",
   "name": "python",
   "nbconvert_exporter": "python",
   "pygments_lexer": "ipython3",
   "version": "3.8.12"
  },
  "toc": {
   "base_numbering": 1,
   "nav_menu": {},
   "number_sections": true,
   "sideBar": true,
   "skip_h1_title": false,
   "title_cell": "Table of Contents",
   "title_sidebar": "Contents",
   "toc_cell": false,
   "toc_position": {
    "height": "calc(100% - 180px)",
    "left": "10px",
    "top": "150px",
    "width": "453.991px"
   },
   "toc_section_display": true,
   "toc_window_display": false
  },
  "varInspector": {
   "cols": {
    "lenName": 16,
    "lenType": 16,
    "lenVar": 40
   },
   "kernels_config": {
    "python": {
     "delete_cmd_postfix": "",
     "delete_cmd_prefix": "del ",
     "library": "var_list.py",
     "varRefreshCmd": "print(var_dic_list())"
    },
    "r": {
     "delete_cmd_postfix": ") ",
     "delete_cmd_prefix": "rm(",
     "library": "var_list.r",
     "varRefreshCmd": "cat(var_dic_list()) "
    }
   },
   "types_to_exclude": [
    "module",
    "function",
    "builtin_function_or_method",
    "instance",
    "_Feature"
   ],
   "window_display": false
  }
 },
 "nbformat": 4,
 "nbformat_minor": 5
}
