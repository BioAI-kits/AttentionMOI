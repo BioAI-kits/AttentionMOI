{
 "cells": [
  {
   "cell_type": "code",
   "execution_count": 10,
   "id": "d2101de2",
   "metadata": {
    "ExecuteTime": {
     "end_time": "2022-07-01T09:00:30.278412Z",
     "start_time": "2022-07-01T09:00:30.274993Z"
    }
   },
   "outputs": [],
   "source": [
    "import dgl\n",
    "import torch as th\n",
    "from dgl.nn import Set2Set\n",
    "g1 = dgl.rand_graph(3, 4)  # g1 is a random graph with 3 nodes and 4 edges\n",
    "g1_node_feats = th.rand(3, 5)  # feature size is 5\n",
    "g1_node_feats\n",
    "g2 = dgl.rand_graph(4, 6)  # g2 is a random graph with 4 nodes and 6 edges\n",
    "g2_node_feats = th.rand(4, 5)  # feature size is 5\n",
    "g2_node_feats\n",
    "s2s = Set2Set(5, 2, 1)  # create a Set2Set layer(n_iters=2, n_layers=1)"
   ]
  },
  {
   "cell_type": "code",
   "execution_count": 13,
   "id": "63812ae7",
   "metadata": {
    "ExecuteTime": {
     "end_time": "2022-07-01T09:00:48.127566Z",
     "start_time": "2022-07-01T09:00:48.124174Z"
    }
   },
   "outputs": [
    {
     "data": {
      "text/plain": [
       "torch.Size([4, 5])"
      ]
     },
     "execution_count": 13,
     "metadata": {},
     "output_type": "execute_result"
    }
   ],
   "source": [
    "g2_node_feats.shape"
   ]
  },
  {
   "cell_type": "code",
   "execution_count": 11,
   "id": "9600ea3a",
   "metadata": {
    "ExecuteTime": {
     "end_time": "2022-07-01T09:00:40.225425Z",
     "start_time": "2022-07-01T09:00:40.213089Z"
    }
   },
   "outputs": [
    {
     "data": {
      "text/plain": [
       "tensor([[ 0.0894,  0.0833,  0.0403, -0.2006,  0.0833,  0.3035,  0.5291,  0.5147,\n",
       "          0.3638,  0.8505],\n",
       "        [ 0.0931,  0.0415,  0.0438, -0.2260,  0.1358,  0.6063,  0.7236,  0.2817,\n",
       "          0.3975,  0.5110]], grad_fn=<CatBackward>)"
      ]
     },
     "execution_count": 11,
     "metadata": {},
     "output_type": "execute_result"
    }
   ],
   "source": [
    "batch_g = dgl.batch([g1, g2])\n",
    "batch_f = th.cat([g1_node_feats, g2_node_feats], 0)\n",
    "s2s(batch_g, batch_f)"
   ]
  },
  {
   "cell_type": "code",
   "execution_count": 5,
   "id": "291bf01a",
   "metadata": {
    "ExecuteTime": {
     "end_time": "2022-07-01T03:07:37.828342Z",
     "start_time": "2022-07-01T03:07:37.825944Z"
    }
   },
   "outputs": [],
   "source": [
    "g1.ndata['h'] = g1_node_feats\n",
    "g2.ndata['h'] = g2_node_feats"
   ]
  },
  {
   "cell_type": "code",
   "execution_count": 18,
   "id": "5dd98e36",
   "metadata": {
    "ExecuteTime": {
     "end_time": "2022-07-01T03:11:34.640743Z",
     "start_time": "2022-07-01T03:11:34.637784Z"
    }
   },
   "outputs": [
    {
     "data": {
      "text/plain": [
       "Graph(num_nodes=11, num_edges=16,\n",
       "      ndata_schemes={'h': Scheme(shape=(5,), dtype=torch.float32)}\n",
       "      edata_schemes={})"
      ]
     },
     "execution_count": 18,
     "metadata": {},
     "output_type": "execute_result"
    }
   ],
   "source": [
    "batch_g = dgl.batch([g1, g2, g2])\n",
    "batch_g"
   ]
  },
  {
   "cell_type": "code",
   "execution_count": 19,
   "id": "41eaf2a9",
   "metadata": {
    "ExecuteTime": {
     "end_time": "2022-07-01T03:11:36.121587Z",
     "start_time": "2022-07-01T03:11:36.112359Z"
    }
   },
   "outputs": [],
   "source": [
    "out1 = s2s(batch_g, batch_g.ndata['h'])\n",
    "out2 = s2s(batch_g, batch_g.ndata['h'])\n",
    "out3 = s2s(batch_g, batch_g.ndata['h'])"
   ]
  },
  {
   "cell_type": "code",
   "execution_count": 20,
   "id": "4b183044",
   "metadata": {
    "ExecuteTime": {
     "end_time": "2022-07-01T03:11:37.249320Z",
     "start_time": "2022-07-01T03:11:37.246555Z"
    }
   },
   "outputs": [
    {
     "data": {
      "text/plain": [
       "Graph(num_nodes=3, num_edges=4,\n",
       "      ndata_schemes={'h': Scheme(shape=(5,), dtype=torch.float32)}\n",
       "      edata_schemes={})"
      ]
     },
     "execution_count": 20,
     "metadata": {},
     "output_type": "execute_result"
    }
   ],
   "source": [
    "g1"
   ]
  },
  {
   "cell_type": "code",
   "execution_count": 21,
   "id": "4fca8484",
   "metadata": {
    "ExecuteTime": {
     "end_time": "2022-07-01T03:11:38.313636Z",
     "start_time": "2022-07-01T03:11:38.310484Z"
    }
   },
   "outputs": [
    {
     "data": {
      "text/plain": [
       "(torch.Size([3, 10]), torch.Size([3, 10]))"
      ]
     },
     "execution_count": 21,
     "metadata": {},
     "output_type": "execute_result"
    }
   ],
   "source": [
    "out1.shape, out2.shape"
   ]
  },
  {
   "cell_type": "code",
   "execution_count": 25,
   "id": "0d0986d0",
   "metadata": {
    "ExecuteTime": {
     "end_time": "2022-07-01T03:13:22.946661Z",
     "start_time": "2022-07-01T03:13:22.944031Z"
    }
   },
   "outputs": [
    {
     "data": {
      "text/plain": [
       "torch.Size([3, 30])"
      ]
     },
     "execution_count": 25,
     "metadata": {},
     "output_type": "execute_result"
    }
   ],
   "source": [
    "out_c = th.cat([out1, out2, out3], dim=1)\n",
    "\n",
    "out_c.shape"
   ]
  },
  {
   "cell_type": "code",
   "execution_count": 27,
   "id": "cc50a28a",
   "metadata": {
    "ExecuteTime": {
     "end_time": "2022-07-01T03:14:11.522576Z",
     "start_time": "2022-07-01T03:14:11.519694Z"
    }
   },
   "outputs": [
    {
     "data": {
      "text/plain": [
       "tensor([[-0.2475],\n",
       "        [-0.0522],\n",
       "        [-0.0522]], grad_fn=<AddmmBackward>)"
      ]
     },
     "execution_count": 27,
     "metadata": {},
     "output_type": "execute_result"
    }
   ],
   "source": [
    "ps = th.nn.Linear(30, 1)(out_c)\n",
    "ps"
   ]
  },
  {
   "cell_type": "code",
   "execution_count": 40,
   "id": "25bc4111",
   "metadata": {
    "ExecuteTime": {
     "end_time": "2022-07-01T03:20:34.686771Z",
     "start_time": "2022-07-01T03:20:34.683843Z"
    }
   },
   "outputs": [],
   "source": [
    "G = dgl.rand_graph(3, 4)  # 随机生成3个节点、4条边的图\n",
    "\n",
    "fea = []\n",
    "for i in range(6):\n",
    "    fea.append(th.rand(3, 5))  # 特征size=5\n",
    "    \n",
    "G.ndata['h'] = torch.stack(fea, dim=1)"
   ]
  },
  {
   "cell_type": "code",
   "execution_count": 41,
   "id": "64109eb5",
   "metadata": {
    "ExecuteTime": {
     "end_time": "2022-07-01T03:20:42.595309Z",
     "start_time": "2022-07-01T03:20:42.592131Z"
    }
   },
   "outputs": [
    {
     "data": {
      "text/plain": [
       "tensor([[[0.4754, 0.4596, 0.4773, 0.6283, 0.7952],\n",
       "         [0.7383, 0.8701, 0.5717, 0.8621, 0.0517],\n",
       "         [0.0498, 0.9578, 0.4878, 0.0756, 0.6132],\n",
       "         [0.4826, 0.1205, 0.0670, 0.8102, 0.5228],\n",
       "         [0.1260, 0.7825, 0.4073, 0.6990, 0.9458],\n",
       "         [0.1336, 0.8573, 0.2098, 0.0808, 0.2338]],\n",
       "\n",
       "        [[0.3979, 0.9964, 0.4238, 0.3993, 0.9498],\n",
       "         [0.8939, 0.8041, 0.6637, 0.5948, 0.3417],\n",
       "         [0.7627, 0.8882, 0.5327, 0.9018, 0.2777],\n",
       "         [0.8976, 0.0442, 0.9178, 0.7698, 0.1074],\n",
       "         [0.5293, 0.7369, 0.8565, 0.7844, 0.5083],\n",
       "         [0.6876, 0.0612, 0.2960, 0.1678, 0.1868]],\n",
       "\n",
       "        [[0.8818, 0.5215, 0.7953, 0.6083, 0.4258],\n",
       "         [0.5648, 0.5319, 0.0602, 0.7194, 0.4686],\n",
       "         [0.1642, 0.0693, 0.5704, 0.9486, 0.3957],\n",
       "         [0.0661, 0.8998, 0.6139, 0.6056, 0.3794],\n",
       "         [0.7684, 0.3792, 0.7693, 0.2321, 0.7264],\n",
       "         [0.0090, 0.4281, 0.5419, 0.1503, 0.5664]]])"
      ]
     },
     "execution_count": 41,
     "metadata": {},
     "output_type": "execute_result"
    }
   ],
   "source": [
    "G.ndata['h']"
   ]
  },
  {
   "cell_type": "code",
   "execution_count": 42,
   "id": "8ae2d24d",
   "metadata": {
    "ExecuteTime": {
     "end_time": "2022-07-01T03:21:04.825107Z",
     "start_time": "2022-07-01T03:21:04.822140Z"
    }
   },
   "outputs": [
    {
     "data": {
      "text/plain": [
       "tensor([[0.4754, 0.4596, 0.4773, 0.6283, 0.7952],\n",
       "        [0.3979, 0.9964, 0.4238, 0.3993, 0.9498],\n",
       "        [0.8818, 0.5215, 0.7953, 0.6083, 0.4258]])"
      ]
     },
     "execution_count": 42,
     "metadata": {},
     "output_type": "execute_result"
    }
   ],
   "source": [
    "G.ndata['h'][:, 0, :]"
   ]
  },
  {
   "cell_type": "code",
   "execution_count": 35,
   "id": "316c5cfd",
   "metadata": {
    "ExecuteTime": {
     "end_time": "2022-07-01T03:19:09.265080Z",
     "start_time": "2022-07-01T03:19:09.262373Z"
    }
   },
   "outputs": [
    {
     "data": {
      "text/plain": [
       "torch.Size([18, 5])"
      ]
     },
     "execution_count": 35,
     "metadata": {},
     "output_type": "execute_result"
    }
   ],
   "source": [
    "import torch\n",
    "torch.cat(fea).shape"
   ]
  },
  {
   "cell_type": "code",
   "execution_count": 39,
   "id": "7e40ba74",
   "metadata": {
    "ExecuteTime": {
     "end_time": "2022-07-01T03:20:08.339601Z",
     "start_time": "2022-07-01T03:20:08.336136Z"
    }
   },
   "outputs": [
    {
     "data": {
      "text/plain": [
       "tensor([[[0.4864, 0.2104, 0.9905, 0.8266, 0.9808],\n",
       "         [0.3680, 0.1751, 0.0108, 0.1125, 0.1027],\n",
       "         [0.2422, 0.3420, 0.6271, 0.4681, 0.9145],\n",
       "         [0.7902, 0.7127, 0.7681, 0.5077, 0.6745],\n",
       "         [0.7744, 0.6377, 0.9978, 0.3322, 0.6227],\n",
       "         [0.2556, 0.9691, 0.3671, 0.4849, 0.9762]],\n",
       "\n",
       "        [[0.5817, 0.5672, 0.4390, 0.1752, 0.0644],\n",
       "         [0.8415, 0.9240, 0.4415, 0.2507, 0.3339],\n",
       "         [0.2547, 0.0550, 0.1004, 0.3742, 0.4612],\n",
       "         [0.8393, 0.9969, 0.7538, 0.1842, 0.0481],\n",
       "         [0.8833, 0.9398, 0.4658, 0.2504, 0.5731],\n",
       "         [0.1984, 0.0240, 0.2295, 0.5125, 0.7270]],\n",
       "\n",
       "        [[0.8212, 0.5205, 0.1352, 0.9839, 0.4212],\n",
       "         [0.3088, 0.6584, 0.7607, 0.7957, 0.0543],\n",
       "         [0.9893, 0.3501, 0.4128, 0.5281, 0.0037],\n",
       "         [0.3489, 0.6642, 0.2742, 0.5966, 0.3016],\n",
       "         [0.7856, 0.1893, 0.1684, 0.8229, 0.4465],\n",
       "         [0.0059, 0.4102, 0.0811, 0.5015, 0.6006]]])"
      ]
     },
     "execution_count": 39,
     "metadata": {},
     "output_type": "execute_result"
    }
   ],
   "source": [
    "torch.stack(fea, dim=1)"
   ]
  },
  {
   "cell_type": "markdown",
   "id": "eea21f94",
   "metadata": {},
   "source": [
    "# 数据存储优化"
   ]
  },
  {
   "cell_type": "code",
   "execution_count": 47,
   "id": "ae91e950",
   "metadata": {
    "ExecuteTime": {
     "end_time": "2022-07-01T03:26:03.802629Z",
     "start_time": "2022-07-01T03:26:03.796559Z"
    }
   },
   "outputs": [],
   "source": [
    "from data import *\n",
    "import pandas as pd"
   ]
  },
  {
   "cell_type": "code",
   "execution_count": 49,
   "id": "b23e89b7",
   "metadata": {
    "ExecuteTime": {
     "end_time": "2022-07-01T03:27:23.431560Z",
     "start_time": "2022-07-01T03:27:22.621836Z"
    }
   },
   "outputs": [],
   "source": [
    "omics = read_omics(omics_files=['./data/GBM/GBM.cnv.csv.gz', './data/GBM/GBM.expression.csv.gz', './data/GBM/GBM.met.csv.gz'],\n",
    "                  clin_file='./data/GBM/clinincal.csv')"
   ]
  },
  {
   "cell_type": "code",
   "execution_count": 56,
   "id": "f4a71d5d",
   "metadata": {
    "ExecuteTime": {
     "end_time": "2022-07-01T03:31:09.503187Z",
     "start_time": "2022-07-01T03:31:09.501257Z"
    }
   },
   "outputs": [],
   "source": [
    "clinical_file = './data/GBM/clinincal.csv'"
   ]
  },
  {
   "cell_type": "code",
   "execution_count": 54,
   "id": "34d15f23",
   "metadata": {
    "ExecuteTime": {
     "end_time": "2022-07-01T03:29:39.378830Z",
     "start_time": "2022-07-01T03:29:37.306242Z"
    }
   },
   "outputs": [],
   "source": [
    "base_path = './'\n",
    "ppi_1 = os.path.join(base_path, 'PPI', 'ppi_1.csv.gz')\n",
    "ppi_2 = os.path.join(base_path, 'PPI', 'ppi_2.csv.gz')\n",
    "ppi_3 = os.path.join(base_path, 'PPI', 'ppi_3.csv.gz')\n",
    "df_ppi = pd.concat([pd.read_csv(ppi_1, compression='gzip'),\n",
    "                    pd.read_csv(ppi_2, compression='gzip'),\n",
    "                    pd.read_csv(ppi_3, compression='gzip')\n",
    "                ]).reset_index(drop=True)"
   ]
  },
  {
   "cell_type": "code",
   "execution_count": 57,
   "id": "1597f9db",
   "metadata": {
    "ExecuteTime": {
     "end_time": "2022-07-01T03:31:47.157108Z",
     "start_time": "2022-07-01T03:31:11.481952Z"
    }
   },
   "outputs": [
    {
     "name": "stdout",
     "output_type": "stream",
     "text": [
      "\n",
      "[INFO] The overlaping genes number between omics and ppi dataset is: 8245\n"
     ]
    }
   ],
   "source": [
    "# obtain overlapping genes between ppi and omics\n",
    "genes = set(df_ppi.src.to_list() + df_ppi.dest.to_list()) & set(omics[0].gene.to_list())  \n",
    "print('\\n[INFO] The overlaping genes number between omics and ppi dataset is: {}'.format(len(genes)))\n",
    "\n",
    "# only keep overlapping genes for ppi\n",
    "df_ppi = df_ppi[(df_ppi.src.isin(genes)) & ((df_ppi.dest.isin(genes)))].reset_index(drop=True)\n",
    "\n",
    "# only keep overlapping genes for omic\n",
    "omics = [omic[omic.gene.isin(genes)].reset_index(drop=True) for omic in omics]\n",
    "\n",
    "# to construct id mapping dataframe\n",
    "omic = omics[0]\n",
    "id_mapping = omic[omic.gene.isin(genes)].reset_index(drop=True)[['gene']].reset_index(drop=False)\n",
    "id_mapping.columns = ['node_id', 'gene_id']\n",
    "id_mapping = id_mapping.set_index('gene_id', drop=True)\n",
    "\n",
    "# change gene_id to node_id for ppi\n",
    "df_ppi.src = df_ppi.src.map(lambda x: id_mapping.loc[x, 'node_id'])\n",
    "df_ppi.dest = df_ppi.dest.map(lambda x: id_mapping.loc[x, 'node_id'])\n",
    "\n",
    "# change gene_id to node_id for omics\n",
    "omics_ = []\n",
    "for omic in omics:\n",
    "    omic.gene = omic.gene.map(lambda x: id_mapping.loc[x, 'node_id'])\n",
    "    omic = omic.sort_values('gene').reset_index(drop=True)\n",
    "    omics_.append(omic)\n",
    "\n",
    "# read clinical file\n",
    "df_clin = read_clin(clinical_file)\n",
    "df_clin = df_clin[df_clin.patient_id.isin(omics_[0].columns[1:].values)].reset_index(drop=True)\n",
    "## if there are clinical features\n",
    "if df_clin.shape[1]>3:\n",
    "    df_clin.iloc[:, 2:] = (df_clin.iloc[:, 2:] - df_clin.iloc[:, 2:].mean()) / df_clin.iloc[:, 2:].std()  # normalization by z-score\n",
    "    clin_features = torch.tensor(df_clin.iloc[:, 2:].values).unsqueeze(2)  # clinical features, for i-th samples: clin_features[i]\n",
    "    clin_features = torch.where(clin_features.isnan(), torch.full_like(clin_features, 0), clin_features)  # fill nan with 0\n",
    "else:\n",
    "    clin_features = None\n",
    "\n",
    "# multi-omics features\n",
    "omics_tensor = []\n",
    "for omic in omics_:\n",
    "    omic_data = torch.tensor(omic.loc[:, df_clin.patient_id.values].values, dtype=torch.float32).unsqueeze(2)\n",
    "    omic_data = torch.where(omic_data.isnan(), torch.full_like(omic_data, 0), omic_data)  # fill nan with 0\n",
    "    omics_tensor.append(omic_data)\n",
    "multi_omics = torch.stack(omics_tensor, 2).squeeze(3)"
   ]
  },
  {
   "cell_type": "code",
   "execution_count": 59,
   "id": "201e95ab",
   "metadata": {
    "ExecuteTime": {
     "end_time": "2022-07-01T03:33:04.682364Z",
     "start_time": "2022-07-01T03:33:04.679855Z"
    }
   },
   "outputs": [
    {
     "data": {
      "text/plain": [
       "torch.Size([8245, 220, 3])"
      ]
     },
     "execution_count": 59,
     "metadata": {},
     "output_type": "execute_result"
    }
   ],
   "source": [
    "multi_omics.shape"
   ]
  },
  {
   "cell_type": "code",
   "execution_count": 60,
   "id": "1b0886e2",
   "metadata": {
    "ExecuteTime": {
     "end_time": "2022-07-01T03:34:07.451642Z",
     "start_time": "2022-07-01T03:34:07.013669Z"
    }
   },
   "outputs": [],
   "source": [
    "g = dgl.graph((df_ppi.src.to_list(), df_ppi.dest.to_list()))"
   ]
  },
  {
   "cell_type": "code",
   "execution_count": 62,
   "id": "24ffcd00",
   "metadata": {
    "ExecuteTime": {
     "end_time": "2022-07-01T03:34:23.863546Z",
     "start_time": "2022-07-01T03:34:23.846016Z"
    }
   },
   "outputs": [],
   "source": [
    "# add edge feature, scale to 0-1\n",
    "e = torch.tensor(df_ppi.score.values)\n",
    "e = e.reshape(-1,1)\n",
    "e = (e - e.min()) / (e.max() - e.min())\n",
    "g.edata['e'] = e"
   ]
  },
  {
   "cell_type": "code",
   "execution_count": 63,
   "id": "5c5840d7",
   "metadata": {
    "ExecuteTime": {
     "end_time": "2022-07-01T03:35:04.133014Z",
     "start_time": "2022-07-01T03:35:04.125189Z"
    }
   },
   "outputs": [],
   "source": [
    "g.ndata['h'] = multi_omics"
   ]
  },
  {
   "cell_type": "code",
   "execution_count": 64,
   "id": "a8a7b1c2",
   "metadata": {
    "ExecuteTime": {
     "end_time": "2022-07-01T03:35:06.542391Z",
     "start_time": "2022-07-01T03:35:06.539664Z"
    }
   },
   "outputs": [
    {
     "data": {
      "text/plain": [
       "Graph(num_nodes=8245, num_edges=3901426,\n",
       "      ndata_schemes={'h': Scheme(shape=(220, 3), dtype=torch.float32)}\n",
       "      edata_schemes={'e': Scheme(shape=(1,), dtype=torch.float32)})"
      ]
     },
     "execution_count": 64,
     "metadata": {},
     "output_type": "execute_result"
    }
   ],
   "source": [
    "g"
   ]
  },
  {
   "cell_type": "code",
   "execution_count": 67,
   "id": "f267a9c6",
   "metadata": {
    "ExecuteTime": {
     "end_time": "2022-07-01T03:39:04.250843Z",
     "start_time": "2022-07-01T03:39:04.233887Z"
    }
   },
   "outputs": [
    {
     "data": {
      "text/plain": [
       "tensor([1, 1, 0, 1, 1, 0, 0, 0, 1, 1, 1, 0, 1, 1, 1, 1, 1, 1, 1, 0, 1, 1, 1, 0,\n",
       "        1, 1, 1, 0, 0, 1, 1, 1, 1, 1, 1, 1, 1, 1, 1, 0, 1, 1, 1, 1, 1, 1, 1, 0,\n",
       "        1, 1, 1, 1, 1, 1, 0, 1, 1, 1, 1, 1, 1, 0, 0, 1, 0, 1, 1, 0, 1, 1, 1, 1,\n",
       "        1, 1, 1, 1, 1, 1, 1, 1, 1, 1, 1, 1, 1, 1, 1, 1, 1, 0, 1, 1, 1, 1, 1, 1,\n",
       "        1, 1, 1, 1, 1, 1, 0, 1, 0, 0, 0, 1, 0, 1, 1, 1, 1, 1, 1, 1, 1, 1, 1, 1,\n",
       "        1, 0, 1, 1, 1, 0, 1, 0, 1, 1, 1, 0, 1, 0, 0, 1, 0, 1, 1, 1, 1, 1, 0, 1,\n",
       "        1, 0, 1, 1, 0, 1, 1, 1, 1, 1, 1, 1, 1, 1, 0, 0, 0, 1, 1, 0, 1, 1, 1, 0,\n",
       "        1, 1, 0, 1, 1, 1, 1, 1, 0, 1, 1, 1, 0, 0, 0, 0, 1, 1, 1, 0, 0, 1, 1, 0,\n",
       "        1, 1, 0, 1, 1, 1, 1, 1, 1, 1, 1, 1, 1, 1, 1, 0, 1, 0, 1, 1, 0, 1, 1, 1,\n",
       "        1, 1, 1, 1])"
      ]
     },
     "execution_count": 67,
     "metadata": {},
     "output_type": "execute_result"
    }
   ],
   "source": [
    "labels = torch.tensor(df_clin.label.values, dtype=torch.long)\n",
    "\n",
    "labels"
   ]
  },
  {
   "cell_type": "code",
   "execution_count": 68,
   "id": "4c3f03bf",
   "metadata": {
    "ExecuteTime": {
     "end_time": "2022-07-01T05:52:45.320998Z",
     "start_time": "2022-07-01T05:52:45.317481Z"
    }
   },
   "outputs": [
    {
     "data": {
      "text/plain": [
       "[tensor([1, 1, 0, 1, 1, 1, 1, 0, 1, 1, 1, 1, 1, 1, 1, 1, 1, 1, 0, 1, 1, 1, 1, 1,\n",
       "         0, 0, 1, 1, 0, 1, 1, 1, 1, 1, 0, 1, 1, 0, 1, 1, 1, 1, 0, 1, 0, 1, 1, 1,\n",
       "         1, 1, 0, 1, 1, 1, 1, 1, 0, 0, 1, 0, 1, 1, 0, 1, 0, 1, 1, 0, 1, 1, 1, 1,\n",
       "         0, 1, 1, 1, 1, 1, 1, 1, 0, 1, 1, 1, 1, 0, 1, 1, 1, 1, 0, 0, 1, 0, 1, 0,\n",
       "         1, 1, 1, 1, 1, 0, 1, 1, 1, 1, 0, 1, 1, 1, 0, 0, 1, 0, 1, 1, 1, 1, 1, 0,\n",
       "         1, 0, 1, 1, 1, 1, 1, 1, 1, 1, 1, 1, 1, 1, 0, 1, 1, 0, 1, 0, 1, 1, 1, 1,\n",
       "         0, 0, 1, 0, 1, 1, 1, 1, 1, 1, 0, 0, 1, 1, 1, 1, 1, 1, 1, 0, 1]),\n",
       " tensor([1, 0, 1, 1, 1, 1, 0, 1, 1, 1, 1, 1, 1, 1, 1, 1, 1, 1, 1, 1, 0, 1, 1, 1,\n",
       "         1, 1, 1, 1, 0, 0, 1, 0, 1, 1, 1, 0, 1, 1, 1, 1, 1, 1, 0, 1, 1, 1, 0, 1,\n",
       "         0, 1, 1, 1, 1, 1, 1])]"
      ]
     },
     "execution_count": 68,
     "metadata": {},
     "output_type": "execute_result"
    }
   ],
   "source": [
    "from sklearn.model_selection import train_test_split\n",
    "\n",
    "train_test_split(labels)"
   ]
  },
  {
   "cell_type": "code",
   "execution_count": 71,
   "id": "a08549e3",
   "metadata": {
    "ExecuteTime": {
     "end_time": "2022-07-01T05:55:58.658044Z",
     "start_time": "2022-07-01T05:55:58.655391Z"
    }
   },
   "outputs": [
    {
     "data": {
      "text/plain": [
       "33"
      ]
     },
     "execution_count": 71,
     "metadata": {},
     "output_type": "execute_result"
    }
   ],
   "source": [
    "int(111*0.3)"
   ]
  },
  {
   "cell_type": "code",
   "execution_count": 74,
   "id": "2be2bcf1",
   "metadata": {
    "ExecuteTime": {
     "end_time": "2022-07-01T05:56:30.631657Z",
     "start_time": "2022-07-01T05:56:30.629117Z"
    }
   },
   "outputs": [
    {
     "data": {
      "text/plain": [
       "66"
      ]
     },
     "execution_count": 74,
     "metadata": {},
     "output_type": "execute_result"
    }
   ],
   "source": [
    "int(len(labels) * 0.3)"
   ]
  },
  {
   "cell_type": "code",
   "execution_count": 79,
   "id": "362b771c",
   "metadata": {
    "ExecuteTime": {
     "end_time": "2022-07-01T05:58:12.434668Z",
     "start_time": "2022-07-01T05:58:12.432550Z"
    }
   },
   "outputs": [],
   "source": [
    "import numpy as np\n",
    "\n",
    "idx = list(range(len(labels)))"
   ]
  },
  {
   "cell_type": "code",
   "execution_count": 83,
   "id": "b991a122",
   "metadata": {
    "ExecuteTime": {
     "end_time": "2022-07-01T05:58:43.473311Z",
     "start_time": "2022-07-01T05:58:43.453265Z"
    },
    "scrolled": true
   },
   "outputs": [
    {
     "data": {
      "text/plain": [
       "[2,\n",
       " 114,\n",
       " 98,\n",
       " 26,\n",
       " 145,\n",
       " 166,\n",
       " 134,\n",
       " 203,\n",
       " 193,\n",
       " 206,\n",
       " 152,\n",
       " 168,\n",
       " 33,\n",
       " 163,\n",
       " 126,\n",
       " 67,\n",
       " 118,\n",
       " 87,\n",
       " 19,\n",
       " 37,\n",
       " 175,\n",
       " 52,\n",
       " 111,\n",
       " 60,\n",
       " 6,\n",
       " 201,\n",
       " 106,\n",
       " 22,\n",
       " 80,\n",
       " 85,\n",
       " 21,\n",
       " 110,\n",
       " 103,\n",
       " 70,\n",
       " 159,\n",
       " 46,\n",
       " 66,\n",
       " 77,\n",
       " 102,\n",
       " 147,\n",
       " 28,\n",
       " 38,\n",
       " 3,\n",
       " 174,\n",
       " 204,\n",
       " 25,\n",
       " 185,\n",
       " 202,\n",
       " 35,\n",
       " 162,\n",
       " 108,\n",
       " 104,\n",
       " 16,\n",
       " 18,\n",
       " 56,\n",
       " 200,\n",
       " 17,\n",
       " 170,\n",
       " 24,\n",
       " 58,\n",
       " 155,\n",
       " 63,\n",
       " 68,\n",
       " 216,\n",
       " 27,\n",
       " 15]"
      ]
     },
     "execution_count": 83,
     "metadata": {},
     "output_type": "execute_result"
    }
   ],
   "source": [
    "np.random.shuffle( idx )\n",
    "idx[:66]"
   ]
  },
  {
   "cell_type": "markdown",
   "id": "034358fc",
   "metadata": {},
   "source": [
    "# 优化模型"
   ]
  },
  {
   "cell_type": "code",
   "execution_count": 1,
   "id": "97bbcab6",
   "metadata": {
    "ExecuteTime": {
     "end_time": "2022-07-01T08:56:49.112212Z",
     "start_time": "2022-07-01T08:56:48.382399Z"
    }
   },
   "outputs": [],
   "source": [
    "from data import *"
   ]
  },
  {
   "cell_type": "code",
   "execution_count": 2,
   "id": "e68742b6",
   "metadata": {
    "ExecuteTime": {
     "end_time": "2022-07-01T08:56:50.938927Z",
     "start_time": "2022-07-01T08:56:50.354048Z"
    }
   },
   "outputs": [],
   "source": [
    "omics = read_omics(omics_files=[\"./data/GBM/GBM.cnv.csv.gz\", \"./data/GBM/GBM.met.csv.gz\"], label_file=\"./data/GBM/labels.csv\", add_file=\"./data/GBM/clinincal.csv\")"
   ]
  },
  {
   "cell_type": "code",
   "execution_count": 3,
   "id": "01e2cc91",
   "metadata": {
    "ExecuteTime": {
     "end_time": "2022-07-01T08:57:30.936377Z",
     "start_time": "2022-07-01T08:56:50.989857Z"
    }
   },
   "outputs": [
    {
     "name": "stdout",
     "output_type": "stream",
     "text": [
      "\n",
      "[INFO] The overlaping genes number between omics and ppi dataset is: 8245\n"
     ]
    }
   ],
   "source": [
    "graph, labels, add_features, id_mapping = build_graph(omics=omics, label_file=\"./data/GBM/labels.csv\", add_file=\"./data/GBM/clinincal.csv\")"
   ]
  },
  {
   "cell_type": "code",
   "execution_count": 4,
   "id": "86d934a4",
   "metadata": {
    "ExecuteTime": {
     "end_time": "2022-07-01T08:57:31.011566Z",
     "start_time": "2022-07-01T08:57:31.004825Z"
    }
   },
   "outputs": [
    {
     "data": {
      "text/plain": [
       "torch.Size([8245, 220, 2])"
      ]
     },
     "execution_count": 4,
     "metadata": {},
     "output_type": "execute_result"
    }
   ],
   "source": [
    "omic_features = graph.ndata['h']\n",
    "omic_features.shape"
   ]
  },
  {
   "cell_type": "code",
   "execution_count": 5,
   "id": "128fd9de",
   "metadata": {
    "ExecuteTime": {
     "end_time": "2022-07-01T08:57:31.685021Z",
     "start_time": "2022-07-01T08:57:31.081606Z"
    }
   },
   "outputs": [],
   "source": [
    "pathway = read_pathways(id_mapping, './Pathway/pathway_genes.gmt')"
   ]
  },
  {
   "cell_type": "code",
   "execution_count": 57,
   "id": "8e021b6e",
   "metadata": {
    "ExecuteTime": {
     "end_time": "2022-07-01T09:22:31.258543Z",
     "start_time": "2022-07-01T09:22:30.674430Z"
    },
    "scrolled": true
   },
   "outputs": [
    {
     "name": "stdout",
     "output_type": "stream",
     "text": [
      "torch.Size([14, 1])\n",
      "torch.Size([857, 1])\n",
      "torch.Size([871, 1])\n"
     ]
    },
    {
     "ename": "RuntimeError",
     "evalue": "mat1 and mat2 shapes cannot be multiplied (857x12 and 10284x857)",
     "output_type": "error",
     "traceback": [
      "\u001b[0;31m---------------------------------------------------------------------------\u001b[0m",
      "\u001b[0;31mRuntimeError\u001b[0m                              Traceback (most recent call last)",
      "\u001b[0;32m/tmp/ipykernel_21938/19849786.py\u001b[0m in \u001b[0;36m<module>\u001b[0;34m\u001b[0m\n\u001b[1;32m     77\u001b[0m \u001b[0;34m\u001b[0m\u001b[0m\n\u001b[1;32m     78\u001b[0m \u001b[0mmodel\u001b[0m \u001b[0;34m=\u001b[0m \u001b[0mDeepMOI\u001b[0m\u001b[0;34m(\u001b[0m\u001b[0min_dim\u001b[0m\u001b[0;34m=\u001b[0m\u001b[0;36m2\u001b[0m\u001b[0;34m,\u001b[0m \u001b[0mpathway\u001b[0m\u001b[0;34m=\u001b[0m\u001b[0mpathway\u001b[0m\u001b[0;34m,\u001b[0m \u001b[0madd_features\u001b[0m\u001b[0;34m=\u001b[0m\u001b[0madd_features\u001b[0m\u001b[0;34m)\u001b[0m\u001b[0;34m\u001b[0m\u001b[0;34m\u001b[0m\u001b[0m\n\u001b[0;32m---> 79\u001b[0;31m \u001b[0mmodel\u001b[0m\u001b[0;34m(\u001b[0m\u001b[0mg\u001b[0m\u001b[0;34m=\u001b[0m\u001b[0mgraph\u001b[0m\u001b[0;34m,\u001b[0m \u001b[0mh\u001b[0m\u001b[0;34m=\u001b[0m\u001b[0momic_features\u001b[0m\u001b[0;34m[\u001b[0m\u001b[0;34m:\u001b[0m\u001b[0;34m,\u001b[0m \u001b[0;36m0\u001b[0m\u001b[0;34m,\u001b[0m \u001b[0;34m:\u001b[0m\u001b[0;34m]\u001b[0m\u001b[0;34m,\u001b[0m \u001b[0mc\u001b[0m\u001b[0;34m=\u001b[0m\u001b[0madd_features\u001b[0m\u001b[0;34m[\u001b[0m\u001b[0;36m0\u001b[0m\u001b[0;34m]\u001b[0m\u001b[0;34m)\u001b[0m\u001b[0;34m\u001b[0m\u001b[0;34m\u001b[0m\u001b[0m\n\u001b[0m",
      "\u001b[0;32m~/miniconda3/envs/pyg/lib/python3.8/site-packages/torch/nn/modules/module.py\u001b[0m in \u001b[0;36m_call_impl\u001b[0;34m(self, *input, **kwargs)\u001b[0m\n\u001b[1;32m    887\u001b[0m             \u001b[0mresult\u001b[0m \u001b[0;34m=\u001b[0m \u001b[0mself\u001b[0m\u001b[0;34m.\u001b[0m\u001b[0m_slow_forward\u001b[0m\u001b[0;34m(\u001b[0m\u001b[0;34m*\u001b[0m\u001b[0minput\u001b[0m\u001b[0;34m,\u001b[0m \u001b[0;34m**\u001b[0m\u001b[0mkwargs\u001b[0m\u001b[0;34m)\u001b[0m\u001b[0;34m\u001b[0m\u001b[0;34m\u001b[0m\u001b[0m\n\u001b[1;32m    888\u001b[0m         \u001b[0;32melse\u001b[0m\u001b[0;34m:\u001b[0m\u001b[0;34m\u001b[0m\u001b[0;34m\u001b[0m\u001b[0m\n\u001b[0;32m--> 889\u001b[0;31m             \u001b[0mresult\u001b[0m \u001b[0;34m=\u001b[0m \u001b[0mself\u001b[0m\u001b[0;34m.\u001b[0m\u001b[0mforward\u001b[0m\u001b[0;34m(\u001b[0m\u001b[0;34m*\u001b[0m\u001b[0minput\u001b[0m\u001b[0;34m,\u001b[0m \u001b[0;34m**\u001b[0m\u001b[0mkwargs\u001b[0m\u001b[0;34m)\u001b[0m\u001b[0;34m\u001b[0m\u001b[0;34m\u001b[0m\u001b[0m\n\u001b[0m\u001b[1;32m    890\u001b[0m         for hook in itertools.chain(\n\u001b[1;32m    891\u001b[0m                 \u001b[0m_global_forward_hooks\u001b[0m\u001b[0;34m.\u001b[0m\u001b[0mvalues\u001b[0m\u001b[0;34m(\u001b[0m\u001b[0;34m)\u001b[0m\u001b[0;34m,\u001b[0m\u001b[0;34m\u001b[0m\u001b[0;34m\u001b[0m\u001b[0m\n",
      "\u001b[0;32m/tmp/ipykernel_21938/19849786.py\u001b[0m in \u001b[0;36mforward\u001b[0;34m(self, g, h, c)\u001b[0m\n\u001b[1;32m     62\u001b[0m \u001b[0;34m\u001b[0m\u001b[0m\n\u001b[1;32m     63\u001b[0m             \u001b[0;31m# linear-1\u001b[0m\u001b[0;34m\u001b[0m\u001b[0;34m\u001b[0m\u001b[0;34m\u001b[0m\u001b[0m\n\u001b[0;32m---> 64\u001b[0;31m             \u001b[0mx\u001b[0m \u001b[0;34m=\u001b[0m \u001b[0mnn\u001b[0m\u001b[0;34m.\u001b[0m\u001b[0mTanh\u001b[0m\u001b[0;34m(\u001b[0m\u001b[0;34m)\u001b[0m\u001b[0;34m(\u001b[0m\u001b[0mself\u001b[0m\u001b[0;34m.\u001b[0m\u001b[0mlin1\u001b[0m\u001b[0;34m(\u001b[0m\u001b[0mreadout\u001b[0m\u001b[0;34m)\u001b[0m\u001b[0;34m)\u001b[0m\u001b[0;34m\u001b[0m\u001b[0;34m\u001b[0m\u001b[0m\n\u001b[0m\u001b[1;32m     65\u001b[0m             \u001b[0mprint\u001b[0m\u001b[0;34m(\u001b[0m\u001b[0mx\u001b[0m\u001b[0;34m)\u001b[0m\u001b[0;34m\u001b[0m\u001b[0;34m\u001b[0m\u001b[0m\n\u001b[1;32m     66\u001b[0m             \u001b[0;32mif\u001b[0m \u001b[0mc\u001b[0m \u001b[0;34m!=\u001b[0m \u001b[0;32mNone\u001b[0m\u001b[0;34m:\u001b[0m\u001b[0;34m\u001b[0m\u001b[0;34m\u001b[0m\u001b[0m\n",
      "\u001b[0;32m~/miniconda3/envs/pyg/lib/python3.8/site-packages/torch/nn/modules/module.py\u001b[0m in \u001b[0;36m_call_impl\u001b[0;34m(self, *input, **kwargs)\u001b[0m\n\u001b[1;32m    887\u001b[0m             \u001b[0mresult\u001b[0m \u001b[0;34m=\u001b[0m \u001b[0mself\u001b[0m\u001b[0;34m.\u001b[0m\u001b[0m_slow_forward\u001b[0m\u001b[0;34m(\u001b[0m\u001b[0;34m*\u001b[0m\u001b[0minput\u001b[0m\u001b[0;34m,\u001b[0m \u001b[0;34m**\u001b[0m\u001b[0mkwargs\u001b[0m\u001b[0;34m)\u001b[0m\u001b[0;34m\u001b[0m\u001b[0;34m\u001b[0m\u001b[0m\n\u001b[1;32m    888\u001b[0m         \u001b[0;32melse\u001b[0m\u001b[0;34m:\u001b[0m\u001b[0;34m\u001b[0m\u001b[0;34m\u001b[0m\u001b[0m\n\u001b[0;32m--> 889\u001b[0;31m             \u001b[0mresult\u001b[0m \u001b[0;34m=\u001b[0m \u001b[0mself\u001b[0m\u001b[0;34m.\u001b[0m\u001b[0mforward\u001b[0m\u001b[0;34m(\u001b[0m\u001b[0;34m*\u001b[0m\u001b[0minput\u001b[0m\u001b[0;34m,\u001b[0m \u001b[0;34m**\u001b[0m\u001b[0mkwargs\u001b[0m\u001b[0;34m)\u001b[0m\u001b[0;34m\u001b[0m\u001b[0;34m\u001b[0m\u001b[0m\n\u001b[0m\u001b[1;32m    890\u001b[0m         for hook in itertools.chain(\n\u001b[1;32m    891\u001b[0m                 \u001b[0m_global_forward_hooks\u001b[0m\u001b[0;34m.\u001b[0m\u001b[0mvalues\u001b[0m\u001b[0;34m(\u001b[0m\u001b[0;34m)\u001b[0m\u001b[0;34m,\u001b[0m\u001b[0;34m\u001b[0m\u001b[0;34m\u001b[0m\u001b[0m\n",
      "\u001b[0;32m~/miniconda3/envs/pyg/lib/python3.8/site-packages/torch/nn/modules/linear.py\u001b[0m in \u001b[0;36mforward\u001b[0;34m(self, input)\u001b[0m\n\u001b[1;32m     92\u001b[0m \u001b[0;34m\u001b[0m\u001b[0m\n\u001b[1;32m     93\u001b[0m     \u001b[0;32mdef\u001b[0m \u001b[0mforward\u001b[0m\u001b[0;34m(\u001b[0m\u001b[0mself\u001b[0m\u001b[0;34m,\u001b[0m \u001b[0minput\u001b[0m\u001b[0;34m:\u001b[0m \u001b[0mTensor\u001b[0m\u001b[0;34m)\u001b[0m \u001b[0;34m->\u001b[0m \u001b[0mTensor\u001b[0m\u001b[0;34m:\u001b[0m\u001b[0;34m\u001b[0m\u001b[0;34m\u001b[0m\u001b[0m\n\u001b[0;32m---> 94\u001b[0;31m         \u001b[0;32mreturn\u001b[0m \u001b[0mF\u001b[0m\u001b[0;34m.\u001b[0m\u001b[0mlinear\u001b[0m\u001b[0;34m(\u001b[0m\u001b[0minput\u001b[0m\u001b[0;34m,\u001b[0m \u001b[0mself\u001b[0m\u001b[0;34m.\u001b[0m\u001b[0mweight\u001b[0m\u001b[0;34m,\u001b[0m \u001b[0mself\u001b[0m\u001b[0;34m.\u001b[0m\u001b[0mbias\u001b[0m\u001b[0;34m)\u001b[0m\u001b[0;34m\u001b[0m\u001b[0;34m\u001b[0m\u001b[0m\n\u001b[0m\u001b[1;32m     95\u001b[0m \u001b[0;34m\u001b[0m\u001b[0m\n\u001b[1;32m     96\u001b[0m     \u001b[0;32mdef\u001b[0m \u001b[0mextra_repr\u001b[0m\u001b[0;34m(\u001b[0m\u001b[0mself\u001b[0m\u001b[0;34m)\u001b[0m \u001b[0;34m->\u001b[0m \u001b[0mstr\u001b[0m\u001b[0;34m:\u001b[0m\u001b[0;34m\u001b[0m\u001b[0;34m\u001b[0m\u001b[0m\n",
      "\u001b[0;32m~/miniconda3/envs/pyg/lib/python3.8/site-packages/torch/nn/functional.py\u001b[0m in \u001b[0;36mlinear\u001b[0;34m(input, weight, bias)\u001b[0m\n\u001b[1;32m   1751\u001b[0m     \u001b[0;32mif\u001b[0m \u001b[0mhas_torch_function_variadic\u001b[0m\u001b[0;34m(\u001b[0m\u001b[0minput\u001b[0m\u001b[0;34m,\u001b[0m \u001b[0mweight\u001b[0m\u001b[0;34m)\u001b[0m\u001b[0;34m:\u001b[0m\u001b[0;34m\u001b[0m\u001b[0;34m\u001b[0m\u001b[0m\n\u001b[1;32m   1752\u001b[0m         \u001b[0;32mreturn\u001b[0m \u001b[0mhandle_torch_function\u001b[0m\u001b[0;34m(\u001b[0m\u001b[0mlinear\u001b[0m\u001b[0;34m,\u001b[0m \u001b[0;34m(\u001b[0m\u001b[0minput\u001b[0m\u001b[0;34m,\u001b[0m \u001b[0mweight\u001b[0m\u001b[0;34m)\u001b[0m\u001b[0;34m,\u001b[0m \u001b[0minput\u001b[0m\u001b[0;34m,\u001b[0m \u001b[0mweight\u001b[0m\u001b[0;34m,\u001b[0m \u001b[0mbias\u001b[0m\u001b[0;34m=\u001b[0m\u001b[0mbias\u001b[0m\u001b[0;34m)\u001b[0m\u001b[0;34m\u001b[0m\u001b[0;34m\u001b[0m\u001b[0m\n\u001b[0;32m-> 1753\u001b[0;31m     \u001b[0;32mreturn\u001b[0m \u001b[0mtorch\u001b[0m\u001b[0;34m.\u001b[0m\u001b[0m_C\u001b[0m\u001b[0;34m.\u001b[0m\u001b[0m_nn\u001b[0m\u001b[0;34m.\u001b[0m\u001b[0mlinear\u001b[0m\u001b[0;34m(\u001b[0m\u001b[0minput\u001b[0m\u001b[0;34m,\u001b[0m \u001b[0mweight\u001b[0m\u001b[0;34m,\u001b[0m \u001b[0mbias\u001b[0m\u001b[0;34m)\u001b[0m\u001b[0;34m\u001b[0m\u001b[0;34m\u001b[0m\u001b[0m\n\u001b[0m\u001b[1;32m   1754\u001b[0m \u001b[0;34m\u001b[0m\u001b[0m\n\u001b[1;32m   1755\u001b[0m \u001b[0;34m\u001b[0m\u001b[0m\n",
      "\u001b[0;31mRuntimeError\u001b[0m: mat1 and mat2 shapes cannot be multiplied (857x12 and 10284x857)"
     ]
    }
   ],
   "source": [
    "import torch\n",
    "import torch.nn as nn\n",
    "import torch.nn.functional as F\n",
    "import dgl\n",
    "import dgl.nn.pytorch as dglnn\n",
    "from dgl.nn import Set2Set\n",
    "\n",
    "class DeepMOI(nn.Module):\n",
    "    def __init__(self, in_dim, pathway, add_features=None):\n",
    "        \"\"\"\n",
    "        in_dim: == omics' number\n",
    "        hidden_dim: == \n",
    "        \"\"\"\n",
    "        super(DeepMOI, self).__init__()\n",
    "        # GNN\n",
    "        self.gin_lin1 = torch.nn.Linear(in_dim, in_dim*2)\n",
    "        self.conv1 = dglnn.GINConv(self.gin_lin1, 'sum')\n",
    "\n",
    "        self.gin_lin2 = torch.nn.Linear(in_dim*2, in_dim)\n",
    "        self.conv2 = dglnn.GINConv(self.gin_lin2)\n",
    "\n",
    "        # GlobalPooling\n",
    "        self.sns1 = Set2Set(in_dim, 2, 1)\n",
    "        self.sns2 = Set2Set(in_dim, 2, 1)\n",
    "        self.sns3 = Set2Set(in_dim, 2, 1)\n",
    "        self.ln_gpool = nn.Linear(in_dim*2*3, 1)\n",
    "        \n",
    "        # MLP\n",
    "        if add_features == None:\n",
    "            self.lin1 = nn.Linear(len(pathway), 1)  # not including clinical features \n",
    "        else:\n",
    "            add_num = add_features.shape[1]\n",
    "            self.lin1 = nn.Linear(len(pathway) + add_num, 128)  # including clinical features\n",
    "        \n",
    "        self.lin3 = nn.Linear(128, 1)\n",
    "        \n",
    "        self.pathway = pathway\n",
    "\n",
    "\n",
    "    def forward(self, g, h, c):\n",
    "        print(c.shape)\n",
    "        \n",
    "        # subnetwork1: GRL layers\n",
    "        h = F.relu(self.conv1(g, h))\n",
    "        h = F.relu(self.conv2(g, h))\n",
    "        # subnetwork2: patyway layers\n",
    "        with g.local_scope():\n",
    "            g.ndata['h'] = h\n",
    "            # global pooling with Set2Set: output dim = 2*node_dim\n",
    "            subgraphs = [dgl.node_subgraph(g, n) for n in self.pathway.values()]\n",
    "            graphs_ = dgl.batch(subgraphs)\n",
    "            readout1 =  self.sns1(graphs_, graphs_.ndata['h'])\n",
    "            readout2 =  self.sns2(graphs_, graphs_.ndata['h'])\n",
    "            readout3 =  self.sns3(graphs_, graphs_.ndata['h'])\n",
    "            readout = torch.stack([readout1, readout2, readout3], dim=1)\n",
    "            readout = readout.reshape(readout.shape[0], -1)\n",
    "            s = self.ln_gpool(readout)\n",
    "            print(s.shape)\n",
    "            print(torch.cat([s, c]).shape)\n",
    "            x = torch.cat([s, c])  # add features\n",
    "            \n",
    "            # linear-1\n",
    "            x = nn.Tanh()(self.lin1(x))\n",
    "            print(x)\n",
    "            if c != None:\n",
    "                x = torch.cat([x, c], dim=0)\n",
    "            \n",
    "            # linear-2\n",
    "            x = nn.ReLU()(self.lin2(x))\n",
    "\n",
    "            # linear-3\n",
    "            logit = nn.Sigmoid()(self.lin3(x))\n",
    "\n",
    "            return logit\n",
    "        \n",
    "        \n",
    "model = DeepMOI(in_dim=2, pathway=pathway, add_features=add_features)\n",
    "model(g=graph, h=omic_features[:, 0, :], c=add_features[0])"
   ]
  },
  {
   "cell_type": "code",
   "execution_count": 9,
   "id": "1d8a447f",
   "metadata": {
    "ExecuteTime": {
     "end_time": "2022-07-01T08:59:33.901953Z",
     "start_time": "2022-07-01T08:59:33.899062Z"
    }
   },
   "outputs": [
    {
     "data": {
      "text/plain": [
       "tensor([[0.2638, 0.3355],\n",
       "        [0.2578, 0.8173],\n",
       "        [0.1479, 0.2869],\n",
       "        ...,\n",
       "        [0.1232, 0.0262],\n",
       "        [0.2596, 0.0152],\n",
       "        [0.3604, 0.0878]])"
      ]
     },
     "execution_count": 9,
     "metadata": {},
     "output_type": "execute_result"
    }
   ],
   "source": [
    "omic_features[:, 0, :]"
   ]
  },
  {
   "cell_type": "code",
   "execution_count": 14,
   "id": "6de99b45",
   "metadata": {
    "ExecuteTime": {
     "end_time": "2022-07-01T09:01:22.548470Z",
     "start_time": "2022-07-01T09:01:22.539159Z"
    }
   },
   "outputs": [
    {
     "data": {
      "text/plain": [
       "tensor([[-0.1176,  0.1240,  0.2653,  0.2034]], grad_fn=<CatBackward>)"
      ]
     },
     "execution_count": 14,
     "metadata": {},
     "output_type": "execute_result"
    }
   ],
   "source": [
    "Set2Set(2, 2, 1)(graph, omic_features[:, 0, :])"
   ]
  },
  {
   "cell_type": "code",
   "execution_count": 17,
   "id": "c5db206c",
   "metadata": {
    "ExecuteTime": {
     "end_time": "2022-07-01T08:46:06.135664Z",
     "start_time": "2022-07-01T08:46:06.133324Z"
    }
   },
   "outputs": [
    {
     "data": {
      "text/plain": [
       "torch.Size([8245, 2])"
      ]
     },
     "execution_count": 17,
     "metadata": {},
     "output_type": "execute_result"
    }
   ],
   "source": [
    "graph.ndata['h'].shape"
   ]
  }
 ],
 "metadata": {
  "kernelspec": {
   "display_name": "Python 3 (ipykernel)",
   "language": "python",
   "name": "python3"
  },
  "language_info": {
   "codemirror_mode": {
    "name": "ipython",
    "version": 3
   },
   "file_extension": ".py",
   "mimetype": "text/x-python",
   "name": "python",
   "nbconvert_exporter": "python",
   "pygments_lexer": "ipython3",
   "version": "3.8.12"
  },
  "toc": {
   "base_numbering": 1,
   "nav_menu": {},
   "number_sections": true,
   "sideBar": true,
   "skip_h1_title": false,
   "title_cell": "Table of Contents",
   "title_sidebar": "Contents",
   "toc_cell": false,
   "toc_position": {
    "height": "calc(100% - 180px)",
    "left": "10px",
    "top": "150px",
    "width": "453.991px"
   },
   "toc_section_display": true,
   "toc_window_display": true
  },
  "varInspector": {
   "cols": {
    "lenName": 16,
    "lenType": 16,
    "lenVar": 40
   },
   "kernels_config": {
    "python": {
     "delete_cmd_postfix": "",
     "delete_cmd_prefix": "del ",
     "library": "var_list.py",
     "varRefreshCmd": "print(var_dic_list())"
    },
    "r": {
     "delete_cmd_postfix": ") ",
     "delete_cmd_prefix": "rm(",
     "library": "var_list.r",
     "varRefreshCmd": "cat(var_dic_list()) "
    }
   },
   "types_to_exclude": [
    "module",
    "function",
    "builtin_function_or_method",
    "instance",
    "_Feature"
   ],
   "window_display": false
  }
 },
 "nbformat": 4,
 "nbformat_minor": 5
}
