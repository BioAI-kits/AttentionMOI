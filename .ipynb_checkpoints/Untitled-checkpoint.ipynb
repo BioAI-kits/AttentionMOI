{
 "cells": [
  {
   "cell_type": "code",
   "execution_count": 11,
   "id": "6948a309",
   "metadata": {
    "ExecuteTime": {
     "end_time": "2022-06-29T07:42:20.899272Z",
     "start_time": "2022-06-29T07:42:20.896533Z"
    }
   },
   "outputs": [],
   "source": [
    "import pandas as pd\n",
    "import numpy as np\n",
    "import torch\n",
    "import torch.nn.functional as F\n",
    "import dgl\n",
    "from dgl.nn import Set2Set\n",
    "from data import read_omics, read_clin, build_graph, read_pathways\n",
    "from util import evaluate, check_files, clin_process_tsi"
   ]
  },
  {
   "cell_type": "code",
   "execution_count": 2,
   "id": "2dc37fc5",
   "metadata": {
    "ExecuteTime": {
     "end_time": "2022-06-29T07:40:24.833938Z",
     "start_time": "2022-06-29T07:38:02.653467Z"
    }
   },
   "outputs": [
    {
     "name": "stdout",
     "output_type": "stream",
     "text": [
      "\n",
      "[INFO] The overlaping genes number between omics and ppi dataset is: 8245\n"
     ]
    }
   ],
   "source": [
    "clin_process_tsi(in_file='./data/GBM/Clinical.tsi', out_file='./data/GBM/clinincal.csv')\n",
    "\n",
    "from data import read_omics, read_clin\n",
    "omics_files = ['./data/GBM/GBM.cnv.csv.gz', './data/GBM/GBM.expression.csv.gz', './data/GBM/GBM.met.csv.gz']\n",
    "omics = read_omics(omics_files=omics_files, clin_file= './data/GBM/clinincal.csv')\n",
    "\n",
    "from data import build_graph\n",
    "\n",
    "graphs, labels, clin_features, id_mapping = build_graph(omics=omics, clinical_file='./data/GBM/clinincal.csv')"
   ]
  },
  {
   "cell_type": "code",
   "execution_count": 3,
   "id": "8a68f7cd",
   "metadata": {
    "ExecuteTime": {
     "end_time": "2022-06-29T07:40:25.546309Z",
     "start_time": "2022-06-29T07:40:24.903038Z"
    }
   },
   "outputs": [],
   "source": [
    "pathways = read_pathways(id_mapping=id_mapping, file=\"./Pathway/pathway_genes.gmt\")"
   ]
  },
  {
   "cell_type": "code",
   "execution_count": 22,
   "id": "5125ef09",
   "metadata": {
    "ExecuteTime": {
     "end_time": "2022-06-29T07:45:47.553758Z",
     "start_time": "2022-06-29T07:45:47.547948Z"
    }
   },
   "outputs": [
    {
     "ename": "SyntaxError",
     "evalue": "invalid syntax (2168570071.py, line 32)",
     "output_type": "error",
     "traceback": [
      "\u001b[0;36m  File \u001b[0;32m\"/tmp/ipykernel_5653/2168570071.py\"\u001b[0;36m, line \u001b[0;32m32\u001b[0m\n\u001b[0;31m    self.lin2 = nn.Linear(len(pathway) + , 1)  # including clinical features\u001b[0m\n\u001b[0m                                         ^\u001b[0m\n\u001b[0;31mSyntaxError\u001b[0m\u001b[0;31m:\u001b[0m invalid syntax\n"
     ]
    }
   ],
   "source": [
    "import sys, os, argparse, warnings\n",
    "import numpy as np\n",
    "import pandas as pd\n",
    "import torch\n",
    "import torch.nn as nn\n",
    "import torch.nn.functional as F\n",
    "import dgl\n",
    "import dgl.nn.pytorch as dglnn\n",
    "from dgl.nn import SumPooling\n",
    "from data import read_omics, read_clin, build_graph, read_pathways\n",
    "from util import evaluate, check_files\n",
    "\n",
    "class DeepMOI(nn.Module):\n",
    "    def __init__(self, in_dim, pathway, clinical_feature_num=None):\n",
    "        \"\"\"\n",
    "        in_dim: == omics' number\n",
    "        hidden_dim: == \n",
    "        \"\"\"\n",
    "        super(DeepMOI, self).__init__()\n",
    "        # GNN\n",
    "        self.gin_lin1 = torch.nn.Linear(in_dim, in_dim*2)\n",
    "        self.conv1 = dglnn.GINConv(self.gin_lin1, 'sum')\n",
    "\n",
    "        self.gin_lin2 = torch.nn.Linear(in_dim*2, in_dim)\n",
    "        self.conv2 = dglnn.GINConv(self.gin_lin2)\n",
    "        \n",
    "        # MLP\n",
    "        self.lin1 = nn.Linear(len(pathway)*in_dim*2, len(pathway))\n",
    "        if clinical_features == None:\n",
    "            self.lin2 = nn.Linear(len(pathway), 1)  # not including clinical features \n",
    "        else:\n",
    "            self.lin2 = nn.Linear(len(pathway) + clinical_feature_num, 1)  # including clinical features\n",
    "        self.pathway = pathway\n",
    "\n",
    "    def forward(self, g, h):\n",
    "        # subnetwork1: GRL layers\n",
    "        h = F.relu(self.conv1(g, h))\n",
    "        h = F.relu(self.conv2(g, h))\n",
    "\n",
    "        # subnetwork2: patyway layers\n",
    "        with g.local_scope():\n",
    "            g.ndata['h'] = h\n",
    "\n",
    "            # global pooling with Set2Set: output dim = 2*node_dim\n",
    "            subgraphs = [dgl.node_subgraph(g, n) for n in self.pathway.values()]\n",
    "            graphs_ = dgl.batch(subgraphs)\n",
    "            readout1 =  Set2Set(3, 2, 1)(graphs_, graphs_.ndata['h'])\n",
    "            readout1 = readout1.reshape(1,-1).squeeze(0)\n",
    "            \n",
    "            # linear-1\n",
    "            x = nn.ReLU()(self.lin1(readout1))\n",
    "            print(x.shape)\n",
    "            # linear-2\n",
    "            logit = nn.Sigmoid()(self.lin2(x))\n",
    "\n",
    "            return logit\n",
    "\n",
    "        \n",
    "### test\n",
    "idx = 0\n",
    "model = DeepMOI(in_dim=3, pathway=pathways, )\n",
    "g, h = graphs[idx], graphs[idx].ndata['h']\n",
    "clinical_feature = clin_features[idx].reshape(1,-1).squeeze(0)\n",
    "model(g, h)"
   ]
  },
  {
   "cell_type": "code",
   "execution_count": 161,
   "id": "7fcf62cc",
   "metadata": {
    "ExecuteTime": {
     "end_time": "2022-06-29T06:52:48.445859Z",
     "start_time": "2022-06-29T06:52:44.716707Z"
    },
    "scrolled": false
   },
   "outputs": [],
   "source": [
    "logits_epoch, labels_epoch, loss_epoch = [], [], [] # for training dataset evaluation\n",
    "\n",
    "opt = torch.optim.Adam(model.parameters())\n",
    "opt.zero_grad()\n",
    "for i in range(8):\n",
    "    logit  = model(g, h)\n",
    "    loss = nn.BCELoss()(logit, label.unsqueeze(0).float())\n",
    "    loss = loss/3\n",
    "    loss.backward()\n",
    "    logits_epoch.append(logit.detach().numpy())\n",
    "    loss_epoch.append(loss.item())\n",
    "opt.step()\n",
    "opt.zero_grad()"
   ]
  },
  {
   "cell_type": "markdown",
   "id": "d11805d2",
   "metadata": {},
   "source": [
    "---"
   ]
  },
  {
   "cell_type": "code",
   "execution_count": 21,
   "id": "5a31b27c",
   "metadata": {
    "ExecuteTime": {
     "end_time": "2022-06-29T07:44:54.246881Z",
     "start_time": "2022-06-29T07:44:54.243474Z"
    }
   },
   "outputs": [
    {
     "data": {
      "text/plain": [
       "14"
      ]
     },
     "execution_count": 21,
     "metadata": {},
     "output_type": "execute_result"
    }
   ],
   "source": [
    "clin_features[0].reshape(1,-1).squeeze(0)"
   ]
  },
  {
   "cell_type": "code",
   "execution_count": null,
   "id": "f7253b63",
   "metadata": {},
   "outputs": [],
   "source": []
  }
 ],
 "metadata": {
  "kernelspec": {
   "display_name": "Python 3 (ipykernel)",
   "language": "python",
   "name": "python3"
  },
  "language_info": {
   "codemirror_mode": {
    "name": "ipython",
    "version": 3
   },
   "file_extension": ".py",
   "mimetype": "text/x-python",
   "name": "python",
   "nbconvert_exporter": "python",
   "pygments_lexer": "ipython3",
   "version": "3.8.12"
  },
  "toc": {
   "base_numbering": 1,
   "nav_menu": {},
   "number_sections": true,
   "sideBar": true,
   "skip_h1_title": false,
   "title_cell": "Table of Contents",
   "title_sidebar": "Contents",
   "toc_cell": false,
   "toc_position": {
    "height": "calc(100% - 180px)",
    "left": "10px",
    "top": "150px",
    "width": "453.991px"
   },
   "toc_section_display": true,
   "toc_window_display": false
  },
  "varInspector": {
   "cols": {
    "lenName": 16,
    "lenType": 16,
    "lenVar": 40
   },
   "kernels_config": {
    "python": {
     "delete_cmd_postfix": "",
     "delete_cmd_prefix": "del ",
     "library": "var_list.py",
     "varRefreshCmd": "print(var_dic_list())"
    },
    "r": {
     "delete_cmd_postfix": ") ",
     "delete_cmd_prefix": "rm(",
     "library": "var_list.r",
     "varRefreshCmd": "cat(var_dic_list()) "
    }
   },
   "types_to_exclude": [
    "module",
    "function",
    "builtin_function_or_method",
    "instance",
    "_Feature"
   ],
   "window_display": false
  }
 },
 "nbformat": 4,
 "nbformat_minor": 5
}
